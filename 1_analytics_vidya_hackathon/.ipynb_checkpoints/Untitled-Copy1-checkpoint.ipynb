{
 "cells": [
  {
   "cell_type": "code",
   "execution_count": 566,
   "metadata": {},
   "outputs": [],
   "source": [
    "import warnings\n",
    "warnings.filterwarnings('ignore')\n",
    "\n",
    "import pandas as pd\n",
    "import numpy as np\n",
    "import matplotlib.pyplot as plt\n",
    "import seaborn as sns\n",
    "from sklearn.metrics import classification_report,confusion_matrix,accuracy_score,roc_curve,auc\n",
    "\n",
    "\n",
    "pd.set_option('display.max_columns',None)"
   ]
  },
  {
   "cell_type": "code",
   "execution_count": 5,
   "metadata": {},
   "outputs": [],
   "source": [
    "data_train = pd.read_csv('train_HK6lq50.csv')\n",
    "data_test = pd.read_csv('test_wF0Ps6O.csv')"
   ]
  },
  {
   "cell_type": "code",
   "execution_count": 155,
   "metadata": {},
   "outputs": [],
   "source": [
    "df_train = data_train.copy(deep = True)\n",
    "df_test = data_train.copy(deep = True)"
   ]
  },
  {
   "cell_type": "code",
   "execution_count": 156,
   "metadata": {},
   "outputs": [
    {
     "data": {
      "text/html": [
       "<div>\n",
       "<style scoped>\n",
       "    .dataframe tbody tr th:only-of-type {\n",
       "        vertical-align: middle;\n",
       "    }\n",
       "\n",
       "    .dataframe tbody tr th {\n",
       "        vertical-align: top;\n",
       "    }\n",
       "\n",
       "    .dataframe thead th {\n",
       "        text-align: right;\n",
       "    }\n",
       "</style>\n",
       "<table border=\"1\" class=\"dataframe\">\n",
       "  <thead>\n",
       "    <tr style=\"text-align: right;\">\n",
       "      <th></th>\n",
       "      <th>id</th>\n",
       "      <th>program_id</th>\n",
       "      <th>program_type</th>\n",
       "      <th>program_duration</th>\n",
       "      <th>test_id</th>\n",
       "      <th>test_type</th>\n",
       "      <th>difficulty_level</th>\n",
       "      <th>trainee_id</th>\n",
       "      <th>gender</th>\n",
       "      <th>education</th>\n",
       "      <th>city_tier</th>\n",
       "      <th>age</th>\n",
       "      <th>total_programs_enrolled</th>\n",
       "      <th>is_handicapped</th>\n",
       "      <th>trainee_engagement_rating</th>\n",
       "      <th>is_pass</th>\n",
       "    </tr>\n",
       "  </thead>\n",
       "  <tbody>\n",
       "    <tr>\n",
       "      <th>0</th>\n",
       "      <td>9389_150</td>\n",
       "      <td>Y_1</td>\n",
       "      <td>Y</td>\n",
       "      <td>136</td>\n",
       "      <td>150</td>\n",
       "      <td>offline</td>\n",
       "      <td>intermediate</td>\n",
       "      <td>9389</td>\n",
       "      <td>M</td>\n",
       "      <td>Matriculation</td>\n",
       "      <td>3</td>\n",
       "      <td>24.0</td>\n",
       "      <td>5</td>\n",
       "      <td>N</td>\n",
       "      <td>1.0</td>\n",
       "      <td>0</td>\n",
       "    </tr>\n",
       "    <tr>\n",
       "      <th>1</th>\n",
       "      <td>16523_44</td>\n",
       "      <td>T_1</td>\n",
       "      <td>T</td>\n",
       "      <td>131</td>\n",
       "      <td>44</td>\n",
       "      <td>offline</td>\n",
       "      <td>easy</td>\n",
       "      <td>16523</td>\n",
       "      <td>F</td>\n",
       "      <td>High School Diploma</td>\n",
       "      <td>4</td>\n",
       "      <td>26.0</td>\n",
       "      <td>2</td>\n",
       "      <td>N</td>\n",
       "      <td>3.0</td>\n",
       "      <td>1</td>\n",
       "    </tr>\n",
       "    <tr>\n",
       "      <th>2</th>\n",
       "      <td>13987_178</td>\n",
       "      <td>Z_2</td>\n",
       "      <td>Z</td>\n",
       "      <td>120</td>\n",
       "      <td>178</td>\n",
       "      <td>online</td>\n",
       "      <td>easy</td>\n",
       "      <td>13987</td>\n",
       "      <td>M</td>\n",
       "      <td>Matriculation</td>\n",
       "      <td>1</td>\n",
       "      <td>40.0</td>\n",
       "      <td>1</td>\n",
       "      <td>N</td>\n",
       "      <td>2.0</td>\n",
       "      <td>1</td>\n",
       "    </tr>\n",
       "    <tr>\n",
       "      <th>3</th>\n",
       "      <td>13158_32</td>\n",
       "      <td>T_2</td>\n",
       "      <td>T</td>\n",
       "      <td>117</td>\n",
       "      <td>32</td>\n",
       "      <td>offline</td>\n",
       "      <td>easy</td>\n",
       "      <td>13158</td>\n",
       "      <td>F</td>\n",
       "      <td>Matriculation</td>\n",
       "      <td>3</td>\n",
       "      <td>NaN</td>\n",
       "      <td>4</td>\n",
       "      <td>N</td>\n",
       "      <td>1.0</td>\n",
       "      <td>1</td>\n",
       "    </tr>\n",
       "    <tr>\n",
       "      <th>4</th>\n",
       "      <td>10591_84</td>\n",
       "      <td>V_3</td>\n",
       "      <td>V</td>\n",
       "      <td>131</td>\n",
       "      <td>84</td>\n",
       "      <td>offline</td>\n",
       "      <td>intermediate</td>\n",
       "      <td>10591</td>\n",
       "      <td>F</td>\n",
       "      <td>High School Diploma</td>\n",
       "      <td>1</td>\n",
       "      <td>42.0</td>\n",
       "      <td>2</td>\n",
       "      <td>N</td>\n",
       "      <td>4.0</td>\n",
       "      <td>1</td>\n",
       "    </tr>\n",
       "  </tbody>\n",
       "</table>\n",
       "</div>"
      ],
      "text/plain": [
       "          id program_id program_type  program_duration  test_id test_type  \\\n",
       "0   9389_150        Y_1            Y               136      150   offline   \n",
       "1   16523_44        T_1            T               131       44   offline   \n",
       "2  13987_178        Z_2            Z               120      178    online   \n",
       "3   13158_32        T_2            T               117       32   offline   \n",
       "4   10591_84        V_3            V               131       84   offline   \n",
       "\n",
       "  difficulty_level  trainee_id gender            education  city_tier   age  \\\n",
       "0     intermediate        9389      M        Matriculation          3  24.0   \n",
       "1             easy       16523      F  High School Diploma          4  26.0   \n",
       "2             easy       13987      M        Matriculation          1  40.0   \n",
       "3             easy       13158      F        Matriculation          3   NaN   \n",
       "4     intermediate       10591      F  High School Diploma          1  42.0   \n",
       "\n",
       "   total_programs_enrolled is_handicapped  trainee_engagement_rating  is_pass  \n",
       "0                        5              N                        1.0        0  \n",
       "1                        2              N                        3.0        1  \n",
       "2                        1              N                        2.0        1  \n",
       "3                        4              N                        1.0        1  \n",
       "4                        2              N                        4.0        1  "
      ]
     },
     "execution_count": 156,
     "metadata": {},
     "output_type": "execute_result"
    }
   ],
   "source": [
    "df_train.head()"
   ]
  },
  {
   "cell_type": "markdown",
   "metadata": {},
   "source": [
    "## Eda"
   ]
  },
  {
   "cell_type": "code",
   "execution_count": 157,
   "metadata": {},
   "outputs": [
    {
     "data": {
      "text/plain": [
       "1    50867\n",
       "0    22280\n",
       "Name: is_pass, dtype: int64"
      ]
     },
     "execution_count": 157,
     "metadata": {},
     "output_type": "execute_result"
    }
   ],
   "source": [
    "df_train.is_pass.value_counts()"
   ]
  },
  {
   "cell_type": "code",
   "execution_count": 158,
   "metadata": {},
   "outputs": [],
   "source": [
    "# for col in df_train.columns:\n",
    "#     print(col)\n",
    "#     print()\n",
    "#     print(df_train[col].value_counts())\n",
    "#     print('='*80)"
   ]
  },
  {
   "cell_type": "code",
   "execution_count": 159,
   "metadata": {},
   "outputs": [],
   "source": [
    "# df_train.groupby('gender')['is_pass'].value_counts()    # drop gender"
   ]
  },
  {
   "cell_type": "code",
   "execution_count": 160,
   "metadata": {},
   "outputs": [],
   "source": [
    "# df_train.groupby('is_handicapped')['is_pass'].value_counts(normalize = True)    # drop is_handicapped"
   ]
  },
  {
   "cell_type": "code",
   "execution_count": 161,
   "metadata": {},
   "outputs": [],
   "source": [
    "# drop program_type as program id is related "
   ]
  },
  {
   "cell_type": "code",
   "execution_count": 162,
   "metadata": {},
   "outputs": [],
   "source": [
    "# df_train.groupby('city_tier')['is_pass'].value_counts(normalize = True)    "
   ]
  },
  {
   "cell_type": "code",
   "execution_count": 163,
   "metadata": {},
   "outputs": [],
   "source": [
    "# df_train.groupby('trainee_engagement_rating')['is_pass'].value_counts(normalize = True) # cannot drop"
   ]
  },
  {
   "cell_type": "code",
   "execution_count": 164,
   "metadata": {},
   "outputs": [],
   "source": [
    "def type_casting(data):\n",
    "    df = data\n",
    "    df['program_id'] = df['program_id'].astype('object')\n",
    "    df['education'] = df['education'].astype('object')\n",
    "    df['test_type'] = df['test_type'].astype('object')\n",
    "    df['difficulty_level'] = df['difficulty_level'].astype('object')\n",
    "    \n",
    "    return(df)"
   ]
  },
  {
   "cell_type": "code",
   "execution_count": 165,
   "metadata": {},
   "outputs": [],
   "source": [
    "def drop(data):\n",
    "#     df = data.copy()\n",
    "    df = data.drop(columns = ['is_handicapped','gender','program_type','id'])\n",
    "    \n",
    "    return df\n",
    "    "
   ]
  },
  {
   "cell_type": "code",
   "execution_count": 166,
   "metadata": {},
   "outputs": [],
   "source": [
    "def label_enc(dataset):\n",
    "    from sklearn.preprocessing import LabelEncoder\n",
    "    df1 = dataset.copy()\n",
    "    df_categorical = df1.select_dtypes(include=['object'])\n",
    "\n",
    "    # apply Label encoder to df_categorical\n",
    "\n",
    "    le = LabelEncoder()\n",
    "    df_categorical = df_categorical.apply(le.fit_transform)\n",
    "    df_categorical = df_categorical.astype('object')\n",
    "\n",
    "    # concat df_categorical with original df AFTER LABEL ENCODING\n",
    "    df1 = df1.drop(df_categorical.columns, axis=1)\n",
    "    df1 = pd.concat([df1, df_categorical], axis=1)\n",
    "    \n",
    "    df_categorical =0\n",
    "    return df1"
   ]
  },
  {
   "cell_type": "code",
   "execution_count": 206,
   "metadata": {},
   "outputs": [],
   "source": [
    "def impute(data):\n",
    "    from sklearn.impute import SimpleImputer\n",
    "    \n",
    "    si = SimpleImputer()\n",
    "    array = si.fit_transform(data)\n",
    "    \n",
    "    return array\n",
    "    "
   ]
  },
  {
   "cell_type": "code",
   "execution_count": 453,
   "metadata": {},
   "outputs": [],
   "source": [
    "def standardize(dataset, X_test = None ,test = False):\n",
    "    from sklearn.preprocessing import StandardScaler\n",
    "    df1 = dataset.copy()\n",
    "    df_num = df1.select_dtypes(include=['int64','float64','int32','float32'])\n",
    "    df_num = pd.DataFrame(impute(df_num), columns = df_num.columns,index = df1.index)\n",
    "\n",
    "    se = StandardScaler()\n",
    "    df_scaled = pd.DataFrame(se.fit_transform(df_num),columns = df_num.columns, index = df_num.index)\n",
    "    \n",
    "    df_new = df1.drop(df_num.columns,axis =1)\n",
    "    df_new = pd.concat([df_scaled,df_new],axis =1)\n",
    "    \n",
    "    if test:\n",
    "        df1 = X_test.copy()\n",
    "        df_test_num = X_test.select_dtypes(include=['int64','float64','int32','float32'])\n",
    "        df_test_num = pd.DataFrame(impute(df_test_num), columns = df_test_num.columns,index = df_test_num.index)\n",
    "        \n",
    "        df_scaled = pd.DataFrame(se.transform(df_test_num),columns = df_test_num.columns, index = df_test_num.index)\n",
    "        \n",
    "        df_new_ = df1.drop(df_test_num.columns,axis =1)\n",
    "        df_new_ = pd.concat([df_new_,df_scaled],axis =1)\n",
    "    else:\n",
    "        df_new_ = 0\n",
    "    \n",
    "#     df_num ,df1,df_scaled = 0    \n",
    "    return df_new,df_new_"
   ]
  },
  {
   "cell_type": "code",
   "execution_count": 454,
   "metadata": {},
   "outputs": [],
   "source": [
    "# df = drop(df_train)\n",
    "# df = type_casting(df)\n",
    "# df = label_enc(df)\n",
    "# df_tr,_ = standardize(df)\n",
    "# # df_tr"
   ]
  },
  {
   "cell_type": "markdown",
   "metadata": {},
   "source": [
    "## Split"
   ]
  },
  {
   "cell_type": "code",
   "execution_count": 455,
   "metadata": {},
   "outputs": [],
   "source": [
    "df = drop(df_train)\n",
    "df = type_casting(df)\n",
    "df = label_enc(df)"
   ]
  },
  {
   "cell_type": "code",
   "execution_count": 517,
   "metadata": {},
   "outputs": [],
   "source": [
    "X = df.drop('is_pass',axis = 1)\n",
    "y = df.is_pass"
   ]
  },
  {
   "cell_type": "code",
   "execution_count": 518,
   "metadata": {},
   "outputs": [],
   "source": [
    "X1,_ = standardize(X)"
   ]
  },
  {
   "cell_type": "code",
   "execution_count": 519,
   "metadata": {},
   "outputs": [],
   "source": [
    "from sklearn.model_selection import train_test_split\n",
    "X_train,X_test, y_train,y_test = train_test_split(X1,y, random_state = 6, stratify = y)"
   ]
  },
  {
   "cell_type": "markdown",
   "metadata": {},
   "source": [
    "## ML models"
   ]
  },
  {
   "cell_type": "code",
   "execution_count": 520,
   "metadata": {},
   "outputs": [],
   "source": [
    "def cls(model):\n",
    "    from sklearn.metrics import classification_report,confusion_matrix,accuracy_score\n",
    "    \n",
    "    model = model()\n",
    "    model.fit(X_train, y_train)\n",
    "\n",
    "    y_predict = model.predict(X_test)\n",
    "    print(confusion_matrix(y_test,y_predict)) \n",
    "    print(accuracy_score(y_test,y_predict))"
   ]
  },
  {
   "cell_type": "code",
   "execution_count": 521,
   "metadata": {},
   "outputs": [],
   "source": [
    "# from sklearn.tree import DecisionTreeClassifier\n",
    "from sklearn.ensemble import RandomForestClassifier,AdaBoostClassifier,GradientBoostingClassifier\n",
    "from sklearn.linear_model import LogisticRegression\n",
    "from xgboost import XGBClassifier\n",
    "from sklearn.naive_bayes import GaussianNB"
   ]
  },
  {
   "cell_type": "markdown",
   "metadata": {},
   "source": [
    "### w/o dummies"
   ]
  },
  {
   "cell_type": "code",
   "execution_count": 522,
   "metadata": {
    "scrolled": true
   },
   "outputs": [
    {
     "name": "stdout",
     "output_type": "stream",
     "text": [
      "[[2833 2737]\n",
      " [2779 9938]]\n",
      "0.6983649587138404\n"
     ]
    }
   ],
   "source": [
    "cls(DecisionTreeClassifier)"
   ]
  },
  {
   "cell_type": "code",
   "execution_count": 523,
   "metadata": {},
   "outputs": [
    {
     "name": "stdout",
     "output_type": "stream",
     "text": [
      "[[ 1251  4319]\n",
      " [  905 11812]]\n",
      "0.7143325859900476\n"
     ]
    }
   ],
   "source": [
    "cls(AdaBoostClassifier)"
   ]
  },
  {
   "cell_type": "code",
   "execution_count": 524,
   "metadata": {},
   "outputs": [
    {
     "name": "stdout",
     "output_type": "stream",
     "text": [
      "[[ 2582  2988]\n",
      " [ 1704 11013]]\n",
      "0.7434242904795757\n"
     ]
    }
   ],
   "source": [
    "cls(RandomForestClassifier)"
   ]
  },
  {
   "cell_type": "code",
   "execution_count": 525,
   "metadata": {},
   "outputs": [
    {
     "name": "stdout",
     "output_type": "stream",
     "text": [
      "[[ 1374  4196]\n",
      " [  852 11865]]\n",
      "0.7239569092798163\n"
     ]
    }
   ],
   "source": [
    "cls(GradientBoostingClassifier)"
   ]
  },
  {
   "cell_type": "code",
   "execution_count": 526,
   "metadata": {},
   "outputs": [
    {
     "name": "stdout",
     "output_type": "stream",
     "text": [
      "[[ 2001  3569]\n",
      " [ 2284 10433]]\n",
      "0.6799365669601356\n"
     ]
    }
   ],
   "source": [
    "cls(GaussianNB)"
   ]
  },
  {
   "cell_type": "markdown",
   "metadata": {},
   "source": [
    "### dummies"
   ]
  },
  {
   "cell_type": "code",
   "execution_count": 527,
   "metadata": {},
   "outputs": [],
   "source": [
    "X_train_dum = pd.get_dummies(X_train, drop_first= True)\n",
    "X_test_dum = pd.get_dummies(X_test, drop_first = True)"
   ]
  },
  {
   "cell_type": "code",
   "execution_count": 553,
   "metadata": {},
   "outputs": [],
   "source": [
    "def cls1(model):\n",
    "    from sklearn.metrics import classification_report,confusion_matrix,accuracy_score,auc,roc_curve\n",
    "    \n",
    "    model = model()\n",
    "    model.fit(X_train_dum, y_train)\n",
    "\n",
    "    y_predict = model.predict(X_test_dum)\n",
    "    print(confusion_matrix(y_test,y_predict)) \n",
    "    print(accuracy_score(y_test,y_predict))\n",
    "    fpr, tpr, thresholds = roc_curve(y_test, y_predict, pos_label=None)\n",
    "    \n",
    "    print('auc :',auc(fpr, tpr))"
   ]
  },
  {
   "cell_type": "code",
   "execution_count": 556,
   "metadata": {},
   "outputs": [
    {
     "name": "stdout",
     "output_type": "stream",
     "text": [
      "[[2974 2596]\n",
      " [2788 9929]]\n",
      "0.7055832011811669\n",
      "auc : 0.6573488406434848\n"
     ]
    }
   ],
   "source": [
    "cls1(DecisionTreeClassifier)"
   ]
  },
  {
   "cell_type": "code",
   "execution_count": 557,
   "metadata": {},
   "outputs": [
    {
     "name": "stdout",
     "output_type": "stream",
     "text": [
      "[[ 2541  3029]\n",
      " [ 1740 10977]]\n",
      "0.7392136490403018\n",
      "auc : 0.6596845865293761\n"
     ]
    }
   ],
   "source": [
    "cls1(RandomForestClassifier)"
   ]
  },
  {
   "cell_type": "code",
   "execution_count": 531,
   "metadata": {},
   "outputs": [
    {
     "name": "stdout",
     "output_type": "stream",
     "text": [
      "[[ 1287  4283]\n",
      " [  906 11811]]\n",
      "0.7162465139169902\n"
     ]
    }
   ],
   "source": [
    "cls1(AdaBoostClassifier)"
   ]
  },
  {
   "cell_type": "code",
   "execution_count": 532,
   "metadata": {},
   "outputs": [
    {
     "name": "stdout",
     "output_type": "stream",
     "text": [
      "[[2469 3101]\n",
      " [3472 9245]]\n",
      "0.6405643353201728\n"
     ]
    }
   ],
   "source": [
    "cls1(GaussianNB)"
   ]
  },
  {
   "cell_type": "code",
   "execution_count": 533,
   "metadata": {},
   "outputs": [
    {
     "name": "stdout",
     "output_type": "stream",
     "text": [
      "[[ 1349  4221]\n",
      " [  824 11893]]\n",
      "0.7241209602449827\n"
     ]
    }
   ],
   "source": [
    "cls1(GradientBoostingClassifier)"
   ]
  },
  {
   "cell_type": "code",
   "execution_count": 534,
   "metadata": {},
   "outputs": [
    {
     "name": "stdout",
     "output_type": "stream",
     "text": [
      "[[ 1263  4307]\n",
      " [  912 11805]]\n",
      "0.7146060042653251\n"
     ]
    }
   ],
   "source": [
    "cls1(LogisticRegression)"
   ]
  },
  {
   "cell_type": "code",
   "execution_count": null,
   "metadata": {},
   "outputs": [],
   "source": []
  },
  {
   "cell_type": "code",
   "execution_count": 541,
   "metadata": {},
   "outputs": [
    {
     "name": "stdout",
     "output_type": "stream",
     "text": [
      "[[ 2550  3020]\n",
      " [ 1742 10975]]\n",
      "0.7395964346256904\n"
     ]
    }
   ],
   "source": [
    "\n",
    "from sklearn.feature_selection import RFE\n",
    "from sklearn.linear_model import LogisticRegression\n",
    "\n",
    "logreg = RandomForestClassifier()\n",
    "\n",
    "rfe = RFE(logreg, 20)\n",
    "rfe = rfe.fit(X_train_dum, y_train.values.ravel())\n",
    "# print(rfe.support_)\n",
    "# print(rfe.ranking_)\n",
    "\n",
    "y_predict = rfe.predict(X_test_dum)\n",
    "print(confusion_matrix(y_test,y_predict)) \n",
    "print(accuracy_score(y_test,y_predict))"
   ]
  },
  {
   "cell_type": "markdown",
   "metadata": {},
   "source": [
    "### oversampling"
   ]
  },
  {
   "cell_type": "code",
   "execution_count": 536,
   "metadata": {},
   "outputs": [],
   "source": [
    "from imblearn.over_sampling import SMOTE\n",
    "\n",
    "os = SMOTE(random_state=0)\n",
    "columns = X_train_dum.columns\n",
    "\n",
    "X_train_dum_os,y_train_os=os.fit_sample(X_train_dum, y_train)\n",
    "\n",
    "X_train_dum_os = pd.DataFrame(data=X_train_dum_os,columns=columns )\n"
   ]
  },
  {
   "cell_type": "code",
   "execution_count": 537,
   "metadata": {},
   "outputs": [
    {
     "data": {
      "text/plain": [
       "(76300, 36)"
      ]
     },
     "execution_count": 537,
     "metadata": {},
     "output_type": "execute_result"
    }
   ],
   "source": [
    "X_train_dum_os.shape"
   ]
  },
  {
   "cell_type": "code",
   "execution_count": 538,
   "metadata": {},
   "outputs": [
    {
     "data": {
      "text/plain": [
       "(54860, 36)"
      ]
     },
     "execution_count": 538,
     "metadata": {},
     "output_type": "execute_result"
    }
   ],
   "source": [
    "X_train_dum.shape"
   ]
  },
  {
   "cell_type": "code",
   "execution_count": 540,
   "metadata": {},
   "outputs": [
    {
     "data": {
      "text/plain": [
       "1    38150\n",
       "0    38150\n",
       "Name: is_pass, dtype: int64"
      ]
     },
     "execution_count": 540,
     "metadata": {},
     "output_type": "execute_result"
    }
   ],
   "source": [
    "y_train_os.value_counts()"
   ]
  },
  {
   "cell_type": "code",
   "execution_count": 560,
   "metadata": {},
   "outputs": [],
   "source": [
    "def cls_os(model):\n",
    "    from sklearn.metrics import classification_report,confusion_matrix,accuracy_score,roc_curve,auc\n",
    "    \n",
    "    model = model()\n",
    "    model.fit(X_train_dum_os, y_train_os)\n",
    "\n",
    "    y_predict = model.predict(X_test_dum)\n",
    "    print(confusion_matrix(y_test,y_predict)) \n",
    "    print(accuracy_score(y_test,y_predict))\n",
    "    \n",
    "    fpr, tpr, thresholds = roc_curve(y_test, y_predict, pos_label=None)\n",
    "    print('auc :',auc(fpr, tpr))\n",
    "    "
   ]
  },
  {
   "cell_type": "code",
   "execution_count": 561,
   "metadata": {},
   "outputs": [
    {
     "name": "stdout",
     "output_type": "stream",
     "text": [
      "[[ 2918  2652]\n",
      " [ 2223 10494]]\n",
      "0.7334171816044185\n",
      "auc : 0.6745362693938435\n"
     ]
    }
   ],
   "source": [
    "cls_os(RandomForestClassifier)"
   ]
  },
  {
   "cell_type": "code",
   "execution_count": 562,
   "metadata": {},
   "outputs": [
    {
     "name": "stdout",
     "output_type": "stream",
     "text": [
      "[[2949 2621]\n",
      " [2976 9741]]\n",
      "0.6939355826543446\n",
      "auc : 0.6477129950451543\n"
     ]
    }
   ],
   "source": [
    "cls_os(DecisionTreeClassifier)"
   ]
  },
  {
   "cell_type": "code",
   "execution_count": 563,
   "metadata": {},
   "outputs": [
    {
     "name": "stdout",
     "output_type": "stream",
     "text": [
      "[[3570 2000]\n",
      " [4325 8392]]\n",
      "0.6541258817739378\n",
      "auc : 0.6504188190675935\n"
     ]
    }
   ],
   "source": [
    "cls_os(LogisticRegression)"
   ]
  },
  {
   "cell_type": "code",
   "execution_count": 564,
   "metadata": {},
   "outputs": [
    {
     "name": "stdout",
     "output_type": "stream",
     "text": [
      "[[3331 2239]\n",
      " [3886 8831]]\n",
      "0.6650626127850385\n",
      "auc : 0.6462249601849064\n"
     ]
    }
   ],
   "source": [
    "cls_os(AdaBoostClassifier)"
   ]
  },
  {
   "cell_type": "code",
   "execution_count": null,
   "metadata": {},
   "outputs": [],
   "source": []
  },
  {
   "cell_type": "code",
   "execution_count": 565,
   "metadata": {},
   "outputs": [],
   "source": [
    "RandomForestClassifier(bootstrap=True, ccp_alpha=0.0, class_weight=None,\n",
    "                       criterion='gini', max_depth=60, max_features='sqrt',\n",
    "                       max_leaf_nodes=None, max_samples=None,\n",
    "                       min_impurity_decrease=0.0, min_impurity_split=None,\n",
    "                       min_samples_leaf=2, min_samples_split=2,\n",
    "                       min_weight_fraction_leaf=0.0, n_estimators=100,\n",
    "                       n_jobs=-1, oob_score=False, random_state=5, verbose=0,\n",
    "                       warm_start=False)"
   ]
  },
  {
   "cell_type": "code",
   "execution_count": 567,
   "metadata": {},
   "outputs": [
    {
     "name": "stdout",
     "output_type": "stream",
     "text": [
      "[[ 3025  2545]\n",
      " [ 2230 10487]]\n",
      "0.7388855471099688\n",
      "auc : 0.6838660741802383\n"
     ]
    }
   ],
   "source": [
    "\n",
    "model = RandomForestClassifier(bootstrap=True, ccp_alpha=0.0, class_weight=None,\n",
    "                       criterion='gini', max_depth=60, max_features='sqrt',\n",
    "                       max_leaf_nodes=None, max_samples=None,\n",
    "                       min_impurity_decrease=0.0, min_impurity_split=None,\n",
    "                       min_samples_leaf=2, min_samples_split=2,\n",
    "                       min_weight_fraction_leaf=0.0, n_estimators=100,\n",
    "                       n_jobs=-1, oob_score=False, random_state=5, verbose=0,\n",
    "                       warm_start=False)\n",
    "\n",
    "model.fit(X_train_dum_os, y_train_os)\n",
    "\n",
    "y_predict = model.predict(X_test_dum)\n",
    "print(confusion_matrix(y_test,y_predict)) \n",
    "print(accuracy_score(y_test,y_predict))\n",
    "    \n",
    "fpr, tpr, thresholds = roc_curve(y_test, y_predict, pos_label=None)\n",
    "print('auc :',auc(fpr, tpr))"
   ]
  },
  {
   "cell_type": "code",
   "execution_count": 568,
   "metadata": {},
   "outputs": [
    {
     "name": "stdout",
     "output_type": "stream",
     "text": [
      "[[ 2149  3421]\n",
      " [ 1223 11494]]\n",
      "0.7460491059222398\n",
      "auc : 0.6448231978314274\n"
     ]
    }
   ],
   "source": [
    "\n",
    "model = RandomForestClassifier(bootstrap=True, ccp_alpha=0.0, class_weight=None,\n",
    "                       criterion='gini', max_depth=60, max_features='sqrt',\n",
    "                       max_leaf_nodes=None, max_samples=None,\n",
    "                       min_impurity_decrease=0.0, min_impurity_split=None,\n",
    "                       min_samples_leaf=2, min_samples_split=2,\n",
    "                       min_weight_fraction_leaf=0.0, n_estimators=100,\n",
    "                       n_jobs=-1, oob_score=False, random_state=5, verbose=0,\n",
    "                       warm_start=False)\n",
    "\n",
    "model.fit(X_train_dum, y_train)\n",
    "\n",
    "y_predict = model.predict(X_test_dum)\n",
    "print(confusion_matrix(y_test,y_predict)) \n",
    "print(accuracy_score(y_test,y_predict))\n",
    "    \n",
    "fpr, tpr, thresholds = roc_curve(y_test, y_predict, pos_label=None)\n",
    "print('auc :',auc(fpr, tpr))"
   ]
  },
  {
   "cell_type": "code",
   "execution_count": null,
   "metadata": {},
   "outputs": [],
   "source": [
    "compare_models()"
   ]
  }
 ],
 "metadata": {
  "kernelspec": {
   "display_name": "Python 3",
   "language": "python",
   "name": "python3"
  },
  "language_info": {
   "codemirror_mode": {
    "name": "ipython",
    "version": 3
   },
   "file_extension": ".py",
   "mimetype": "text/x-python",
   "name": "python",
   "nbconvert_exporter": "python",
   "pygments_lexer": "ipython3",
   "version": "3.7.7"
  }
 },
 "nbformat": 4,
 "nbformat_minor": 2
}
