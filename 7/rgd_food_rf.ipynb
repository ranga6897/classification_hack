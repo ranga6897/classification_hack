{
  "nbformat": 4,
  "nbformat_minor": 0,
  "metadata": {
    "colab": {
      "name": "Copy of food_raw.ipynb",
      "provenance": [],
      "collapsed_sections": []
    },
    "kernelspec": {
      "display_name": "Python 3",
      "language": "python",
      "name": "python3"
    },
    "language_info": {
      "codemirror_mode": {
        "name": "ipython",
        "version": 3
      },
      "file_extension": ".py",
      "mimetype": "text/x-python",
      "name": "python",
      "nbconvert_exporter": "python",
      "pygments_lexer": "ipython3",
      "version": "3.7.7"
    }
  },
  "cells": [
    {
      "cell_type": "markdown",
      "metadata": {
        "id": "zlEAyBZKTlPt",
        "colab_type": "text"
      },
      "source": [
        "##final"
      ]
    },
    {
      "cell_type": "code",
      "metadata": {
        "id": "_CFxEh-zOKGs",
        "colab_type": "code",
        "outputId": "1c64cf70-a7b3-4ea9-a409-de34dcfee415",
        "colab": {
          "base_uri": "https://localhost:8080/",
          "height": 70
        }
      },
      "source": [
        "import pandas as pd\n",
        "import numpy as np\n",
        "import matplotlib.pyplot as plt\n",
        "plt.style.use('ggplot')\n",
        "import seaborn as sns\n",
        "\n",
        "import warnings\n",
        "warnings.filterwarnings('ignore')\n",
        "\n",
        "pd.set_option('display.max_columns',None)\n",
        "# pd.set_option('display.max_rows',None)"
      ],
      "execution_count": 0,
      "outputs": [
        {
          "output_type": "stream",
          "text": [
            "/usr/local/lib/python3.6/dist-packages/statsmodels/tools/_testing.py:19: FutureWarning: pandas.util.testing is deprecated. Use the functions in the public API at pandas.testing instead.\n",
            "  import pandas.util.testing as tm\n"
          ],
          "name": "stderr"
        }
      ]
    },
    {
      "cell_type": "code",
      "metadata": {
        "id": "TxXNNcEtOKDo",
        "colab_type": "code",
        "colab": {}
      },
      "source": [
        "data_train = pd.read_csv('train.csv')\n",
        "data_test = pd.read_csv('test.csv')"
      ],
      "execution_count": 0,
      "outputs": []
    },
    {
      "cell_type": "code",
      "metadata": {
        "id": "JoXq1sZtStKT",
        "colab_type": "code",
        "outputId": "29fe885f-be27-423e-eceb-1234432eec50",
        "colab": {
          "base_uri": "https://localhost:8080/",
          "height": 33
        }
      },
      "source": [
        "data_train.shape,data_test.shape"
      ],
      "execution_count": 0,
      "outputs": [
        {
          "output_type": "execute_result",
          "data": {
            "text/plain": [
              "((147443, 12), (49148, 11))"
            ]
          },
          "metadata": {
            "tags": []
          },
          "execution_count": 14
        }
      ]
    },
    {
      "cell_type": "code",
      "metadata": {
        "id": "MwaxGu55OKBK",
        "colab_type": "code",
        "colab": {}
      },
      "source": [
        "data_train_copy = data_train.copy(deep = True)\n",
        "data_test_copy = data_test.copy(deep = True)"
      ],
      "execution_count": 0,
      "outputs": []
    },
    {
      "cell_type": "code",
      "metadata": {
        "id": "mEIjDj9COCZa",
        "colab_type": "code",
        "colab": {}
      },
      "source": [
        "def clean(dataset):\n",
        "    data = dataset.copy(deep = True)\n",
        "    \n",
        "    data.Inspection_Results.replace({'E': 1,'B':2,'F' :3,'G' : 4,'D': 5, 'C':6 ,'A':7}, inplace=True) # add main\n",
        "    \n",
        "    from sklearn.impute import KNNImputer             # add main\n",
        "    imputer = KNNImputer(n_neighbors=5)\n",
        "    array = imputer.fit_transform(data)\n",
        "    \n",
        "    data = pd.DataFrame(data = array, columns= data.columns, index = data.index)  # add main\n",
        "    data = np.round(data)  # add main\n",
        "    \n",
        "    data = data.drop(columns= ['LicenseNo'])   #add main\n",
        "    data['Reason'] = data['Reason'].astype('object')\n",
        "    data['RiskLevel'] = data['RiskLevel'].astype('object')\n",
        "\n",
        "    return data"
      ],
      "execution_count": 0,
      "outputs": []
    },
    {
      "cell_type": "code",
      "metadata": {
        "id": "SxEoLAGpRAr8",
        "colab_type": "code",
        "colab": {}
      },
      "source": [
        "data_train.Inspection_Results.replace({'E': 1,'B':2,'F' :3,'G' : 4,'D': 5, 'C':6 ,'A':7}, inplace=True) # add main"
      ],
      "execution_count": 0,
      "outputs": []
    },
    {
      "cell_type": "code",
      "metadata": {
        "id": "WWcfnZ7nUeWM",
        "colab_type": "code",
        "colab": {}
      },
      "source": [
        "X = data_train.drop(columns='Inspection_Results')\n",
        "y = data_train.Inspection_Results"
      ],
      "execution_count": 0,
      "outputs": []
    },
    {
      "cell_type": "code",
      "metadata": {
        "id": "lPRMS0NVOCKn",
        "colab_type": "code",
        "colab": {}
      },
      "source": [
        "from sklearn.impute import KNNImputer             # add main\n",
        "imputer = KNNImputer(n_neighbors=3)\n",
        "train_array = imputer.fit_transform(X)\n",
        "test_array = imputer.transform(data_test)\n",
        "    \n",
        "data_train_im = pd.DataFrame(data = train_array, columns= X.columns, index = X.index)  # add main\n",
        "X = np.round(data_train_im)  # add main\n",
        "\n",
        "data_test_im = pd.DataFrame(data = test_array, columns= data_test.columns, index = data_test.index)  # add main\n",
        "test_data = np.round(data_test_im)  # add main"
      ],
      "execution_count": 0,
      "outputs": []
    },
    {
      "cell_type": "code",
      "metadata": {
        "id": "wkeCyx1oQ683",
        "colab_type": "code",
        "colab": {}
      },
      "source": [
        ""
      ],
      "execution_count": 0,
      "outputs": []
    },
    {
      "cell_type": "code",
      "metadata": {
        "id": "Kg2mi4VpVwDP",
        "colab_type": "code",
        "colab": {}
      },
      "source": [
        "def clean(dataset):\n",
        "    data = dataset.copy(deep = True)\n",
        "    \n",
        "    data = data.drop(columns= ['LicenseNo'])   #add main\n",
        "    data['Reason'] = data['Reason'].astype('object')\n",
        "    data['RiskLevel'] = data['RiskLevel'].astype('object')\n",
        "\n",
        "    return data"
      ],
      "execution_count": 0,
      "outputs": []
    },
    {
      "cell_type": "code",
      "metadata": {
        "id": "7W3z4rImQ65E",
        "colab_type": "code",
        "colab": {}
      },
      "source": [
        "data_raw = pd.get_dummies(data_train )   ## add main"
      ],
      "execution_count": 0,
      "outputs": []
    },
    {
      "cell_type": "code",
      "metadata": {
        "id": "0GU4JdgDbfLH",
        "colab_type": "code",
        "colab": {}
      },
      "source": [
        "X_ = clean(X)\n",
        "data_test_c = clean(test_data)"
      ],
      "execution_count": 0,
      "outputs": []
    },
    {
      "cell_type": "code",
      "metadata": {
        "id": "g0cWykkUWEiV",
        "colab_type": "code",
        "colab": {}
      },
      "source": [
        "from sklearn.model_selection import train_test_split\n",
        "from sklearn.ensemble import RandomForestClassifier\n",
        "from sklearn.metrics import classification_report,confusion_matrix,accuracy_score,roc_curve,auc,recall_score,classification_report\n",
        "\n",
        "X_train,X_val, y_train,y_val = train_test_split(X_,y, train_size = .8, stratify = y, random_state = 6)"
      ],
      "execution_count": 0,
      "outputs": []
    },
    {
      "cell_type": "code",
      "metadata": {
        "id": "b_ZBRXrLW23B",
        "colab_type": "code",
        "outputId": "d7aed896-66e0-4b59-abeb-c354634f4e42",
        "colab": {
          "base_uri": "https://localhost:8080/",
          "height": 33
        }
      },
      "source": [
        "X_train.shape, y_train.shape"
      ],
      "execution_count": 0,
      "outputs": [
        {
          "output_type": "execute_result",
          "data": {
            "text/plain": [
              "((117954, 10), (117954,))"
            ]
          },
          "metadata": {
            "tags": []
          },
          "execution_count": 23
        }
      ]
    },
    {
      "cell_type": "code",
      "metadata": {
        "id": "fLRI1p1aQ61q",
        "colab_type": "code",
        "colab": {}
      },
      "source": [
        "model =RandomForestClassifier(bootstrap=True, ccp_alpha=0.0, class_weight=None,       ##add main\n",
        "                       criterion='entropy', max_depth=10, max_features=10,\n",
        "                       max_leaf_nodes=None, max_samples=None,\n",
        "                       min_impurity_decrease=0.0, min_impurity_split=None,\n",
        "                       min_samples_leaf=4, min_samples_split=9,\n",
        "                       min_weight_fraction_leaf=0.0, n_estimators=100,\n",
        "                       n_jobs=-1, oob_score=False, random_state=61,\n",
        "                       verbose=0, warm_start=False)\n",
        "\n",
        "model.fit(X_train, y_train)\n",
        "\n",
        "y_predict = model.predict(X_val)\n",
        "print(confusion_matrix(y_val,y_predict)) \n",
        "print(accuracy_score(y_val,y_predict))\n",
        "print(classification_report(y_val,y_predict))\n"
      ],
      "execution_count": 0,
      "outputs": []
    },
    {
      "cell_type": "code",
      "metadata": {
        "id": "hODSt1sGQ6zY",
        "colab_type": "code",
        "colab": {}
      },
      "source": [
        "data_test_copy['Inspection_Results'] = model.predict(data_test_c)"
      ],
      "execution_count": 0,
      "outputs": []
    },
    {
      "cell_type": "code",
      "metadata": {
        "id": "3noQ8meTQ6w_",
        "colab_type": "code",
        "colab": {}
      },
      "source": [
        "data_test_copy[['LicenseNo','Inspection_Results']].to_csv('rgd_food_rf.csv')"
      ],
      "execution_count": 0,
      "outputs": []
    },
    {
      "cell_type": "code",
      "metadata": {
        "id": "dwYYOFdkQ6uZ",
        "colab_type": "code",
        "colab": {}
      },
      "source": [
        ""
      ],
      "execution_count": 0,
      "outputs": []
    },
    {
      "cell_type": "code",
      "metadata": {
        "id": "5DmXrZO2Q_2F",
        "colab_type": "code",
        "colab": {}
      },
      "source": [
        ""
      ],
      "execution_count": 0,
      "outputs": []
    },
    {
      "cell_type": "code",
      "metadata": {
        "id": "HK6LAAxXQ_y3",
        "colab_type": "code",
        "colab": {}
      },
      "source": [
        ""
      ],
      "execution_count": 0,
      "outputs": []
    },
    {
      "cell_type": "code",
      "metadata": {
        "id": "h7pxTcKRQ_Tm",
        "colab_type": "code",
        "colab": {}
      },
      "source": [
        ""
      ],
      "execution_count": 0,
      "outputs": []
    },
    {
      "cell_type": "code",
      "metadata": {
        "id": "tkme2SCKQ_QF",
        "colab_type": "code",
        "colab": {}
      },
      "source": [
        ""
      ],
      "execution_count": 0,
      "outputs": []
    },
    {
      "cell_type": "code",
      "metadata": {
        "id": "ybM1mjWJQ_Nq",
        "colab_type": "code",
        "colab": {}
      },
      "source": [
        ""
      ],
      "execution_count": 0,
      "outputs": []
    },
    {
      "cell_type": "code",
      "metadata": {
        "id": "RSVuZr9iQ_LQ",
        "colab_type": "code",
        "colab": {}
      },
      "source": [
        ""
      ],
      "execution_count": 0,
      "outputs": []
    },
    {
      "cell_type": "code",
      "metadata": {
        "id": "HKsCprR-Q_I_",
        "colab_type": "code",
        "colab": {}
      },
      "source": [
        ""
      ],
      "execution_count": 0,
      "outputs": []
    }
  ]
}