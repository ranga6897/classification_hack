{
 "cells": [
  {
   "cell_type": "code",
   "execution_count": 1,
   "metadata": {
    "colab": {},
    "colab_type": "code",
    "id": "vXS6kqftRf8v"
   },
   "outputs": [
    {
     "name": "stderr",
     "output_type": "stream",
     "text": [
      "\n",
      "Bad key \"text.kerning_factor\" on line 4 in\n",
      "C:\\Users\\ranga\\Anaconda3\\lib\\site-packages\\matplotlib\\mpl-data\\stylelib\\_classic_test_patch.mplstyle.\n",
      "You probably need to get an updated matplotlibrc file from\n",
      "https://github.com/matplotlib/matplotlib/blob/v3.1.3/matplotlibrc.template\n",
      "or from the matplotlib source distribution\n"
     ]
    }
   ],
   "source": [
    "import pandas as pd\n",
    "import numpy as np\n",
    "import matplotlib.pyplot as plt\n",
    "plt.style.use('ggplot')\n",
    "import seaborn as sns\n",
    "\n",
    "import warnings\n",
    "warnings.filterwarnings('ignore')\n",
    "\n",
    "pd.set_option('display.max_columns',None)\n",
    "# pd.set_option('display.max_rows',None)"
   ]
  },
  {
   "cell_type": "code",
   "execution_count": 2,
   "metadata": {
    "colab": {},
    "colab_type": "code",
    "id": "SMmXXRSuSXGu"
   },
   "outputs": [],
   "source": [
    "data_train = pd.read_csv('train_LZdllcl.csv')\n",
    "data_test = pd.read_csv('test_2umaH9m.csv')"
   ]
  },
  {
   "cell_type": "code",
   "execution_count": 3,
   "metadata": {
    "colab": {},
    "colab_type": "code",
    "id": "mEMtXgMnSnrY"
   },
   "outputs": [],
   "source": [
    "data_train_copy = data_train.copy(deep = True)\n",
    "data_test_copy = data_test.copy(deep = True)"
   ]
  },
  {
   "cell_type": "code",
   "execution_count": 0,
   "metadata": {
    "colab": {},
    "colab_type": "code",
    "id": "Seo508-ZS8Gh"
   },
   "outputs": [],
   "source": [
    "# data_train"
   ]
  },
  {
   "cell_type": "markdown",
   "metadata": {
    "colab_type": "text",
    "id": "qfNnxTddeZYz"
   },
   "source": [
    "## Eda"
   ]
  },
  {
   "cell_type": "code",
   "execution_count": 0,
   "metadata": {
    "colab": {},
    "colab_type": "code",
    "id": "x1gRGEy8S_jo"
   },
   "outputs": [],
   "source": [
    "sns.pairplot(data_train, hue = 'is_promoted')"
   ]
  },
  {
   "cell_type": "markdown",
   "metadata": {
    "colab_type": "text",
    "id": "5GF_jBMKeb99"
   },
   "source": [
    "### null value imputaion"
   ]
  },
  {
   "cell_type": "code",
   "execution_count": 0,
   "metadata": {
    "colab": {},
    "colab_type": "code",
    "id": "DrCm277Xex8O"
   },
   "outputs": [],
   "source": [
    "data_train.info()"
   ]
  },
  {
   "cell_type": "code",
   "execution_count": 0,
   "metadata": {
    "colab": {},
    "colab_type": "code",
    "id": "M5WG7oEhS-dN"
   },
   "outputs": [],
   "source": [
    "data_train.isnull().sum()"
   ]
  },
  {
   "cell_type": "markdown",
   "metadata": {
    "colab_type": "text",
    "id": "49LcY5RIpH4C"
   },
   "source": [
    "previous_year_rating"
   ]
  },
  {
   "cell_type": "code",
   "execution_count": 0,
   "metadata": {
    "colab": {
     "base_uri": "https://localhost:8080/",
     "height": 33
    },
    "colab_type": "code",
    "id": "pyri5OMdznKa",
    "outputId": "d7793f11-c67a-4c23-8c4c-354e8b4abdab"
   },
   "outputs": [
    {
     "data": {
      "text/plain": [
       "3.329255780917055"
      ]
     },
     "execution_count": 118,
     "metadata": {
      "tags": []
     },
     "output_type": "execute_result"
    }
   ],
   "source": [
    "data_train['previous_year_rating'].mean() "
   ]
  },
  {
   "cell_type": "code",
   "execution_count": 0,
   "metadata": {
    "colab": {},
    "colab_type": "code",
    "id": "TEoZSaGuUz4X"
   },
   "outputs": [],
   "source": [
    "data_train.previous_year_rating.value_counts(dropna = False)"
   ]
  },
  {
   "cell_type": "code",
   "execution_count": 0,
   "metadata": {
    "colab": {},
    "colab_type": "code",
    "id": "5CAMt5c-bWVT"
   },
   "outputs": [],
   "source": [
    "data_train.groupby('is_promoted')['previous_year_rating'].value_counts(dropna = False)"
   ]
  },
  {
   "cell_type": "code",
   "execution_count": 0,
   "metadata": {
    "colab": {},
    "colab_type": "code",
    "id": "ynbY6lYuWU06"
   },
   "outputs": [],
   "source": [
    "data_train[data_train['previous_year_rating'].isnull()]  #length_of_service ==1 and education = bachelor's are  common"
   ]
  },
  {
   "cell_type": "code",
   "execution_count": 0,
   "metadata": {
    "colab": {},
    "colab_type": "code",
    "id": "0N8rUCJNeUsb"
   },
   "outputs": [],
   "source": [
    "data_train[data_train.length_of_service == 1]['previous_year_rating'].value_counts(normalize = True)"
   ]
  },
  {
   "cell_type": "code",
   "execution_count": 0,
   "metadata": {
    "colab": {
     "base_uri": "https://localhost:8080/",
     "height": 33
    },
    "colab_type": "code",
    "id": "D4D47Z9ZeTw6",
    "outputId": "8577a4f5-6051-4297-da57-dfeb7124ab6b"
   },
   "outputs": [
    {
     "data": {
      "text/plain": [
       "3.2624113475177303"
      ]
     },
     "execution_count": 74,
     "metadata": {
      "tags": []
     },
     "output_type": "execute_result"
    }
   ],
   "source": [
    "data_train[data_train.length_of_service == 1]['previous_year_rating'].mean()"
   ]
  },
  {
   "cell_type": "code",
   "execution_count": 0,
   "metadata": {
    "colab": {},
    "colab_type": "code",
    "id": "LFp885VqjvKl"
   },
   "outputs": [],
   "source": [
    "data_train['previous_year_rating'].value_counts(normalize = True)"
   ]
  },
  {
   "cell_type": "code",
   "execution_count": 4,
   "metadata": {
    "colab": {},
    "colab_type": "code",
    "id": "O2NVYs8neTnj"
   },
   "outputs": [],
   "source": [
    "data_train.previous_year_rating.fillna(3, inplace = True)   # add main"
   ]
  },
  {
   "cell_type": "code",
   "execution_count": 0,
   "metadata": {
    "colab": {},
    "colab_type": "code",
    "id": "a_unLMySehlR"
   },
   "outputs": [],
   "source": [
    "data_train['previous_year_rating'].value_counts(normalize = True)"
   ]
  },
  {
   "cell_type": "code",
   "execution_count": 0,
   "metadata": {
    "colab": {},
    "colab_type": "code",
    "id": "JfnBH0TyjR3k"
   },
   "outputs": [],
   "source": []
  },
  {
   "cell_type": "code",
   "execution_count": 0,
   "metadata": {
    "colab": {},
    "colab_type": "code",
    "id": "64cde3pcjRzd"
   },
   "outputs": [],
   "source": []
  },
  {
   "cell_type": "code",
   "execution_count": 0,
   "metadata": {
    "colab": {},
    "colab_type": "code",
    "id": "aMl-7kS5j3xz"
   },
   "outputs": [],
   "source": []
  },
  {
   "cell_type": "markdown",
   "metadata": {
    "colab_type": "text",
    "id": "Pu34xJJRpEzF"
   },
   "source": [
    "education"
   ]
  },
  {
   "cell_type": "code",
   "execution_count": 0,
   "metadata": {
    "colab": {
     "base_uri": "https://localhost:8080/",
     "height": 50
    },
    "colab_type": "code",
    "id": "lg9PS7sF1Jrj",
    "outputId": "dc541f72-30c3-4be0-b447-2b556ed8b26d"
   },
   "outputs": [
    {
     "data": {
      "text/plain": [
       "0    Bachelor's\n",
       "dtype: object"
      ]
     },
     "execution_count": 119,
     "metadata": {
      "tags": []
     },
     "output_type": "execute_result"
    }
   ],
   "source": [
    "data_train.education.mode()"
   ]
  },
  {
   "cell_type": "code",
   "execution_count": 0,
   "metadata": {
    "colab": {},
    "colab_type": "code",
    "id": "b3EICIQ0U0mL"
   },
   "outputs": [],
   "source": [
    "data_train.education.value_counts(dropna = False)"
   ]
  },
  {
   "cell_type": "code",
   "execution_count": 0,
   "metadata": {
    "colab": {},
    "colab_type": "code",
    "id": "pN2mAcE6bWRk"
   },
   "outputs": [],
   "source": [
    "data_train.groupby('is_promoted')['education'].value_counts(dropna = False)"
   ]
  },
  {
   "cell_type": "code",
   "execution_count": 0,
   "metadata": {
    "colab": {},
    "colab_type": "code",
    "id": "mxngoY57lH1v"
   },
   "outputs": [],
   "source": [
    "data_train[data_train['education'].isnull()].head(500)"
   ]
  },
  {
   "cell_type": "code",
   "execution_count": 0,
   "metadata": {
    "colab": {},
    "colab_type": "code",
    "id": "abRshMKMWlqy"
   },
   "outputs": [],
   "source": [
    "data_train[data_train['education'].isnull()]['department'].value_counts(normalize = True)"
   ]
  },
  {
   "cell_type": "code",
   "execution_count": 0,
   "metadata": {
    "colab": {},
    "colab_type": "code",
    "id": "KlTEu-mPn0PB"
   },
   "outputs": [],
   "source": [
    "data_train[data_train['department'] == 'Sales & Marketing']['education'].value_counts() #department optn : Bachelor's"
   ]
  },
  {
   "cell_type": "code",
   "execution_count": 0,
   "metadata": {
    "colab": {},
    "colab_type": "code",
    "id": "VrwrXZ4llFvd"
   },
   "outputs": [],
   "source": [
    "data_train[data_train['education'].isnull()]['region'].value_counts(normalize = True)"
   ]
  },
  {
   "cell_type": "code",
   "execution_count": 0,
   "metadata": {
    "colab": {},
    "colab_type": "code",
    "id": "PTDMAxfklFe-"
   },
   "outputs": [],
   "source": [
    "data_train[data_train['education'].isnull()]['recruitment_channel'].value_counts(normalize = True)"
   ]
  },
  {
   "cell_type": "code",
   "execution_count": 0,
   "metadata": {
    "colab": {},
    "colab_type": "code",
    "id": "gBz6b0T_lFao"
   },
   "outputs": [],
   "source": [
    "data_train[data_train['education'].isnull()]['no_of_trainings'].value_counts(normalize = True) "
   ]
  },
  {
   "cell_type": "code",
   "execution_count": 0,
   "metadata": {
    "colab": {},
    "colab_type": "code",
    "id": "f4x9Rgsym_Z0"
   },
   "outputs": [],
   "source": [
    "data_train[data_train['no_of_trainings']==1]['education'].value_counts()  #no_of_trainings optn : Bachelor's"
   ]
  },
  {
   "cell_type": "code",
   "execution_count": 0,
   "metadata": {
    "colab": {},
    "colab_type": "code",
    "id": "iwoJPFiQlhX5"
   },
   "outputs": [],
   "source": [
    "data_train[data_train['education'].isnull()]['awards_won?'].value_counts()"
   ]
  },
  {
   "cell_type": "code",
   "execution_count": 0,
   "metadata": {
    "colab": {},
    "colab_type": "code",
    "id": "Yb8BUELolhTe"
   },
   "outputs": [],
   "source": [
    "data_train['awards_won?'].value_counts()"
   ]
  },
  {
   "cell_type": "code",
   "execution_count": 0,
   "metadata": {
    "colab": {},
    "colab_type": "code",
    "id": "t5NNZI4klhRy"
   },
   "outputs": [],
   "source": [
    "data_train[data_train['education'].isnull()]['age'].value_counts()"
   ]
  },
  {
   "cell_type": "code",
   "execution_count": 0,
   "metadata": {
    "colab": {},
    "colab_type": "code",
    "id": "JC0t6SbulhOL"
   },
   "outputs": [],
   "source": [
    "data_train.education.value_counts(dropna = False)"
   ]
  },
  {
   "cell_type": "code",
   "execution_count": 5,
   "metadata": {
    "colab": {},
    "colab_type": "code",
    "id": "8a3g3RaoS_gF"
   },
   "outputs": [],
   "source": [
    "data_train.education.fillna(\"Bachelor's\" ,inplace = True)  ##add main"
   ]
  },
  {
   "cell_type": "code",
   "execution_count": 0,
   "metadata": {
    "colab": {},
    "colab_type": "code",
    "id": "q-i41W4tS_dw"
   },
   "outputs": [],
   "source": [
    "data_train.education.value_counts(dropna = False)"
   ]
  },
  {
   "cell_type": "code",
   "execution_count": 0,
   "metadata": {
    "colab": {},
    "colab_type": "code",
    "id": "moJJ_UPwS_Y2"
   },
   "outputs": [],
   "source": []
  },
  {
   "cell_type": "markdown",
   "metadata": {
    "colab_type": "text",
    "id": "zQ3z3ZtVpLcs"
   },
   "source": [
    "### features"
   ]
  },
  {
   "cell_type": "code",
   "execution_count": 0,
   "metadata": {
    "colab": {
     "base_uri": "https://localhost:8080/",
     "height": 366
    },
    "colab_type": "code",
    "id": "DI9ABZkBS_Xr",
    "outputId": "26a36ad3-94d7-412f-87de-80bc4bec24da"
   },
   "outputs": [
    {
     "name": "stdout",
     "output_type": "stream",
     "text": [
      "<class 'pandas.core.frame.DataFrame'>\n",
      "RangeIndex: 54808 entries, 0 to 54807\n",
      "Data columns (total 14 columns):\n",
      " #   Column                Non-Null Count  Dtype  \n",
      "---  ------                --------------  -----  \n",
      " 0   employee_id           54808 non-null  int64  \n",
      " 1   department            54808 non-null  object \n",
      " 2   region                54808 non-null  object \n",
      " 3   education             54808 non-null  object \n",
      " 4   gender                54808 non-null  object \n",
      " 5   recruitment_channel   54808 non-null  object \n",
      " 6   no_of_trainings       54808 non-null  int64  \n",
      " 7   age                   54808 non-null  int64  \n",
      " 8   previous_year_rating  50684 non-null  float64\n",
      " 9   length_of_service     54808 non-null  int64  \n",
      " 10  KPIs_met >80%         54808 non-null  int64  \n",
      " 11  awards_won?           54808 non-null  int64  \n",
      " 12  avg_training_score    54808 non-null  int64  \n",
      " 13  is_promoted           54808 non-null  int64  \n",
      "dtypes: float64(1), int64(8), object(5)\n",
      "memory usage: 5.9+ MB\n"
     ]
    }
   ],
   "source": [
    "data_train.info()"
   ]
  },
  {
   "cell_type": "code",
   "execution_count": 0,
   "metadata": {
    "colab": {},
    "colab_type": "code",
    "id": "SHJp7KGZ2mmI"
   },
   "outputs": [],
   "source": [
    "data_train.head(25)"
   ]
  },
  {
   "cell_type": "code",
   "execution_count": 0,
   "metadata": {
    "colab": {
     "base_uri": "https://localhost:8080/",
     "height": 66
    },
    "colab_type": "code",
    "id": "4G-OVo02-R6E",
    "outputId": "6381a566-d2d2-418e-853d-04190a4b7502"
   },
   "outputs": [
    {
     "data": {
      "text/plain": [
       "0    50140\n",
       "1     4668\n",
       "Name: is_promoted, dtype: int64"
      ]
     },
     "execution_count": 146,
     "metadata": {
      "tags": []
     },
     "output_type": "execute_result"
    }
   ],
   "source": [
    "data_train.is_promoted.value_counts(normalize=False) #highly biased"
   ]
  },
  {
   "cell_type": "code",
   "execution_count": 0,
   "metadata": {
    "colab": {
     "base_uri": "https://localhost:8080/",
     "height": 1000
    },
    "colab_type": "code",
    "id": "_HNciiKjS_V7",
    "outputId": "f24aa563-4a2c-4797-c117-0dbce3c9ee1a"
   },
   "outputs": [
    {
     "name": "stdout",
     "output_type": "stream",
     "text": [
      "department\n",
      "Sales & Marketing    16840\n",
      "Operations           11348\n",
      "Procurement           7138\n",
      "Technology            7138\n",
      "Analytics             5352\n",
      "Finance               2536\n",
      "HR                    2418\n",
      "Legal                 1039\n",
      "R&D                    999\n",
      "Name: department, dtype: int64\n",
      "- - - - - - - - - - - - - - - - - - - - - - - - - - - - - - - - - - - - - - - - - - - - - - - - - - - - - - - - - - - - - - - - - - - - - - - - - - - - - - - - \n",
      "department         is_promoted\n",
      "Analytics          0              0.904335\n",
      "                   1              0.095665\n",
      "Finance            0              0.918770\n",
      "                   1              0.081230\n",
      "HR                 0              0.943755\n",
      "                   1              0.056245\n",
      "Legal              0              0.948989\n",
      "                   1              0.051011\n",
      "Operations         0              0.909852\n",
      "                   1              0.090148\n",
      "Procurement        0              0.903614\n",
      "                   1              0.096386\n",
      "R&D                0              0.930931\n",
      "                   1              0.069069\n",
      "Sales & Marketing  0              0.927969\n",
      "                   1              0.072031\n",
      "Technology         0              0.892407\n",
      "                   1              0.107593\n",
      "Name: is_promoted, dtype: float64\n",
      "================================================================================\n",
      "\n",
      "region\n",
      "region_2     12343\n",
      "region_22     6428\n",
      "region_7      4843\n",
      "region_15     2808\n",
      "region_13     2648\n",
      "region_26     2260\n",
      "region_31     1935\n",
      "region_4      1703\n",
      "region_27     1659\n",
      "region_16     1465\n",
      "region_28     1318\n",
      "region_11     1315\n",
      "region_23     1175\n",
      "region_29      994\n",
      "region_32      945\n",
      "region_19      874\n",
      "region_20      850\n",
      "region_14      827\n",
      "region_25      819\n",
      "region_17      796\n",
      "region_5       766\n",
      "region_6       690\n",
      "region_30      657\n",
      "region_8       655\n",
      "region_10      648\n",
      "region_1       610\n",
      "region_24      508\n",
      "region_12      500\n",
      "region_9       420\n",
      "region_21      411\n",
      "region_3       346\n",
      "region_34      292\n",
      "region_33      269\n",
      "region_18       31\n",
      "Name: region, dtype: int64\n",
      "- - - - - - - - - - - - - - - - - - - - - - - - - - - - - - - - - - - - - - - - - - - - - - - - - - - - - - - - - - - - - - - - - - - - - - - - - - - - - - - - \n",
      "region     is_promoted\n",
      "region_1   0              0.904918\n",
      "           1              0.095082\n",
      "region_10  0              0.921296\n",
      "           1              0.078704\n",
      "region_11  0              0.943726\n",
      "           1              0.056274\n",
      "region_12  0              0.934000\n",
      "           1              0.066000\n",
      "region_13  0              0.913142\n",
      "           1              0.086858\n",
      "region_14  0              0.925030\n",
      "           1              0.074970\n",
      "region_15  0              0.920940\n",
      "           1              0.079060\n",
      "region_16  0              0.930375\n",
      "           1              0.069625\n",
      "region_17  0              0.863065\n",
      "           1              0.136935\n",
      "region_18  0              0.967742\n",
      "           1              0.032258\n",
      "region_19  0              0.939359\n",
      "           1              0.060641\n",
      "region_2   0              0.919874\n",
      "           1              0.080126\n",
      "region_20  0              0.942353\n",
      "           1              0.057647\n",
      "region_21  0              0.956204\n",
      "           1              0.043796\n",
      "region_22  0              0.885812\n",
      "           1              0.114188\n",
      "region_23  0              0.883404\n",
      "           1              0.116596\n",
      "region_24  0              0.964567\n",
      "           1              0.035433\n",
      "region_25  0              0.874237\n",
      "           1              0.125763\n",
      "region_26  0              0.936726\n",
      "           1              0.063274\n",
      "region_27  0              0.921037\n",
      "           1              0.078963\n",
      "region_28  0              0.883156\n",
      "           1              0.116844\n",
      "region_29  0              0.956740\n",
      "           1              0.043260\n",
      "region_3   0              0.893064\n",
      "           1              0.106936\n",
      "region_30  0              0.910198\n",
      "           1              0.089802\n",
      "region_31  0              0.943152\n",
      "           1              0.056848\n",
      "region_32  0              0.957672\n",
      "           1              0.042328\n",
      "region_33  0              0.962825\n",
      "           1              0.037175\n",
      "region_34  0              0.972603\n",
      "           1              0.027397\n",
      "region_4   0              0.855549\n",
      "           1              0.144451\n",
      "region_5   0              0.954308\n",
      "           1              0.045692\n",
      "region_6   0              0.953623\n",
      "           1              0.046377\n",
      "region_7   0              0.893454\n",
      "           1              0.106546\n",
      "region_8   0              0.919084\n",
      "           1              0.080916\n",
      "region_9   0              0.980952\n",
      "           1              0.019048\n",
      "Name: is_promoted, dtype: float64\n",
      "================================================================================\n",
      "\n",
      "education\n",
      "Bachelor's          39078\n",
      "Master's & above    14925\n",
      "Below Secondary       805\n",
      "Name: education, dtype: int64\n",
      "- - - - - - - - - - - - - - - - - - - - - - - - - - - - - - - - - - - - - - - - - - - - - - - - - - - - - - - - - - - - - - - - - - - - - - - - - - - - - - - - \n",
      "education         is_promoted\n",
      "Bachelor's        0              0.919904\n",
      "                  1              0.080096\n",
      "Below Secondary   0              0.916770\n",
      "                  1              0.083230\n",
      "Master's & above  0              0.901441\n",
      "                  1              0.098559\n",
      "Name: is_promoted, dtype: float64\n",
      "================================================================================\n",
      "\n",
      "gender\n",
      "m    38496\n",
      "f    16312\n",
      "Name: gender, dtype: int64\n",
      "- - - - - - - - - - - - - - - - - - - - - - - - - - - - - - - - - - - - - - - - - - - - - - - - - - - - - - - - - - - - - - - - - - - - - - - - - - - - - - - - \n",
      "gender  is_promoted\n",
      "f       0              0.910066\n",
      "        1              0.089934\n",
      "m       0              0.916849\n",
      "        1              0.083151\n",
      "Name: is_promoted, dtype: float64\n",
      "================================================================================\n",
      "\n",
      "recruitment_channel\n",
      "other       30446\n",
      "sourcing    23220\n",
      "referred     1142\n",
      "Name: recruitment_channel, dtype: int64\n",
      "- - - - - - - - - - - - - - - - - - - - - - - - - - - - - - - - - - - - - - - - - - - - - - - - - - - - - - - - - - - - - - - - - - - - - - - - - - - - - - - - \n",
      "recruitment_channel  is_promoted\n",
      "other                0              0.916048\n",
      "                     1              0.083952\n",
      "referred             0              0.879159\n",
      "                     1              0.120841\n",
      "sourcing             0              0.914987\n",
      "                     1              0.085013\n",
      "Name: is_promoted, dtype: float64\n",
      "================================================================================\n",
      "\n"
     ]
    }
   ],
   "source": [
    "for col in data_train.select_dtypes('object').columns:\n",
    "    print(col)\n",
    "    print(data_train[col].value_counts())\n",
    "    print('- ' * 80)\n",
    "    print(data_train.groupby(col)['is_promoted'].value_counts(normalize = True))\n",
    "    print('=' * 80)\n",
    "    print()"
   ]
  },
  {
   "cell_type": "code",
   "execution_count": 0,
   "metadata": {
    "colab": {},
    "colab_type": "code",
    "id": "-PK5-putS_RG"
   },
   "outputs": [],
   "source": []
  },
  {
   "cell_type": "code",
   "execution_count": 0,
   "metadata": {
    "colab": {},
    "colab_type": "code",
    "id": "bbu4YLJsS_OZ"
   },
   "outputs": [],
   "source": []
  },
  {
   "cell_type": "code",
   "execution_count": 0,
   "metadata": {
    "colab": {
     "base_uri": "https://localhost:8080/",
     "height": 284
    },
    "colab_type": "code",
    "id": "SNjeRaZLS_NQ",
    "outputId": "642a0d1a-b33a-4b74-8b2f-d2da83a6f043"
   },
   "outputs": [
    {
     "data": {
      "text/html": [
       "<div>\n",
       "<style scoped>\n",
       "    .dataframe tbody tr th:only-of-type {\n",
       "        vertical-align: middle;\n",
       "    }\n",
       "\n",
       "    .dataframe tbody tr th {\n",
       "        vertical-align: top;\n",
       "    }\n",
       "\n",
       "    .dataframe thead th {\n",
       "        text-align: right;\n",
       "    }\n",
       "</style>\n",
       "<table border=\"1\" class=\"dataframe\">\n",
       "  <thead>\n",
       "    <tr style=\"text-align: right;\">\n",
       "      <th></th>\n",
       "      <th>employee_id</th>\n",
       "      <th>department</th>\n",
       "      <th>region</th>\n",
       "      <th>education</th>\n",
       "      <th>gender</th>\n",
       "      <th>recruitment_channel</th>\n",
       "      <th>no_of_trainings</th>\n",
       "      <th>age</th>\n",
       "      <th>previous_year_rating</th>\n",
       "      <th>length_of_service</th>\n",
       "      <th>KPIs_met &gt;80%</th>\n",
       "      <th>awards_won?</th>\n",
       "      <th>avg_training_score</th>\n",
       "      <th>is_promoted</th>\n",
       "    </tr>\n",
       "  </thead>\n",
       "  <tbody>\n",
       "    <tr>\n",
       "      <th>0</th>\n",
       "      <td>65438</td>\n",
       "      <td>Sales &amp; Marketing</td>\n",
       "      <td>region_7</td>\n",
       "      <td>Master's &amp; above</td>\n",
       "      <td>f</td>\n",
       "      <td>sourcing</td>\n",
       "      <td>1</td>\n",
       "      <td>35</td>\n",
       "      <td>5.0</td>\n",
       "      <td>8</td>\n",
       "      <td>1</td>\n",
       "      <td>0</td>\n",
       "      <td>49</td>\n",
       "      <td>0</td>\n",
       "    </tr>\n",
       "    <tr>\n",
       "      <th>1</th>\n",
       "      <td>65141</td>\n",
       "      <td>Operations</td>\n",
       "      <td>region_22</td>\n",
       "      <td>Bachelor's</td>\n",
       "      <td>m</td>\n",
       "      <td>other</td>\n",
       "      <td>1</td>\n",
       "      <td>30</td>\n",
       "      <td>5.0</td>\n",
       "      <td>4</td>\n",
       "      <td>0</td>\n",
       "      <td>0</td>\n",
       "      <td>60</td>\n",
       "      <td>0</td>\n",
       "    </tr>\n",
       "    <tr>\n",
       "      <th>2</th>\n",
       "      <td>7513</td>\n",
       "      <td>Sales &amp; Marketing</td>\n",
       "      <td>region_19</td>\n",
       "      <td>Bachelor's</td>\n",
       "      <td>m</td>\n",
       "      <td>sourcing</td>\n",
       "      <td>1</td>\n",
       "      <td>34</td>\n",
       "      <td>3.0</td>\n",
       "      <td>7</td>\n",
       "      <td>0</td>\n",
       "      <td>0</td>\n",
       "      <td>50</td>\n",
       "      <td>0</td>\n",
       "    </tr>\n",
       "    <tr>\n",
       "      <th>3</th>\n",
       "      <td>2542</td>\n",
       "      <td>Sales &amp; Marketing</td>\n",
       "      <td>region_23</td>\n",
       "      <td>Bachelor's</td>\n",
       "      <td>m</td>\n",
       "      <td>other</td>\n",
       "      <td>2</td>\n",
       "      <td>39</td>\n",
       "      <td>1.0</td>\n",
       "      <td>10</td>\n",
       "      <td>0</td>\n",
       "      <td>0</td>\n",
       "      <td>50</td>\n",
       "      <td>0</td>\n",
       "    </tr>\n",
       "    <tr>\n",
       "      <th>4</th>\n",
       "      <td>48945</td>\n",
       "      <td>Technology</td>\n",
       "      <td>region_26</td>\n",
       "      <td>Bachelor's</td>\n",
       "      <td>m</td>\n",
       "      <td>other</td>\n",
       "      <td>1</td>\n",
       "      <td>45</td>\n",
       "      <td>3.0</td>\n",
       "      <td>2</td>\n",
       "      <td>0</td>\n",
       "      <td>0</td>\n",
       "      <td>73</td>\n",
       "      <td>0</td>\n",
       "    </tr>\n",
       "  </tbody>\n",
       "</table>\n",
       "</div>"
      ],
      "text/plain": [
       "   employee_id         department     region         education gender  \\\n",
       "0        65438  Sales & Marketing   region_7  Master's & above      f   \n",
       "1        65141         Operations  region_22        Bachelor's      m   \n",
       "2         7513  Sales & Marketing  region_19        Bachelor's      m   \n",
       "3         2542  Sales & Marketing  region_23        Bachelor's      m   \n",
       "4        48945         Technology  region_26        Bachelor's      m   \n",
       "\n",
       "  recruitment_channel  no_of_trainings  age  previous_year_rating  \\\n",
       "0            sourcing                1   35                   5.0   \n",
       "1               other                1   30                   5.0   \n",
       "2            sourcing                1   34                   3.0   \n",
       "3               other                2   39                   1.0   \n",
       "4               other                1   45                   3.0   \n",
       "\n",
       "   length_of_service  KPIs_met >80%  awards_won?  avg_training_score  \\\n",
       "0                  8              1            0                  49   \n",
       "1                  4              0            0                  60   \n",
       "2                  7              0            0                  50   \n",
       "3                 10              0            0                  50   \n",
       "4                  2              0            0                  73   \n",
       "\n",
       "   is_promoted  \n",
       "0            0  \n",
       "1            0  \n",
       "2            0  \n",
       "3            0  \n",
       "4            0  "
      ]
     },
     "execution_count": 148,
     "metadata": {
      "tags": []
     },
     "output_type": "execute_result"
    }
   ],
   "source": [
    "data_train.head()"
   ]
  },
  {
   "cell_type": "code",
   "execution_count": 0,
   "metadata": {
    "colab": {
     "base_uri": "https://localhost:8080/",
     "height": 200
    },
    "colab_type": "code",
    "id": "ZLXupous5lqL",
    "outputId": "60632c65-0cd5-4759-f59c-962e6e736a5c"
   },
   "outputs": [
    {
     "data": {
      "text/plain": [
       "1     44378\n",
       "2      7987\n",
       "3      1776\n",
       "4       468\n",
       "5       128\n",
       "6        44\n",
       "7        12\n",
       "10        5\n",
       "9         5\n",
       "8         5\n",
       "Name: no_of_trainings, dtype: int64"
      ]
     },
     "execution_count": 149,
     "metadata": {
      "tags": []
     },
     "output_type": "execute_result"
    }
   ],
   "source": [
    "data_train.no_of_trainings.value_counts()"
   ]
  },
  {
   "cell_type": "code",
   "execution_count": 0,
   "metadata": {
    "colab": {
     "base_uri": "https://localhost:8080/",
     "height": 66
    },
    "colab_type": "code",
    "id": "myNiKqmmAwEG",
    "outputId": "f4776303-93b9-4a53-8a69-1494077d3e11"
   },
   "outputs": [
    {
     "data": {
      "text/plain": [
       "0    53538\n",
       "1     1270\n",
       "Name: awards_won?, dtype: int64"
      ]
     },
     "execution_count": 151,
     "metadata": {
      "tags": []
     },
     "output_type": "execute_result"
    }
   ],
   "source": [
    "data_train['awards_won?'].value_counts() #change astype"
   ]
  },
  {
   "cell_type": "code",
   "execution_count": 0,
   "metadata": {
    "colab": {
     "base_uri": "https://localhost:8080/",
     "height": 66
    },
    "colab_type": "code",
    "id": "zL0ERIlWA9qF",
    "outputId": "3caa442a-3bcc-455e-8801-bcf1dd0d26e2"
   },
   "outputs": [
    {
     "data": {
      "text/plain": [
       "0    35517\n",
       "1    19291\n",
       "Name: KPIs_met >80%, dtype: int64"
      ]
     },
     "execution_count": 153,
     "metadata": {
      "tags": []
     },
     "output_type": "execute_result"
    }
   ],
   "source": [
    "data_train['KPIs_met >80%'].value_counts() #change astype"
   ]
  },
  {
   "cell_type": "code",
   "execution_count": 0,
   "metadata": {
    "colab": {
     "base_uri": "https://localhost:8080/",
     "height": 116
    },
    "colab_type": "code",
    "id": "aI0HYCRoBJji",
    "outputId": "51759a09-c1b2-4a89-80b8-fac60945a7a5"
   },
   "outputs": [
    {
     "data": {
      "text/plain": [
       "3.0    22742\n",
       "5.0    11741\n",
       "4.0     9877\n",
       "1.0     6223\n",
       "2.0     4225\n",
       "Name: previous_year_rating, dtype: int64"
      ]
     },
     "execution_count": 154,
     "metadata": {
      "tags": []
     },
     "output_type": "execute_result"
    }
   ],
   "source": [
    "data_train.previous_year_rating.value_counts() #type"
   ]
  },
  {
   "cell_type": "code",
   "execution_count": 0,
   "metadata": {
    "colab": {
     "base_uri": "https://localhost:8080/",
     "height": 291
    },
    "colab_type": "code",
    "id": "ZBacM-C3BgK8",
    "outputId": "ecab0322-2abf-4c72-aa93-150c23a1f305"
   },
   "outputs": [
    {
     "data": {
      "image/png": "[encoded data removed]",
      "text/plain": [
       "<Figure size 1800x360 with 1 Axes>"
      ]
     },
     "metadata": {
      "tags": []
     },
     "output_type": "display_data"
    }
   ],
   "source": [
    "# sns.distplot(data_train.age,hist = False ,color = data_train['is_promoted'])\n",
    "g = sns.FacetGrid(data_train, hue=\"is_promoted\", aspect=5,height=5)\n",
    "pl = g.map(sns.distplot, \"previous_year_rating\",  hist=False, rug=True)\n"
   ]
  },
  {
   "cell_type": "code",
   "execution_count": 0,
   "metadata": {
    "colab": {
     "base_uri": "https://localhost:8080/",
     "height": 291
    },
    "colab_type": "code",
    "id": "XY70vLiTBkrK",
    "outputId": "1d1a5c6e-f41d-499b-be0e-b49f3ac7676b"
   },
   "outputs": [
    {
     "data": {
      "image/png": "[encoded data removed]",
      "text/plain": [
       "<Figure size 1800x360 with 1 Axes>"
      ]
     },
     "metadata": {
      "tags": []
     },
     "output_type": "display_data"
    }
   ],
   "source": [
    "# sns.distplot(data_train.avg_training_score)\n",
    "g = sns.FacetGrid(data_train, hue=\"is_promoted\", aspect=5,height=5)\n",
    "pl2 = g.map(sns.distplot, \"avg_training_score\",  hist=False, rug=True)\n"
   ]
  },
  {
   "cell_type": "code",
   "execution_count": 0,
   "metadata": {
    "colab": {
     "base_uri": "https://localhost:8080/",
     "height": 291
    },
    "colab_type": "code",
    "id": "WimuEsiHBy_Z",
    "outputId": "b19d6623-9e0a-4efa-c9b7-872a0d2c4e02"
   },
   "outputs": [
    {
     "data": {
      "image/png": "[encoded data removed]",
      "text/plain": [
       "<Figure size 1800x360 with 1 Axes>"
      ]
     },
     "metadata": {
      "tags": []
     },
     "output_type": "display_data"
    }
   ],
   "source": [
    "# sns.distplot(data_train.length_of_service)\n",
    "g = sns.FacetGrid(data_train, hue=\"is_promoted\", aspect=5,height=5)\n",
    "pl2 = g.map(sns.distplot, \"length_of_service\",  hist=False, rug=True)\n"
   ]
  },
  {
   "cell_type": "code",
   "execution_count": 0,
   "metadata": {
    "colab": {},
    "colab_type": "code",
    "id": "Pfy3a2FBApNL"
   },
   "outputs": [],
   "source": [
    "\n"
   ]
  },
  {
   "cell_type": "code",
   "execution_count": 0,
   "metadata": {
    "colab": {
     "base_uri": "https://localhost:8080/",
     "height": 100
    },
    "colab_type": "code",
    "id": "BMbjHfLbEUhF",
    "outputId": "05fa4d90-c630-4cce-d7d8-5006e4bdd35b"
   },
   "outputs": [
    {
     "data": {
      "text/plain": [
       "Index(['employee_id', 'department', 'region', 'education', 'gender',\n",
       "       'recruitment_channel', 'no_of_trainings', 'age', 'previous_year_rating',\n",
       "       'length_of_service', 'KPIs_met >80%', 'awards_won?',\n",
       "       'avg_training_score', 'is_promoted'],\n",
       "      dtype='object')"
      ]
     },
     "execution_count": 172,
     "metadata": {
      "tags": []
     },
     "output_type": "execute_result"
    }
   ],
   "source": [
    "data_train.columns"
   ]
  },
  {
   "cell_type": "code",
   "execution_count": 6,
   "metadata": {
    "colab": {},
    "colab_type": "code",
    "id": "xUi1KcW_EVYh"
   },
   "outputs": [],
   "source": [
    "data_train = data_train.drop(columns= ['employee_id','region', ])   #add main\n",
    "\n",
    "data_train['awards_won?'] = data_train['awards_won?'].astype('object')\n",
    "data_train['KPIs_met >80%'] = data_train['KPIs_met >80%'].astype('object')\n",
    "# data_train['awards_won?'] = data_train['awards_won?'].astype('object')"
   ]
  },
  {
   "cell_type": "code",
   "execution_count": 9,
   "metadata": {
    "colab": {},
    "colab_type": "code",
    "id": "rBBg1halmwDe"
   },
   "outputs": [],
   "source": [
    "from statsmodels.stats.outliers_influence import variance_inflation_factor\n",
    "from statsmodels.tools.tools import add_constant"
   ]
  },
  {
   "cell_type": "code",
   "execution_count": 49,
   "metadata": {
    "colab": {},
    "colab_type": "code",
    "id": "NqmI38kGmwAG"
   },
   "outputs": [],
   "source": [
    "X = data_train.drop(columns='is_promoted')"
   ]
  },
  {
   "cell_type": "code",
   "execution_count": 50,
   "metadata": {
    "colab": {},
    "colab_type": "code",
    "id": "R3XtmkP2qTAB"
   },
   "outputs": [],
   "source": [
    "X_le = label_enc(X)"
   ]
  },
  {
   "cell_type": "code",
   "execution_count": 51,
   "metadata": {},
   "outputs": [],
   "source": [
    "X_ty = X_le.astype('float64')"
   ]
  },
  {
   "cell_type": "code",
   "execution_count": 41,
   "metadata": {
    "colab": {
     "base_uri": "https://localhost:8080/",
     "height": 386
    },
    "colab_type": "code",
    "id": "BUtG_054m3Uq",
    "outputId": "06a68e43-6957-4f42-82fe-75fac40344da"
   },
   "outputs": [
    {
     "data": {
      "text/plain": [
       "const                   77.490530\n",
       "no_of_trainings          1.021099\n",
       "age                      1.896577\n",
       "previous_year_rating     1.150524\n",
       "length_of_service        1.777555\n",
       "avg_training_score       1.085284\n",
       "department               1.094962\n",
       "education                1.136674\n",
       "gender                   1.011919\n",
       "recruitment_channel      1.000463\n",
       "KPIs_met >80%            1.154566\n",
       "awards_won?              1.016057\n",
       "dtype: float64"
      ]
     },
     "execution_count": 41,
     "metadata": {},
     "output_type": "execute_result"
    }
   ],
   "source": [
    "X = add_constant(X_ty)\n",
    "pd.Series([variance_inflation_factor(X.values, i) \n",
    "               for i in range(X.shape[1])], \n",
    "              index=X.columns)"
   ]
  },
  {
   "cell_type": "code",
   "execution_count": 45,
   "metadata": {
    "colab": {},
    "colab_type": "code",
    "id": "8P_hpCRgm3BC"
   },
   "outputs": [],
   "source": [
    "y_data = data_train.is_promoted.values"
   ]
  },
  {
   "cell_type": "code",
   "execution_count": 46,
   "metadata": {
    "colab": {},
    "colab_type": "code",
    "id": "iL_Nmg0Lm292"
   },
   "outputs": [],
   "source": [
    "import statsmodels.api as sm"
   ]
  },
  {
   "cell_type": "code",
   "execution_count": 52,
   "metadata": {},
   "outputs": [
    {
     "name": "stdout",
     "output_type": "stream",
     "text": [
      "Optimization terminated successfully.\n",
      "         Current function value: 0.260918\n",
      "         Iterations 7\n"
     ]
    }
   ],
   "source": [
    "model = sm.Logit(y_data, X_ty)\n",
    "model_fit = model.fit()"
   ]
  },
  {
   "cell_type": "code",
   "execution_count": 55,
   "metadata": {},
   "outputs": [
    {
     "data": {
      "text/html": [
       "<table class=\"simpletable\">\n",
       "<caption>Logit Regression Results</caption>\n",
       "<tr>\n",
       "  <th>Dep. Variable:</th>           <td>y</td>        <th>  No. Observations:  </th>  <td> 54808</td> \n",
       "</tr>\n",
       "<tr>\n",
       "  <th>Model:</th>                 <td>Logit</td>      <th>  Df Residuals:      </th>  <td> 54797</td> \n",
       "</tr>\n",
       "<tr>\n",
       "  <th>Method:</th>                 <td>MLE</td>       <th>  Df Model:          </th>  <td>    10</td> \n",
       "</tr>\n",
       "<tr>\n",
       "  <th>Date:</th>            <td>Mon, 04 May 2020</td> <th>  Pseudo R-squ.:     </th>  <td>0.1040</td> \n",
       "</tr>\n",
       "<tr>\n",
       "  <th>Time:</th>                <td>23:20:58</td>     <th>  Log-Likelihood:    </th> <td> -14300.</td>\n",
       "</tr>\n",
       "<tr>\n",
       "  <th>converged:</th>             <td>True</td>       <th>  LL-Null:           </th> <td> -15961.</td>\n",
       "</tr>\n",
       "<tr>\n",
       "  <th>Covariance Type:</th>     <td>nonrobust</td>    <th>  LLR p-value:       </th>  <td> 0.000</td> \n",
       "</tr>\n",
       "</table>\n",
       "<table class=\"simpletable\">\n",
       "<tr>\n",
       "            <td></td>              <th>coef</th>     <th>std err</th>      <th>z</th>      <th>P>|z|</th>  <th>[0.025</th>    <th>0.975]</th>  \n",
       "</tr>\n",
       "<tr>\n",
       "  <th>no_of_trainings</th>      <td>   -0.6157</td> <td>    0.038</td> <td>  -16.315</td> <td> 0.000</td> <td>   -0.690</td> <td>   -0.542</td>\n",
       "</tr>\n",
       "<tr>\n",
       "  <th>age</th>                  <td>   -0.1233</td> <td>    0.003</td> <td>  -40.991</td> <td> 0.000</td> <td>   -0.129</td> <td>   -0.117</td>\n",
       "</tr>\n",
       "<tr>\n",
       "  <th>previous_year_rating</th> <td>    0.1063</td> <td>    0.014</td> <td>    7.617</td> <td> 0.000</td> <td>    0.079</td> <td>    0.134</td>\n",
       "</tr>\n",
       "<tr>\n",
       "  <th>length_of_service</th>    <td>    0.1055</td> <td>    0.006</td> <td>   18.750</td> <td> 0.000</td> <td>    0.094</td> <td>    0.117</td>\n",
       "</tr>\n",
       "<tr>\n",
       "  <th>avg_training_score</th>   <td>    0.0149</td> <td>    0.001</td> <td>   14.720</td> <td> 0.000</td> <td>    0.013</td> <td>    0.017</td>\n",
       "</tr>\n",
       "<tr>\n",
       "  <th>department</th>           <td>   -0.0055</td> <td>    0.006</td> <td>   -0.929</td> <td> 0.353</td> <td>   -0.017</td> <td>    0.006</td>\n",
       "</tr>\n",
       "<tr>\n",
       "  <th>education</th>            <td>    0.2687</td> <td>    0.019</td> <td>   14.224</td> <td> 0.000</td> <td>    0.232</td> <td>    0.306</td>\n",
       "</tr>\n",
       "<tr>\n",
       "  <th>gender</th>               <td>   -0.2262</td> <td>    0.033</td> <td>   -6.866</td> <td> 0.000</td> <td>   -0.291</td> <td>   -0.162</td>\n",
       "</tr>\n",
       "<tr>\n",
       "  <th>recruitment_channel</th>  <td>   -0.0658</td> <td>    0.016</td> <td>   -4.068</td> <td> 0.000</td> <td>   -0.097</td> <td>   -0.034</td>\n",
       "</tr>\n",
       "<tr>\n",
       "  <th>KPIs_met >80%</th>        <td>    1.2409</td> <td>    0.034</td> <td>   35.972</td> <td> 0.000</td> <td>    1.173</td> <td>    1.308</td>\n",
       "</tr>\n",
       "<tr>\n",
       "  <th>awards_won?</th>          <td>    2.0416</td> <td>    0.065</td> <td>   31.511</td> <td> 0.000</td> <td>    1.915</td> <td>    2.169</td>\n",
       "</tr>\n",
       "</table>"
      ],
      "text/plain": [
       "<class 'statsmodels.iolib.summary.Summary'>\n",
       "\"\"\"\n",
       "                           Logit Regression Results                           \n",
       "==============================================================================\n",
       "Dep. Variable:                      y   No. Observations:                54808\n",
       "Model:                          Logit   Df Residuals:                    54797\n",
       "Method:                           MLE   Df Model:                           10\n",
       "Date:                Mon, 04 May 2020   Pseudo R-squ.:                  0.1040\n",
       "Time:                        23:20:58   Log-Likelihood:                -14300.\n",
       "converged:                       True   LL-Null:                       -15961.\n",
       "Covariance Type:            nonrobust   LLR p-value:                     0.000\n",
       "========================================================================================\n",
       "                           coef    std err          z      P>|z|      [0.025      0.975]\n",
       "----------------------------------------------------------------------------------------\n",
       "no_of_trainings         -0.6157      0.038    -16.315      0.000      -0.690      -0.542\n",
       "age                     -0.1233      0.003    -40.991      0.000      -0.129      -0.117\n",
       "previous_year_rating     0.1063      0.014      7.617      0.000       0.079       0.134\n",
       "length_of_service        0.1055      0.006     18.750      0.000       0.094       0.117\n",
       "avg_training_score       0.0149      0.001     14.720      0.000       0.013       0.017\n",
       "department              -0.0055      0.006     -0.929      0.353      -0.017       0.006\n",
       "education                0.2687      0.019     14.224      0.000       0.232       0.306\n",
       "gender                  -0.2262      0.033     -6.866      0.000      -0.291      -0.162\n",
       "recruitment_channel     -0.0658      0.016     -4.068      0.000      -0.097      -0.034\n",
       "KPIs_met >80%            1.2409      0.034     35.972      0.000       1.173       1.308\n",
       "awards_won?              2.0416      0.065     31.511      0.000       1.915       2.169\n",
       "========================================================================================\n",
       "\"\"\""
      ]
     },
     "execution_count": 55,
     "metadata": {},
     "output_type": "execute_result"
    }
   ],
   "source": [
    "model_fit.summary()"
   ]
  },
  {
   "cell_type": "code",
   "execution_count": 0,
   "metadata": {
    "colab": {
     "base_uri": "https://localhost:8080/",
     "height": 66
    },
    "colab_type": "code",
    "id": "VKzhsUZLEVUE",
    "outputId": "119f62ea-dc4e-44b7-91bc-cd90184c42ff"
   },
   "outputs": [
    {
     "data": {
      "text/plain": [
       "Index(['no_of_trainings', 'age', 'previous_year_rating', 'length_of_service',\n",
       "       'avg_training_score', 'is_promoted'],\n",
       "      dtype='object')"
      ]
     },
     "execution_count": 178,
     "metadata": {
      "tags": []
     },
     "output_type": "execute_result"
    }
   ],
   "source": [
    "data_train.select_dtypes(exclude='object').columns"
   ]
  },
  {
   "cell_type": "code",
   "execution_count": 0,
   "metadata": {
    "colab": {
     "base_uri": "https://localhost:8080/",
     "height": 66
    },
    "colab_type": "code",
    "id": "jOB6LUr-EVQ2",
    "outputId": "ee437346-45fc-465b-ec8d-6bb06fad7726"
   },
   "outputs": [
    {
     "data": {
      "text/plain": [
       "Index(['department', 'education', 'gender', 'recruitment_channel',\n",
       "       'KPIs_met >80%', 'awards_won?'],\n",
       "      dtype='object')"
      ]
     },
     "execution_count": 177,
     "metadata": {
      "tags": []
     },
     "output_type": "execute_result"
    }
   ],
   "source": [
    "data_train.select_dtypes('object').columns"
   ]
  },
  {
   "cell_type": "code",
   "execution_count": 0,
   "metadata": {
    "colab": {},
    "colab_type": "code",
    "id": "C7OIk-1il_Ti"
   },
   "outputs": [],
   "source": []
  },
  {
   "cell_type": "markdown",
   "metadata": {
    "colab_type": "text",
    "id": "YPF08FY8Fvh6"
   },
   "source": [
    "###normalize"
   ]
  },
  {
   "cell_type": "code",
   "execution_count": 0,
   "metadata": {
    "colab": {},
    "colab_type": "code",
    "id": "-AJOmF08EVNi"
   },
   "outputs": [],
   "source": []
  },
  {
   "cell_type": "code",
   "execution_count": 0,
   "metadata": {
    "colab": {},
    "colab_type": "code",
    "id": "UaHNJxmaEVKt"
   },
   "outputs": [],
   "source": []
  },
  {
   "cell_type": "code",
   "execution_count": 0,
   "metadata": {
    "colab": {},
    "colab_type": "code",
    "id": "b2SNMrqAEVHn"
   },
   "outputs": [],
   "source": []
  },
  {
   "cell_type": "code",
   "execution_count": 0,
   "metadata": {
    "colab": {},
    "colab_type": "code",
    "id": "abdpjoUNF2V7"
   },
   "outputs": [],
   "source": []
  },
  {
   "cell_type": "markdown",
   "metadata": {
    "colab_type": "text",
    "id": "lSGFyopDK7kx"
   },
   "source": [
    "## func"
   ]
  },
  {
   "cell_type": "code",
   "execution_count": 8,
   "metadata": {
    "colab": {},
    "colab_type": "code",
    "id": "fBM-G6AVK_mO"
   },
   "outputs": [],
   "source": [
    "def type_casting(data):\n",
    "    df = data\n",
    "    df['first_payment_date'] = pd.to_datetime(df.first_payment_date, format='%Y%m%d')\n",
    "    df['origination_date'] = pd.to_datetime(df.origination_date, format='%Y%m%d')\n",
    "#     df['test_type'] = df['test_type'].astype('object')\n",
    "#     df['difficulty_level'] = df['difficulty_level'].astype('object')\n",
    "    \n",
    "    return(df)\n",
    "\n",
    "def drop(data):\n",
    "#     df = data.copy()\n",
    "    df = data.drop(columns = ['loan_id','first_payment_date','origination_date'])\n",
    "    \n",
    "    return df"
   ]
  },
  {
   "cell_type": "code",
   "execution_count": 7,
   "metadata": {
    "colab": {},
    "colab_type": "code",
    "id": "dCQp-v4yLCvJ"
   },
   "outputs": [],
   "source": [
    "def label_enc(dataset):\n",
    "    from sklearn.preprocessing import LabelEncoder\n",
    "    df1 = dataset.copy()\n",
    "    df_categorical = df1.select_dtypes(include=['object'])\n",
    "\n",
    "    # apply Label encoder to df_categorical\n",
    "\n",
    "    le = LabelEncoder()\n",
    "    df_categorical = df_categorical.apply(le.fit_transform)\n",
    "    df_categorical = df_categorical.astype('object')\n",
    "\n",
    "    # concat df_categorical with original df AFTER LABEL ENCODING\n",
    "    df1 = df1.drop(df_categorical.columns, axis=1)\n",
    "    df1 = pd.concat([df1, df_categorical], axis=1)\n",
    "    \n",
    "    df_categorical =0\n",
    "    return df1\n",
    "\n",
    "def impute(data):\n",
    "    from sklearn.impute import SimpleImputer\n",
    "    \n",
    "    si = SimpleImputer()\n",
    "    array = si.fit_transform(data)\n",
    "    \n",
    "    return array\n",
    "    \n",
    "\n",
    "def standardize(dataset, X_test = None ,test = False):\n",
    "    from sklearn.preprocessing import StandardScaler\n",
    "    df1 = dataset.copy()\n",
    "    df_num = df1.select_dtypes(include=['int64','float64','int32','float32'])\n",
    "    df_num = pd.DataFrame(impute(df_num), columns = df_num.columns,index = df1.index)\n",
    "\n",
    "    se = StandardScaler()\n",
    "    df_scaled = pd.DataFrame(se.fit_transform(df_num),columns = df_num.columns, index = df_num.index)\n",
    "    \n",
    "    df_new = df1.drop(df_num.columns,axis =1)\n",
    "    df_new = pd.concat([df_scaled,df_new],axis =1)\n",
    "    \n",
    "    if test:\n",
    "        df1 = X_test.copy()\n",
    "        df_test_num = X_test.select_dtypes(include=['int64','float64','int32','float32'])\n",
    "        df_test_num = pd.DataFrame(impute(df_test_num), columns = df_test_num.columns,index = df_test_num.index)\n",
    "        \n",
    "        df_scaled = pd.DataFrame(se.transform(df_test_num),columns = df_test_num.columns, index = df_test_num.index)\n",
    "        \n",
    "        df_new_ = df1.drop(df_test_num.columns,axis =1)\n",
    "        df_new_ = pd.concat([df_new_,df_scaled],axis =1)\n",
    "    else:\n",
    "        df_new_ = 0\n",
    "    \n",
    "#     df_num ,df1,df_scaled = 0    \n",
    "    return df_new,df_new_\n",
    "\n",
    "def over_sample(X_train, y_train, smote = True):\n",
    "    X_os = pd.DataFrame(impute(X_train), columns = X_train.columns,index = X_train.index)  #smote does not accept null values, impute returns array\n",
    "    y_os = y_train.copy()\n",
    "\n",
    "    from imblearn.over_sampling import SMOTE,ADASYN\n",
    "    if smote:\n",
    "        os = SMOTE(random_state=0)\n",
    "        columns = X_os.columns\n",
    "\n",
    "        X_train_os,y_train_os=os.fit_sample(X_os, y_os)\n",
    "        X_train_os = pd.DataFrame(data=X_train_os,columns=columns ) # both index changes , i think we dont need to change index\n",
    "    \n",
    "    else:\n",
    "        os = ADASYN(random_state=0)\n",
    "        columns = X_os.columns\n",
    "\n",
    "        X_train_os,y_train_os=os.fit_sample(X_os, y_os)\n",
    "        X_train_os = pd.DataFrame(data=X_train_os,columns=columns )\n",
    "        \n",
    "        \n",
    "    return X_train_os, y_train_os\n",
    "\n",
    "def under_sample(X_train, y_train, random_under_sample = True,random_replacement = False ,ver = 1):\n",
    "    X_us = pd.DataFrame(impute(X_train), columns = X_train.columns,index = X_train.index)  #smote does not accept null values, impute returns array\n",
    "    y_us = y_train.copy()\n",
    "\n",
    "    from imblearn.under_sampling import RandomUnderSampler,NearMiss\n",
    "    if random_under_sample:\n",
    "        us = RandomUnderSampler(random_state=0, replacement = random_replacement)\n",
    "        columns = X_us.columns\n",
    "\n",
    "        X_train_us,y_train_us=us.fit_sample(X_us, y_us)\n",
    "        X_train_us = pd.DataFrame(data=X_train_us,columns=columns ) # both index changes , i think we dont need to change index\n",
    "    \n",
    "    else:\n",
    "        us = NearMiss(version = ver)\n",
    "        columns = X_us.columns\n",
    "\n",
    "        X_train_us,y_train_us=us.fit_sample(X_us, y_us)\n",
    "        X_train_us = pd.DataFrame(data=X_train_us,columns=columns )\n",
    "        \n",
    "        \n",
    "    return X_train_us, y_train_us"
   ]
  },
  {
   "cell_type": "code",
   "execution_count": 0,
   "metadata": {
    "colab": {},
    "colab_type": "code",
    "id": "NcYm4a-ELCdd"
   },
   "outputs": [],
   "source": [
    "def clf(model):\n",
    "    from sklearn.metrics import classification_report,confusion_matrix,accuracy_score,roc_curve,auc\n",
    "    \n",
    "    model = model()\n",
    "    model.fit(X_train, y_train)\n",
    "\n",
    "    y_predict = model.predict(X_val)\n",
    "    print(confusion_matrix(y_val,y_predict)) \n",
    "    print(accuracy_score(y_val,y_predict))\n",
    "    \n",
    "    fpr, tpr, thresholds = roc_curve(y_val, y_predict, pos_label=None)\n",
    "    print('auc :',auc(fpr, tpr))\n",
    "    "
   ]
  },
  {
   "cell_type": "code",
   "execution_count": 0,
   "metadata": {
    "colab": {},
    "colab_type": "code",
    "id": "hq7uKa5FLQ-X"
   },
   "outputs": [],
   "source": [
    "def clf_tune(model):\n",
    "    from sklearn.metrics import classification_report,confusion_matrix,accuracy_score,roc_curve,auc\n",
    "    \n",
    "    model = model()\n",
    "    model.fit(X_train, y_train)\n",
    "\n",
    "    y_predict = model.predict(X_val)\n",
    "    print(confusion_matrix(y_val,y_predict)) \n",
    "    print(accuracy_score(y_val,y_predict))\n",
    "    \n",
    "    fpr, tpr, thresholds = roc_curve(y_val, y_predict, pos_label=None)\n",
    "    print('auc :',auc(fpr, tpr))\n",
    "    "
   ]
  },
  {
   "cell_type": "markdown",
   "metadata": {
    "colab_type": "text",
    "id": "ZNeowjn7F3s4"
   },
   "source": [
    "## model"
   ]
  },
  {
   "cell_type": "markdown",
   "metadata": {
    "colab_type": "text",
    "id": "2a2c3IzPF7Mi"
   },
   "source": [
    "### py"
   ]
  },
  {
   "cell_type": "code",
   "execution_count": 0,
   "metadata": {
    "colab": {},
    "colab_type": "code",
    "id": "NoIW1wsRF8YU"
   },
   "outputs": [],
   "source": [
    "pip install pycaret"
   ]
  },
  {
   "cell_type": "code",
   "execution_count": 0,
   "metadata": {
    "colab": {},
    "colab_type": "code",
    "id": "bQF5n9N7GAWy"
   },
   "outputs": [],
   "source": [
    "from pycaret.classification import *"
   ]
  },
  {
   "cell_type": "code",
   "execution_count": 0,
   "metadata": {
    "colab": {},
    "colab_type": "code",
    "id": "c7GNDl_1GHAf"
   },
   "outputs": [],
   "source": [
    "se = setup(data_train, target = 'is_promoted',normalize = False)"
   ]
  },
  {
   "cell_type": "code",
   "execution_count": 0,
   "metadata": {
    "colab": {
     "base_uri": "https://localhost:8080/",
     "height": 302,
     "referenced_widgets": [
      "3ad62348d31848b78c1eb93bdd223e9f",
      "dd2dec57b9d4426d99cd90ced9794ae7",
      "264c9ed6a1a844a385b89c9991d6a0b2"
     ]
    },
    "colab_type": "code",
    "id": "_2FfEf3sGh5-",
    "outputId": "ede6172d-fb23-4460-ea2f-cf09ee3f0e07"
   },
   "outputs": [
    {
     "data": {
      "text/html": [
       "<style  type=\"text/css\" >\n",
       "    #T_bcdd9808_8d78_11ea_874b_0242ac1c0002 th {\n",
       "          text-align: left;\n",
       "    }    #T_bcdd9808_8d78_11ea_874b_0242ac1c0002row0_col0 {\n",
       "            text-align:  left;\n",
       "        }    #T_bcdd9808_8d78_11ea_874b_0242ac1c0002row0_col1 {\n",
       "            background-color:  yellow;\n",
       "            text-align:  left;\n",
       "        }    #T_bcdd9808_8d78_11ea_874b_0242ac1c0002row0_col2 {\n",
       "            background-color:  yellow;\n",
       "            text-align:  left;\n",
       "        }    #T_bcdd9808_8d78_11ea_874b_0242ac1c0002row0_col3 {\n",
       "            : ;\n",
       "            text-align:  left;\n",
       "        }    #T_bcdd9808_8d78_11ea_874b_0242ac1c0002row0_col4 {\n",
       "            : ;\n",
       "            text-align:  left;\n",
       "        }    #T_bcdd9808_8d78_11ea_874b_0242ac1c0002row0_col5 {\n",
       "            : ;\n",
       "            text-align:  left;\n",
       "        }    #T_bcdd9808_8d78_11ea_874b_0242ac1c0002row0_col6 {\n",
       "            : ;\n",
       "            text-align:  left;\n",
       "        }    #T_bcdd9808_8d78_11ea_874b_0242ac1c0002row1_col0 {\n",
       "            text-align:  left;\n",
       "        }    #T_bcdd9808_8d78_11ea_874b_0242ac1c0002row1_col1 {\n",
       "            : ;\n",
       "            text-align:  left;\n",
       "        }    #T_bcdd9808_8d78_11ea_874b_0242ac1c0002row1_col2 {\n",
       "            : ;\n",
       "            text-align:  left;\n",
       "        }    #T_bcdd9808_8d78_11ea_874b_0242ac1c0002row1_col3 {\n",
       "            : ;\n",
       "            text-align:  left;\n",
       "        }    #T_bcdd9808_8d78_11ea_874b_0242ac1c0002row1_col4 {\n",
       "            : ;\n",
       "            text-align:  left;\n",
       "        }    #T_bcdd9808_8d78_11ea_874b_0242ac1c0002row1_col5 {\n",
       "            background-color:  yellow;\n",
       "            text-align:  left;\n",
       "        }    #T_bcdd9808_8d78_11ea_874b_0242ac1c0002row1_col6 {\n",
       "            background-color:  yellow;\n",
       "            text-align:  left;\n",
       "        }    #T_bcdd9808_8d78_11ea_874b_0242ac1c0002row2_col0 {\n",
       "            text-align:  left;\n",
       "        }    #T_bcdd9808_8d78_11ea_874b_0242ac1c0002row2_col1 {\n",
       "            : ;\n",
       "            text-align:  left;\n",
       "        }    #T_bcdd9808_8d78_11ea_874b_0242ac1c0002row2_col2 {\n",
       "            : ;\n",
       "            text-align:  left;\n",
       "        }    #T_bcdd9808_8d78_11ea_874b_0242ac1c0002row2_col3 {\n",
       "            : ;\n",
       "            text-align:  left;\n",
       "        }    #T_bcdd9808_8d78_11ea_874b_0242ac1c0002row2_col4 {\n",
       "            : ;\n",
       "            text-align:  left;\n",
       "        }    #T_bcdd9808_8d78_11ea_874b_0242ac1c0002row2_col5 {\n",
       "            : ;\n",
       "            text-align:  left;\n",
       "        }    #T_bcdd9808_8d78_11ea_874b_0242ac1c0002row2_col6 {\n",
       "            : ;\n",
       "            text-align:  left;\n",
       "        }    #T_bcdd9808_8d78_11ea_874b_0242ac1c0002row3_col0 {\n",
       "            text-align:  left;\n",
       "        }    #T_bcdd9808_8d78_11ea_874b_0242ac1c0002row3_col1 {\n",
       "            : ;\n",
       "            text-align:  left;\n",
       "        }    #T_bcdd9808_8d78_11ea_874b_0242ac1c0002row3_col2 {\n",
       "            : ;\n",
       "            text-align:  left;\n",
       "        }    #T_bcdd9808_8d78_11ea_874b_0242ac1c0002row3_col3 {\n",
       "            : ;\n",
       "            text-align:  left;\n",
       "        }    #T_bcdd9808_8d78_11ea_874b_0242ac1c0002row3_col4 {\n",
       "            : ;\n",
       "            text-align:  left;\n",
       "        }    #T_bcdd9808_8d78_11ea_874b_0242ac1c0002row3_col5 {\n",
       "            : ;\n",
       "            text-align:  left;\n",
       "        }    #T_bcdd9808_8d78_11ea_874b_0242ac1c0002row3_col6 {\n",
       "            : ;\n",
       "            text-align:  left;\n",
       "        }    #T_bcdd9808_8d78_11ea_874b_0242ac1c0002row4_col0 {\n",
       "            text-align:  left;\n",
       "        }    #T_bcdd9808_8d78_11ea_874b_0242ac1c0002row4_col1 {\n",
       "            : ;\n",
       "            text-align:  left;\n",
       "        }    #T_bcdd9808_8d78_11ea_874b_0242ac1c0002row4_col2 {\n",
       "            : ;\n",
       "            text-align:  left;\n",
       "        }    #T_bcdd9808_8d78_11ea_874b_0242ac1c0002row4_col3 {\n",
       "            : ;\n",
       "            text-align:  left;\n",
       "        }    #T_bcdd9808_8d78_11ea_874b_0242ac1c0002row4_col4 {\n",
       "            : ;\n",
       "            text-align:  left;\n",
       "        }    #T_bcdd9808_8d78_11ea_874b_0242ac1c0002row4_col5 {\n",
       "            : ;\n",
       "            text-align:  left;\n",
       "        }    #T_bcdd9808_8d78_11ea_874b_0242ac1c0002row4_col6 {\n",
       "            : ;\n",
       "            text-align:  left;\n",
       "        }    #T_bcdd9808_8d78_11ea_874b_0242ac1c0002row5_col0 {\n",
       "            text-align:  left;\n",
       "        }    #T_bcdd9808_8d78_11ea_874b_0242ac1c0002row5_col1 {\n",
       "            : ;\n",
       "            text-align:  left;\n",
       "        }    #T_bcdd9808_8d78_11ea_874b_0242ac1c0002row5_col2 {\n",
       "            : ;\n",
       "            text-align:  left;\n",
       "        }    #T_bcdd9808_8d78_11ea_874b_0242ac1c0002row5_col3 {\n",
       "            : ;\n",
       "            text-align:  left;\n",
       "        }    #T_bcdd9808_8d78_11ea_874b_0242ac1c0002row5_col4 {\n",
       "            : ;\n",
       "            text-align:  left;\n",
       "        }    #T_bcdd9808_8d78_11ea_874b_0242ac1c0002row5_col5 {\n",
       "            : ;\n",
       "            text-align:  left;\n",
       "        }    #T_bcdd9808_8d78_11ea_874b_0242ac1c0002row5_col6 {\n",
       "            : ;\n",
       "            text-align:  left;\n",
       "        }    #T_bcdd9808_8d78_11ea_874b_0242ac1c0002row6_col0 {\n",
       "            text-align:  left;\n",
       "        }    #T_bcdd9808_8d78_11ea_874b_0242ac1c0002row6_col1 {\n",
       "            : ;\n",
       "            text-align:  left;\n",
       "        }    #T_bcdd9808_8d78_11ea_874b_0242ac1c0002row6_col2 {\n",
       "            : ;\n",
       "            text-align:  left;\n",
       "        }    #T_bcdd9808_8d78_11ea_874b_0242ac1c0002row6_col3 {\n",
       "            : ;\n",
       "            text-align:  left;\n",
       "        }    #T_bcdd9808_8d78_11ea_874b_0242ac1c0002row6_col4 {\n",
       "            background-color:  yellow;\n",
       "            text-align:  left;\n",
       "        }    #T_bcdd9808_8d78_11ea_874b_0242ac1c0002row6_col5 {\n",
       "            : ;\n",
       "            text-align:  left;\n",
       "        }    #T_bcdd9808_8d78_11ea_874b_0242ac1c0002row6_col6 {\n",
       "            : ;\n",
       "            text-align:  left;\n",
       "        }    #T_bcdd9808_8d78_11ea_874b_0242ac1c0002row7_col0 {\n",
       "            text-align:  left;\n",
       "        }    #T_bcdd9808_8d78_11ea_874b_0242ac1c0002row7_col1 {\n",
       "            : ;\n",
       "            text-align:  left;\n",
       "        }    #T_bcdd9808_8d78_11ea_874b_0242ac1c0002row7_col2 {\n",
       "            : ;\n",
       "            text-align:  left;\n",
       "        }    #T_bcdd9808_8d78_11ea_874b_0242ac1c0002row7_col3 {\n",
       "            : ;\n",
       "            text-align:  left;\n",
       "        }    #T_bcdd9808_8d78_11ea_874b_0242ac1c0002row7_col4 {\n",
       "            : ;\n",
       "            text-align:  left;\n",
       "        }    #T_bcdd9808_8d78_11ea_874b_0242ac1c0002row7_col5 {\n",
       "            : ;\n",
       "            text-align:  left;\n",
       "        }    #T_bcdd9808_8d78_11ea_874b_0242ac1c0002row7_col6 {\n",
       "            : ;\n",
       "            text-align:  left;\n",
       "        }    #T_bcdd9808_8d78_11ea_874b_0242ac1c0002row8_col0 {\n",
       "            text-align:  left;\n",
       "        }    #T_bcdd9808_8d78_11ea_874b_0242ac1c0002row8_col1 {\n",
       "            : ;\n",
       "            text-align:  left;\n",
       "        }    #T_bcdd9808_8d78_11ea_874b_0242ac1c0002row8_col2 {\n",
       "            : ;\n",
       "            text-align:  left;\n",
       "        }    #T_bcdd9808_8d78_11ea_874b_0242ac1c0002row8_col3 {\n",
       "            : ;\n",
       "            text-align:  left;\n",
       "        }    #T_bcdd9808_8d78_11ea_874b_0242ac1c0002row8_col4 {\n",
       "            : ;\n",
       "            text-align:  left;\n",
       "        }    #T_bcdd9808_8d78_11ea_874b_0242ac1c0002row8_col5 {\n",
       "            : ;\n",
       "            text-align:  left;\n",
       "        }    #T_bcdd9808_8d78_11ea_874b_0242ac1c0002row8_col6 {\n",
       "            : ;\n",
       "            text-align:  left;\n",
       "        }    #T_bcdd9808_8d78_11ea_874b_0242ac1c0002row9_col0 {\n",
       "            text-align:  left;\n",
       "        }    #T_bcdd9808_8d78_11ea_874b_0242ac1c0002row9_col1 {\n",
       "            : ;\n",
       "            text-align:  left;\n",
       "        }    #T_bcdd9808_8d78_11ea_874b_0242ac1c0002row9_col2 {\n",
       "            : ;\n",
       "            text-align:  left;\n",
       "        }    #T_bcdd9808_8d78_11ea_874b_0242ac1c0002row9_col3 {\n",
       "            : ;\n",
       "            text-align:  left;\n",
       "        }    #T_bcdd9808_8d78_11ea_874b_0242ac1c0002row9_col4 {\n",
       "            : ;\n",
       "            text-align:  left;\n",
       "        }    #T_bcdd9808_8d78_11ea_874b_0242ac1c0002row9_col5 {\n",
       "            : ;\n",
       "            text-align:  left;\n",
       "        }    #T_bcdd9808_8d78_11ea_874b_0242ac1c0002row9_col6 {\n",
       "            : ;\n",
       "            text-align:  left;\n",
       "        }    #T_bcdd9808_8d78_11ea_874b_0242ac1c0002row10_col0 {\n",
       "            text-align:  left;\n",
       "        }    #T_bcdd9808_8d78_11ea_874b_0242ac1c0002row10_col1 {\n",
       "            : ;\n",
       "            text-align:  left;\n",
       "        }    #T_bcdd9808_8d78_11ea_874b_0242ac1c0002row10_col2 {\n",
       "            : ;\n",
       "            text-align:  left;\n",
       "        }    #T_bcdd9808_8d78_11ea_874b_0242ac1c0002row10_col3 {\n",
       "            : ;\n",
       "            text-align:  left;\n",
       "        }    #T_bcdd9808_8d78_11ea_874b_0242ac1c0002row10_col4 {\n",
       "            : ;\n",
       "            text-align:  left;\n",
       "        }    #T_bcdd9808_8d78_11ea_874b_0242ac1c0002row10_col5 {\n",
       "            : ;\n",
       "            text-align:  left;\n",
       "        }    #T_bcdd9808_8d78_11ea_874b_0242ac1c0002row10_col6 {\n",
       "            : ;\n",
       "            text-align:  left;\n",
       "        }    #T_bcdd9808_8d78_11ea_874b_0242ac1c0002row11_col0 {\n",
       "            text-align:  left;\n",
       "        }    #T_bcdd9808_8d78_11ea_874b_0242ac1c0002row11_col1 {\n",
       "            : ;\n",
       "            text-align:  left;\n",
       "        }    #T_bcdd9808_8d78_11ea_874b_0242ac1c0002row11_col2 {\n",
       "            : ;\n",
       "            text-align:  left;\n",
       "        }    #T_bcdd9808_8d78_11ea_874b_0242ac1c0002row11_col3 {\n",
       "            : ;\n",
       "            text-align:  left;\n",
       "        }    #T_bcdd9808_8d78_11ea_874b_0242ac1c0002row11_col4 {\n",
       "            : ;\n",
       "            text-align:  left;\n",
       "        }    #T_bcdd9808_8d78_11ea_874b_0242ac1c0002row11_col5 {\n",
       "            : ;\n",
       "            text-align:  left;\n",
       "        }    #T_bcdd9808_8d78_11ea_874b_0242ac1c0002row11_col6 {\n",
       "            : ;\n",
       "            text-align:  left;\n",
       "        }    #T_bcdd9808_8d78_11ea_874b_0242ac1c0002row12_col0 {\n",
       "            text-align:  left;\n",
       "        }    #T_bcdd9808_8d78_11ea_874b_0242ac1c0002row12_col1 {\n",
       "            : ;\n",
       "            text-align:  left;\n",
       "        }    #T_bcdd9808_8d78_11ea_874b_0242ac1c0002row12_col2 {\n",
       "            : ;\n",
       "            text-align:  left;\n",
       "        }    #T_bcdd9808_8d78_11ea_874b_0242ac1c0002row12_col3 {\n",
       "            : ;\n",
       "            text-align:  left;\n",
       "        }    #T_bcdd9808_8d78_11ea_874b_0242ac1c0002row12_col4 {\n",
       "            : ;\n",
       "            text-align:  left;\n",
       "        }    #T_bcdd9808_8d78_11ea_874b_0242ac1c0002row12_col5 {\n",
       "            : ;\n",
       "            text-align:  left;\n",
       "        }    #T_bcdd9808_8d78_11ea_874b_0242ac1c0002row12_col6 {\n",
       "            : ;\n",
       "            text-align:  left;\n",
       "        }    #T_bcdd9808_8d78_11ea_874b_0242ac1c0002row13_col0 {\n",
       "            text-align:  left;\n",
       "        }    #T_bcdd9808_8d78_11ea_874b_0242ac1c0002row13_col1 {\n",
       "            : ;\n",
       "            text-align:  left;\n",
       "        }    #T_bcdd9808_8d78_11ea_874b_0242ac1c0002row13_col2 {\n",
       "            : ;\n",
       "            text-align:  left;\n",
       "        }    #T_bcdd9808_8d78_11ea_874b_0242ac1c0002row13_col3 {\n",
       "            : ;\n",
       "            text-align:  left;\n",
       "        }    #T_bcdd9808_8d78_11ea_874b_0242ac1c0002row13_col4 {\n",
       "            : ;\n",
       "            text-align:  left;\n",
       "        }    #T_bcdd9808_8d78_11ea_874b_0242ac1c0002row13_col5 {\n",
       "            : ;\n",
       "            text-align:  left;\n",
       "        }    #T_bcdd9808_8d78_11ea_874b_0242ac1c0002row13_col6 {\n",
       "            : ;\n",
       "            text-align:  left;\n",
       "        }    #T_bcdd9808_8d78_11ea_874b_0242ac1c0002row14_col0 {\n",
       "            text-align:  left;\n",
       "        }    #T_bcdd9808_8d78_11ea_874b_0242ac1c0002row14_col1 {\n",
       "            : ;\n",
       "            text-align:  left;\n",
       "        }    #T_bcdd9808_8d78_11ea_874b_0242ac1c0002row14_col2 {\n",
       "            : ;\n",
       "            text-align:  left;\n",
       "        }    #T_bcdd9808_8d78_11ea_874b_0242ac1c0002row14_col3 {\n",
       "            background-color:  yellow;\n",
       "            text-align:  left;\n",
       "        }    #T_bcdd9808_8d78_11ea_874b_0242ac1c0002row14_col4 {\n",
       "            : ;\n",
       "            text-align:  left;\n",
       "        }    #T_bcdd9808_8d78_11ea_874b_0242ac1c0002row14_col5 {\n",
       "            : ;\n",
       "            text-align:  left;\n",
       "        }    #T_bcdd9808_8d78_11ea_874b_0242ac1c0002row14_col6 {\n",
       "            : ;\n",
       "            text-align:  left;\n",
       "        }</style><table id=\"T_bcdd9808_8d78_11ea_874b_0242ac1c0002\" ><thead>    <tr>        <th class=\"blank level0\" ></th>        <th class=\"col_heading level0 col0\" >Model</th>        <th class=\"col_heading level0 col1\" >Accuracy</th>        <th class=\"col_heading level0 col2\" >AUC</th>        <th class=\"col_heading level0 col3\" >Recall</th>        <th class=\"col_heading level0 col4\" >Prec.</th>        <th class=\"col_heading level0 col5\" >F1</th>        <th class=\"col_heading level0 col6\" >Kappa</th>    </tr></thead><tbody>\n",
       "                <tr>\n",
       "                        <th id=\"T_bcdd9808_8d78_11ea_874b_0242ac1c0002level0_row0\" class=\"row_heading level0 row0\" >0</th>\n",
       "                        <td id=\"T_bcdd9808_8d78_11ea_874b_0242ac1c0002row0_col0\" class=\"data row0 col0\" >Light Gradient Boosting Machine</td>\n",
       "                        <td id=\"T_bcdd9808_8d78_11ea_874b_0242ac1c0002row0_col1\" class=\"data row0 col1\" >0.942900</td>\n",
       "                        <td id=\"T_bcdd9808_8d78_11ea_874b_0242ac1c0002row0_col2\" class=\"data row0 col2\" >0.906500</td>\n",
       "                        <td id=\"T_bcdd9808_8d78_11ea_874b_0242ac1c0002row0_col3\" class=\"data row0 col3\" >0.350400</td>\n",
       "                        <td id=\"T_bcdd9808_8d78_11ea_874b_0242ac1c0002row0_col4\" class=\"data row0 col4\" >0.944200</td>\n",
       "                        <td id=\"T_bcdd9808_8d78_11ea_874b_0242ac1c0002row0_col5\" class=\"data row0 col5\" >0.510900</td>\n",
       "                        <td id=\"T_bcdd9808_8d78_11ea_874b_0242ac1c0002row0_col6\" class=\"data row0 col6\" >0.487200</td>\n",
       "            </tr>\n",
       "            <tr>\n",
       "                        <th id=\"T_bcdd9808_8d78_11ea_874b_0242ac1c0002level0_row1\" class=\"row_heading level0 row1\" >1</th>\n",
       "                        <td id=\"T_bcdd9808_8d78_11ea_874b_0242ac1c0002row1_col0\" class=\"data row1 col0\" >CatBoost Classifier</td>\n",
       "                        <td id=\"T_bcdd9808_8d78_11ea_874b_0242ac1c0002row1_col1\" class=\"data row1 col1\" >0.942800</td>\n",
       "                        <td id=\"T_bcdd9808_8d78_11ea_874b_0242ac1c0002row1_col2\" class=\"data row1 col2\" >0.904600</td>\n",
       "                        <td id=\"T_bcdd9808_8d78_11ea_874b_0242ac1c0002row1_col3\" class=\"data row1 col3\" >0.360500</td>\n",
       "                        <td id=\"T_bcdd9808_8d78_11ea_874b_0242ac1c0002row1_col4\" class=\"data row1 col4\" >0.920200</td>\n",
       "                        <td id=\"T_bcdd9808_8d78_11ea_874b_0242ac1c0002row1_col5\" class=\"data row1 col5\" >0.517800</td>\n",
       "                        <td id=\"T_bcdd9808_8d78_11ea_874b_0242ac1c0002row1_col6\" class=\"data row1 col6\" >0.493600</td>\n",
       "            </tr>\n",
       "            <tr>\n",
       "                        <th id=\"T_bcdd9808_8d78_11ea_874b_0242ac1c0002level0_row2\" class=\"row_heading level0 row2\" >2</th>\n",
       "                        <td id=\"T_bcdd9808_8d78_11ea_874b_0242ac1c0002row2_col0\" class=\"data row2 col0\" >Gradient Boosting Classifier</td>\n",
       "                        <td id=\"T_bcdd9808_8d78_11ea_874b_0242ac1c0002row2_col1\" class=\"data row2 col1\" >0.941000</td>\n",
       "                        <td id=\"T_bcdd9808_8d78_11ea_874b_0242ac1c0002row2_col2\" class=\"data row2 col2\" >0.902400</td>\n",
       "                        <td id=\"T_bcdd9808_8d78_11ea_874b_0242ac1c0002row2_col3\" class=\"data row2 col3\" >0.317900</td>\n",
       "                        <td id=\"T_bcdd9808_8d78_11ea_874b_0242ac1c0002row2_col4\" class=\"data row2 col4\" >0.967200</td>\n",
       "                        <td id=\"T_bcdd9808_8d78_11ea_874b_0242ac1c0002row2_col5\" class=\"data row2 col5\" >0.478300</td>\n",
       "                        <td id=\"T_bcdd9808_8d78_11ea_874b_0242ac1c0002row2_col6\" class=\"data row2 col6\" >0.455400</td>\n",
       "            </tr>\n",
       "            <tr>\n",
       "                        <th id=\"T_bcdd9808_8d78_11ea_874b_0242ac1c0002level0_row3\" class=\"row_heading level0 row3\" >3</th>\n",
       "                        <td id=\"T_bcdd9808_8d78_11ea_874b_0242ac1c0002row3_col0\" class=\"data row3 col0\" >Extreme Gradient Boosting</td>\n",
       "                        <td id=\"T_bcdd9808_8d78_11ea_874b_0242ac1c0002row3_col1\" class=\"data row3 col1\" >0.938900</td>\n",
       "                        <td id=\"T_bcdd9808_8d78_11ea_874b_0242ac1c0002row3_col2\" class=\"data row3 col2\" >0.900200</td>\n",
       "                        <td id=\"T_bcdd9808_8d78_11ea_874b_0242ac1c0002row3_col3\" class=\"data row3 col3\" >0.289800</td>\n",
       "                        <td id=\"T_bcdd9808_8d78_11ea_874b_0242ac1c0002row3_col4\" class=\"data row3 col4\" >0.976100</td>\n",
       "                        <td id=\"T_bcdd9808_8d78_11ea_874b_0242ac1c0002row3_col5\" class=\"data row3 col5\" >0.446400</td>\n",
       "                        <td id=\"T_bcdd9808_8d78_11ea_874b_0242ac1c0002row3_col6\" class=\"data row3 col6\" >0.424100</td>\n",
       "            </tr>\n",
       "            <tr>\n",
       "                        <th id=\"T_bcdd9808_8d78_11ea_874b_0242ac1c0002level0_row4\" class=\"row_heading level0 row4\" >4</th>\n",
       "                        <td id=\"T_bcdd9808_8d78_11ea_874b_0242ac1c0002row4_col0\" class=\"data row4 col0\" >Linear Discriminant Analysis</td>\n",
       "                        <td id=\"T_bcdd9808_8d78_11ea_874b_0242ac1c0002row4_col1\" class=\"data row4 col1\" >0.934200</td>\n",
       "                        <td id=\"T_bcdd9808_8d78_11ea_874b_0242ac1c0002row4_col2\" class=\"data row4 col2\" >0.853700</td>\n",
       "                        <td id=\"T_bcdd9808_8d78_11ea_874b_0242ac1c0002row4_col3\" class=\"data row4 col3\" >0.299000</td>\n",
       "                        <td id=\"T_bcdd9808_8d78_11ea_874b_0242ac1c0002row4_col4\" class=\"data row4 col4\" >0.806700</td>\n",
       "                        <td id=\"T_bcdd9808_8d78_11ea_874b_0242ac1c0002row4_col5\" class=\"data row4 col5\" >0.436100</td>\n",
       "                        <td id=\"T_bcdd9808_8d78_11ea_874b_0242ac1c0002row4_col6\" class=\"data row4 col6\" >0.408900</td>\n",
       "            </tr>\n",
       "            <tr>\n",
       "                        <th id=\"T_bcdd9808_8d78_11ea_874b_0242ac1c0002level0_row5\" class=\"row_heading level0 row5\" >5</th>\n",
       "                        <td id=\"T_bcdd9808_8d78_11ea_874b_0242ac1c0002row5_col0\" class=\"data row5 col0\" >Random Forest Classifier</td>\n",
       "                        <td id=\"T_bcdd9808_8d78_11ea_874b_0242ac1c0002row5_col1\" class=\"data row5 col1\" >0.929200</td>\n",
       "                        <td id=\"T_bcdd9808_8d78_11ea_874b_0242ac1c0002row5_col2\" class=\"data row5 col2\" >0.809500</td>\n",
       "                        <td id=\"T_bcdd9808_8d78_11ea_874b_0242ac1c0002row5_col3\" class=\"data row5 col3\" >0.310300</td>\n",
       "                        <td id=\"T_bcdd9808_8d78_11ea_874b_0242ac1c0002row5_col4\" class=\"data row5 col4\" >0.686300</td>\n",
       "                        <td id=\"T_bcdd9808_8d78_11ea_874b_0242ac1c0002row5_col5\" class=\"data row5 col5\" >0.427200</td>\n",
       "                        <td id=\"T_bcdd9808_8d78_11ea_874b_0242ac1c0002row5_col6\" class=\"data row5 col6\" >0.395100</td>\n",
       "            </tr>\n",
       "            <tr>\n",
       "                        <th id=\"T_bcdd9808_8d78_11ea_874b_0242ac1c0002level0_row6\" class=\"row_heading level0 row6\" >6</th>\n",
       "                        <td id=\"T_bcdd9808_8d78_11ea_874b_0242ac1c0002row6_col0\" class=\"data row6 col0\" >Ridge Classifier</td>\n",
       "                        <td id=\"T_bcdd9808_8d78_11ea_874b_0242ac1c0002row6_col1\" class=\"data row6 col1\" >0.926800</td>\n",
       "                        <td id=\"T_bcdd9808_8d78_11ea_874b_0242ac1c0002row6_col2\" class=\"data row6 col2\" >0.000000</td>\n",
       "                        <td id=\"T_bcdd9808_8d78_11ea_874b_0242ac1c0002row6_col3\" class=\"data row6 col3\" >0.140100</td>\n",
       "                        <td id=\"T_bcdd9808_8d78_11ea_874b_0242ac1c0002row6_col4\" class=\"data row6 col4\" >1.000000</td>\n",
       "                        <td id=\"T_bcdd9808_8d78_11ea_874b_0242ac1c0002row6_col5\" class=\"data row6 col5\" >0.245700</td>\n",
       "                        <td id=\"T_bcdd9808_8d78_11ea_874b_0242ac1c0002row6_col6\" class=\"data row6 col6\" >0.229600</td>\n",
       "            </tr>\n",
       "            <tr>\n",
       "                        <th id=\"T_bcdd9808_8d78_11ea_874b_0242ac1c0002level0_row7\" class=\"row_heading level0 row7\" >7</th>\n",
       "                        <td id=\"T_bcdd9808_8d78_11ea_874b_0242ac1c0002row7_col0\" class=\"data row7 col0\" >Extra Trees Classifier</td>\n",
       "                        <td id=\"T_bcdd9808_8d78_11ea_874b_0242ac1c0002row7_col1\" class=\"data row7 col1\" >0.925700</td>\n",
       "                        <td id=\"T_bcdd9808_8d78_11ea_874b_0242ac1c0002row7_col2\" class=\"data row7 col2\" >0.840700</td>\n",
       "                        <td id=\"T_bcdd9808_8d78_11ea_874b_0242ac1c0002row7_col3\" class=\"data row7 col3\" >0.332000</td>\n",
       "                        <td id=\"T_bcdd9808_8d78_11ea_874b_0242ac1c0002row7_col4\" class=\"data row7 col4\" >0.620200</td>\n",
       "                        <td id=\"T_bcdd9808_8d78_11ea_874b_0242ac1c0002row7_col5\" class=\"data row7 col5\" >0.432100</td>\n",
       "                        <td id=\"T_bcdd9808_8d78_11ea_874b_0242ac1c0002row7_col6\" class=\"data row7 col6\" >0.396300</td>\n",
       "            </tr>\n",
       "            <tr>\n",
       "                        <th id=\"T_bcdd9808_8d78_11ea_874b_0242ac1c0002level0_row8\" class=\"row_heading level0 row8\" >8</th>\n",
       "                        <td id=\"T_bcdd9808_8d78_11ea_874b_0242ac1c0002row8_col0\" class=\"data row8 col0\" >Ada Boost Classifier</td>\n",
       "                        <td id=\"T_bcdd9808_8d78_11ea_874b_0242ac1c0002row8_col1\" class=\"data row8 col1\" >0.925200</td>\n",
       "                        <td id=\"T_bcdd9808_8d78_11ea_874b_0242ac1c0002row8_col2\" class=\"data row8 col2\" >0.863300</td>\n",
       "                        <td id=\"T_bcdd9808_8d78_11ea_874b_0242ac1c0002row8_col3\" class=\"data row8 col3\" >0.180500</td>\n",
       "                        <td id=\"T_bcdd9808_8d78_11ea_874b_0242ac1c0002row8_col4\" class=\"data row8 col4\" >0.756800</td>\n",
       "                        <td id=\"T_bcdd9808_8d78_11ea_874b_0242ac1c0002row8_col5\" class=\"data row8 col5\" >0.291300</td>\n",
       "                        <td id=\"T_bcdd9808_8d78_11ea_874b_0242ac1c0002row8_col6\" class=\"data row8 col6\" >0.267300</td>\n",
       "            </tr>\n",
       "            <tr>\n",
       "                        <th id=\"T_bcdd9808_8d78_11ea_874b_0242ac1c0002level0_row9\" class=\"row_heading level0 row9\" >9</th>\n",
       "                        <td id=\"T_bcdd9808_8d78_11ea_874b_0242ac1c0002row9_col0\" class=\"data row9 col0\" >Logistic Regression</td>\n",
       "                        <td id=\"T_bcdd9808_8d78_11ea_874b_0242ac1c0002row9_col1\" class=\"data row9 col1\" >0.924500</td>\n",
       "                        <td id=\"T_bcdd9808_8d78_11ea_874b_0242ac1c0002row9_col2\" class=\"data row9 col2\" >0.844500</td>\n",
       "                        <td id=\"T_bcdd9808_8d78_11ea_874b_0242ac1c0002row9_col3\" class=\"data row9 col3\" >0.189100</td>\n",
       "                        <td id=\"T_bcdd9808_8d78_11ea_874b_0242ac1c0002row9_col4\" class=\"data row9 col4\" >0.726300</td>\n",
       "                        <td id=\"T_bcdd9808_8d78_11ea_874b_0242ac1c0002row9_col5\" class=\"data row9 col5\" >0.298300</td>\n",
       "                        <td id=\"T_bcdd9808_8d78_11ea_874b_0242ac1c0002row9_col6\" class=\"data row9 col6\" >0.272600</td>\n",
       "            </tr>\n",
       "            <tr>\n",
       "                        <th id=\"T_bcdd9808_8d78_11ea_874b_0242ac1c0002level0_row10\" class=\"row_heading level0 row10\" >10</th>\n",
       "                        <td id=\"T_bcdd9808_8d78_11ea_874b_0242ac1c0002row10_col0\" class=\"data row10 col0\" >K Neighbors Classifier</td>\n",
       "                        <td id=\"T_bcdd9808_8d78_11ea_874b_0242ac1c0002row10_col1\" class=\"data row10 col1\" >0.922000</td>\n",
       "                        <td id=\"T_bcdd9808_8d78_11ea_874b_0242ac1c0002row10_col2\" class=\"data row10 col2\" >0.683700</td>\n",
       "                        <td id=\"T_bcdd9808_8d78_11ea_874b_0242ac1c0002row10_col3\" class=\"data row10 col3\" >0.142300</td>\n",
       "                        <td id=\"T_bcdd9808_8d78_11ea_874b_0242ac1c0002row10_col4\" class=\"data row10 col4\" >0.711200</td>\n",
       "                        <td id=\"T_bcdd9808_8d78_11ea_874b_0242ac1c0002row10_col5\" class=\"data row10 col5\" >0.237000</td>\n",
       "                        <td id=\"T_bcdd9808_8d78_11ea_874b_0242ac1c0002row10_col6\" class=\"data row10 col6\" >0.214800</td>\n",
       "            </tr>\n",
       "            <tr>\n",
       "                        <th id=\"T_bcdd9808_8d78_11ea_874b_0242ac1c0002level0_row11\" class=\"row_heading level0 row11\" >11</th>\n",
       "                        <td id=\"T_bcdd9808_8d78_11ea_874b_0242ac1c0002row11_col0\" class=\"data row11 col0\" >Decision Tree Classifier</td>\n",
       "                        <td id=\"T_bcdd9808_8d78_11ea_874b_0242ac1c0002row11_col1\" class=\"data row11 col1\" >0.898500</td>\n",
       "                        <td id=\"T_bcdd9808_8d78_11ea_874b_0242ac1c0002row11_col2\" class=\"data row11 col2\" >0.703500</td>\n",
       "                        <td id=\"T_bcdd9808_8d78_11ea_874b_0242ac1c0002row11_col3\" class=\"data row11 col3\" >0.463300</td>\n",
       "                        <td id=\"T_bcdd9808_8d78_11ea_874b_0242ac1c0002row11_col4\" class=\"data row11 col4\" >0.414800</td>\n",
       "                        <td id=\"T_bcdd9808_8d78_11ea_874b_0242ac1c0002row11_col5\" class=\"data row11 col5\" >0.437600</td>\n",
       "                        <td id=\"T_bcdd9808_8d78_11ea_874b_0242ac1c0002row11_col6\" class=\"data row11 col6\" >0.382000</td>\n",
       "            </tr>\n",
       "            <tr>\n",
       "                        <th id=\"T_bcdd9808_8d78_11ea_874b_0242ac1c0002level0_row12\" class=\"row_heading level0 row12\" >12</th>\n",
       "                        <td id=\"T_bcdd9808_8d78_11ea_874b_0242ac1c0002row12_col0\" class=\"data row12 col0\" >SVM - Linear Kernel</td>\n",
       "                        <td id=\"T_bcdd9808_8d78_11ea_874b_0242ac1c0002row12_col1\" class=\"data row12 col1\" >0.884600</td>\n",
       "                        <td id=\"T_bcdd9808_8d78_11ea_874b_0242ac1c0002row12_col2\" class=\"data row12 col2\" >0.000000</td>\n",
       "                        <td id=\"T_bcdd9808_8d78_11ea_874b_0242ac1c0002row12_col3\" class=\"data row12 col3\" >0.408400</td>\n",
       "                        <td id=\"T_bcdd9808_8d78_11ea_874b_0242ac1c0002row12_col4\" class=\"data row12 col4\" >0.588800</td>\n",
       "                        <td id=\"T_bcdd9808_8d78_11ea_874b_0242ac1c0002row12_col5\" class=\"data row12 col5\" >0.398500</td>\n",
       "                        <td id=\"T_bcdd9808_8d78_11ea_874b_0242ac1c0002row12_col6\" class=\"data row12 col6\" >0.349600</td>\n",
       "            </tr>\n",
       "            <tr>\n",
       "                        <th id=\"T_bcdd9808_8d78_11ea_874b_0242ac1c0002level0_row13\" class=\"row_heading level0 row13\" >13</th>\n",
       "                        <td id=\"T_bcdd9808_8d78_11ea_874b_0242ac1c0002row13_col0\" class=\"data row13 col0\" >Naive Bayes</td>\n",
       "                        <td id=\"T_bcdd9808_8d78_11ea_874b_0242ac1c0002row13_col1\" class=\"data row13 col1\" >0.120800</td>\n",
       "                        <td id=\"T_bcdd9808_8d78_11ea_874b_0242ac1c0002row13_col2\" class=\"data row13 col2\" >0.742200</td>\n",
       "                        <td id=\"T_bcdd9808_8d78_11ea_874b_0242ac1c0002row13_col3\" class=\"data row13 col3\" >0.982600</td>\n",
       "                        <td id=\"T_bcdd9808_8d78_11ea_874b_0242ac1c0002row13_col4\" class=\"data row13 col4\" >0.087100</td>\n",
       "                        <td id=\"T_bcdd9808_8d78_11ea_874b_0242ac1c0002row13_col5\" class=\"data row13 col5\" >0.159900</td>\n",
       "                        <td id=\"T_bcdd9808_8d78_11ea_874b_0242ac1c0002row13_col6\" class=\"data row13 col6\" >0.004100</td>\n",
       "            </tr>\n",
       "            <tr>\n",
       "                        <th id=\"T_bcdd9808_8d78_11ea_874b_0242ac1c0002level0_row14\" class=\"row_heading level0 row14\" >14</th>\n",
       "                        <td id=\"T_bcdd9808_8d78_11ea_874b_0242ac1c0002row14_col0\" class=\"data row14 col0\" >Quadratic Discriminant Analysis</td>\n",
       "                        <td id=\"T_bcdd9808_8d78_11ea_874b_0242ac1c0002row14_col1\" class=\"data row14 col1\" >0.088600</td>\n",
       "                        <td id=\"T_bcdd9808_8d78_11ea_874b_0242ac1c0002row14_col2\" class=\"data row14 col2\" >0.501200</td>\n",
       "                        <td id=\"T_bcdd9808_8d78_11ea_874b_0242ac1c0002row14_col3\" class=\"data row14 col3\" >0.998800</td>\n",
       "                        <td id=\"T_bcdd9808_8d78_11ea_874b_0242ac1c0002row14_col4\" class=\"data row14 col4\" >0.085400</td>\n",
       "                        <td id=\"T_bcdd9808_8d78_11ea_874b_0242ac1c0002row14_col5\" class=\"data row14 col5\" >0.157300</td>\n",
       "                        <td id=\"T_bcdd9808_8d78_11ea_874b_0242ac1c0002row14_col6\" class=\"data row14 col6\" >0.000400</td>\n",
       "            </tr>\n",
       "    </tbody></table>"
      ],
      "text/plain": [
       "<pandas.io.formats.style.Styler at 0x7f23ef8789e8>"
      ]
     },
     "execution_count": 180,
     "metadata": {
      "tags": []
     },
     "output_type": "execute_result"
    }
   ],
   "source": [
    "compare_models()"
   ]
  },
  {
   "cell_type": "code",
   "execution_count": 0,
   "metadata": {
    "colab": {
     "base_uri": "https://localhost:8080/",
     "height": 541,
     "referenced_widgets": [
      "760b6340e1a244d587f719e822f40a5e",
      "b6a17d6cd4234a76bd3651d34a2b507c",
      "bd1b83afe97a474b92034907ae77c0fb"
     ]
    },
    "colab_type": "code",
    "id": "ERsi5CzuG1_g",
    "outputId": "7bc0f99c-c88f-4cf9-86ce-b58adf8bd75f"
   },
   "outputs": [
    {
     "data": {
      "text/html": [
       "<div>\n",
       "<style scoped>\n",
       "    .dataframe tbody tr th:only-of-type {\n",
       "        vertical-align: middle;\n",
       "    }\n",
       "\n",
       "    .dataframe tbody tr th {\n",
       "        vertical-align: top;\n",
       "    }\n",
       "\n",
       "    .dataframe thead th {\n",
       "        text-align: right;\n",
       "    }\n",
       "</style>\n",
       "<table border=\"1\" class=\"dataframe\">\n",
       "  <thead>\n",
       "    <tr style=\"text-align: right;\">\n",
       "      <th></th>\n",
       "      <th>Accuracy</th>\n",
       "      <th>AUC</th>\n",
       "      <th>Recall</th>\n",
       "      <th>Prec.</th>\n",
       "      <th>F1</th>\n",
       "      <th>Kappa</th>\n",
       "    </tr>\n",
       "  </thead>\n",
       "  <tbody>\n",
       "    <tr>\n",
       "      <th>0</th>\n",
       "      <td>0.9382</td>\n",
       "      <td>0.8848</td>\n",
       "      <td>0.2997</td>\n",
       "      <td>0.9245</td>\n",
       "      <td>0.4527</td>\n",
       "      <td>0.4288</td>\n",
       "    </tr>\n",
       "    <tr>\n",
       "      <th>1</th>\n",
       "      <td>0.9372</td>\n",
       "      <td>0.8874</td>\n",
       "      <td>0.2813</td>\n",
       "      <td>0.9388</td>\n",
       "      <td>0.4329</td>\n",
       "      <td>0.4097</td>\n",
       "    </tr>\n",
       "    <tr>\n",
       "      <th>2</th>\n",
       "      <td>0.9393</td>\n",
       "      <td>0.8891</td>\n",
       "      <td>0.2905</td>\n",
       "      <td>0.9896</td>\n",
       "      <td>0.4492</td>\n",
       "      <td>0.4270</td>\n",
       "    </tr>\n",
       "    <tr>\n",
       "      <th>3</th>\n",
       "      <td>0.9348</td>\n",
       "      <td>0.8967</td>\n",
       "      <td>0.2446</td>\n",
       "      <td>0.9639</td>\n",
       "      <td>0.3902</td>\n",
       "      <td>0.3685</td>\n",
       "    </tr>\n",
       "    <tr>\n",
       "      <th>4</th>\n",
       "      <td>0.9390</td>\n",
       "      <td>0.8854</td>\n",
       "      <td>0.2936</td>\n",
       "      <td>0.9697</td>\n",
       "      <td>0.4507</td>\n",
       "      <td>0.4280</td>\n",
       "    </tr>\n",
       "    <tr>\n",
       "      <th>5</th>\n",
       "      <td>0.9353</td>\n",
       "      <td>0.8959</td>\n",
       "      <td>0.2546</td>\n",
       "      <td>0.9432</td>\n",
       "      <td>0.4010</td>\n",
       "      <td>0.3785</td>\n",
       "    </tr>\n",
       "    <tr>\n",
       "      <th>6</th>\n",
       "      <td>0.9413</td>\n",
       "      <td>0.8996</td>\n",
       "      <td>0.3129</td>\n",
       "      <td>0.9903</td>\n",
       "      <td>0.4755</td>\n",
       "      <td>0.4532</td>\n",
       "    </tr>\n",
       "    <tr>\n",
       "      <th>7</th>\n",
       "      <td>0.9406</td>\n",
       "      <td>0.8939</td>\n",
       "      <td>0.3089</td>\n",
       "      <td>0.9806</td>\n",
       "      <td>0.4698</td>\n",
       "      <td>0.4472</td>\n",
       "    </tr>\n",
       "    <tr>\n",
       "      <th>8</th>\n",
       "      <td>0.9429</td>\n",
       "      <td>0.8907</td>\n",
       "      <td>0.3364</td>\n",
       "      <td>0.9821</td>\n",
       "      <td>0.5011</td>\n",
       "      <td>0.4785</td>\n",
       "    </tr>\n",
       "    <tr>\n",
       "      <th>9</th>\n",
       "      <td>0.9382</td>\n",
       "      <td>0.8997</td>\n",
       "      <td>0.2905</td>\n",
       "      <td>0.9500</td>\n",
       "      <td>0.4450</td>\n",
       "      <td>0.4219</td>\n",
       "    </tr>\n",
       "    <tr>\n",
       "      <th>Mean</th>\n",
       "      <td>0.9387</td>\n",
       "      <td>0.8923</td>\n",
       "      <td>0.2913</td>\n",
       "      <td>0.9633</td>\n",
       "      <td>0.4468</td>\n",
       "      <td>0.4241</td>\n",
       "    </tr>\n",
       "    <tr>\n",
       "      <th>SD</th>\n",
       "      <td>0.0024</td>\n",
       "      <td>0.0053</td>\n",
       "      <td>0.0255</td>\n",
       "      <td>0.0219</td>\n",
       "      <td>0.0314</td>\n",
       "      <td>0.0313</td>\n",
       "    </tr>\n",
       "  </tbody>\n",
       "</table>\n",
       "</div>"
      ],
      "text/plain": [
       "      Accuracy     AUC  Recall   Prec.      F1   Kappa\n",
       "0       0.9382  0.8848  0.2997  0.9245  0.4527  0.4288\n",
       "1       0.9372  0.8874  0.2813  0.9388  0.4329  0.4097\n",
       "2       0.9393  0.8891  0.2905  0.9896  0.4492  0.4270\n",
       "3       0.9348  0.8967  0.2446  0.9639  0.3902  0.3685\n",
       "4       0.9390  0.8854  0.2936  0.9697  0.4507  0.4280\n",
       "5       0.9353  0.8959  0.2546  0.9432  0.4010  0.3785\n",
       "6       0.9413  0.8996  0.3129  0.9903  0.4755  0.4532\n",
       "7       0.9406  0.8939  0.3089  0.9806  0.4698  0.4472\n",
       "8       0.9429  0.8907  0.3364  0.9821  0.5011  0.4785\n",
       "9       0.9382  0.8997  0.2905  0.9500  0.4450  0.4219\n",
       "Mean    0.9387  0.8923  0.2913  0.9633  0.4468  0.4241\n",
       "SD      0.0024  0.0053  0.0255  0.0219  0.0314  0.0313"
      ]
     },
     "metadata": {
      "tags": []
     },
     "output_type": "display_data"
    },
    {
     "data": {
      "text/plain": [
       "RandomForestClassifier(bootstrap=True, ccp_alpha=0.0, class_weight=None,\n",
       "                       criterion='entropy', max_depth=70, max_features='sqrt',\n",
       "                       max_leaf_nodes=None, max_samples=None,\n",
       "                       min_impurity_decrease=0.0, min_impurity_split=None,\n",
       "                       min_samples_leaf=2, min_samples_split=9,\n",
       "                       min_weight_fraction_leaf=0.0, n_estimators=70,\n",
       "                       n_jobs=None, oob_score=False, random_state=4253,\n",
       "                       verbose=0, warm_start=False)"
      ]
     },
     "execution_count": 181,
     "metadata": {
      "tags": []
     },
     "output_type": "execute_result"
    }
   ],
   "source": [
    "tune_model('rf')"
   ]
  },
  {
   "cell_type": "code",
   "execution_count": 0,
   "metadata": {
    "colab": {
     "base_uri": "https://localhost:8080/",
     "height": 441,
     "referenced_widgets": [
      "854d581ed856449f8aa3cedc11c6dba6",
      "03450aceaf9e428ca32b17e17cf1d4dd",
      "35ee96441ee148208235d763c65b6349"
     ]
    },
    "colab_type": "code",
    "id": "o4yCaRevHBS7",
    "outputId": "d5d8cf85-d7ef-4ace-c4b6-a5dcb73e9a47"
   },
   "outputs": [
    {
     "data": {
      "text/html": [
       "<div>\n",
       "<style scoped>\n",
       "    .dataframe tbody tr th:only-of-type {\n",
       "        vertical-align: middle;\n",
       "    }\n",
       "\n",
       "    .dataframe tbody tr th {\n",
       "        vertical-align: top;\n",
       "    }\n",
       "\n",
       "    .dataframe thead th {\n",
       "        text-align: right;\n",
       "    }\n",
       "</style>\n",
       "<table border=\"1\" class=\"dataframe\">\n",
       "  <thead>\n",
       "    <tr style=\"text-align: right;\">\n",
       "      <th></th>\n",
       "      <th>Accuracy</th>\n",
       "      <th>AUC</th>\n",
       "      <th>Recall</th>\n",
       "      <th>Prec.</th>\n",
       "      <th>F1</th>\n",
       "      <th>Kappa</th>\n",
       "    </tr>\n",
       "  </thead>\n",
       "  <tbody>\n",
       "    <tr>\n",
       "      <th>0</th>\n",
       "      <td>0.9247</td>\n",
       "      <td>0.8583</td>\n",
       "      <td>0.1804</td>\n",
       "      <td>0.7375</td>\n",
       "      <td>0.2899</td>\n",
       "      <td>0.2653</td>\n",
       "    </tr>\n",
       "    <tr>\n",
       "      <th>1</th>\n",
       "      <td>0.9283</td>\n",
       "      <td>0.8568</td>\n",
       "      <td>0.1957</td>\n",
       "      <td>0.8421</td>\n",
       "      <td>0.3176</td>\n",
       "      <td>0.2950</td>\n",
       "    </tr>\n",
       "    <tr>\n",
       "      <th>2</th>\n",
       "      <td>0.9234</td>\n",
       "      <td>0.8555</td>\n",
       "      <td>0.1713</td>\n",
       "      <td>0.7089</td>\n",
       "      <td>0.2759</td>\n",
       "      <td>0.2510</td>\n",
       "    </tr>\n",
       "    <tr>\n",
       "      <th>3</th>\n",
       "      <td>0.9270</td>\n",
       "      <td>0.8735</td>\n",
       "      <td>0.1957</td>\n",
       "      <td>0.7901</td>\n",
       "      <td>0.3137</td>\n",
       "      <td>0.2897</td>\n",
       "    </tr>\n",
       "    <tr>\n",
       "      <th>4</th>\n",
       "      <td>0.9275</td>\n",
       "      <td>0.8776</td>\n",
       "      <td>0.1774</td>\n",
       "      <td>0.8657</td>\n",
       "      <td>0.2944</td>\n",
       "      <td>0.2734</td>\n",
       "    </tr>\n",
       "    <tr>\n",
       "      <th>5</th>\n",
       "      <td>0.9267</td>\n",
       "      <td>0.8685</td>\n",
       "      <td>0.1902</td>\n",
       "      <td>0.7848</td>\n",
       "      <td>0.3062</td>\n",
       "      <td>0.2824</td>\n",
       "    </tr>\n",
       "    <tr>\n",
       "      <th>6</th>\n",
       "      <td>0.9270</td>\n",
       "      <td>0.8773</td>\n",
       "      <td>0.1871</td>\n",
       "      <td>0.8026</td>\n",
       "      <td>0.3035</td>\n",
       "      <td>0.2804</td>\n",
       "    </tr>\n",
       "    <tr>\n",
       "      <th>7</th>\n",
       "      <td>0.9291</td>\n",
       "      <td>0.8823</td>\n",
       "      <td>0.2171</td>\n",
       "      <td>0.8161</td>\n",
       "      <td>0.3430</td>\n",
       "      <td>0.3186</td>\n",
       "    </tr>\n",
       "    <tr>\n",
       "      <th>8</th>\n",
       "      <td>0.9283</td>\n",
       "      <td>0.8768</td>\n",
       "      <td>0.2049</td>\n",
       "      <td>0.8171</td>\n",
       "      <td>0.3276</td>\n",
       "      <td>0.3038</td>\n",
       "    </tr>\n",
       "    <tr>\n",
       "      <th>9</th>\n",
       "      <td>0.9265</td>\n",
       "      <td>0.8749</td>\n",
       "      <td>0.1774</td>\n",
       "      <td>0.8169</td>\n",
       "      <td>0.2915</td>\n",
       "      <td>0.2692</td>\n",
       "    </tr>\n",
       "    <tr>\n",
       "      <th>Mean</th>\n",
       "      <td>0.9269</td>\n",
       "      <td>0.8701</td>\n",
       "      <td>0.1897</td>\n",
       "      <td>0.7982</td>\n",
       "      <td>0.3063</td>\n",
       "      <td>0.2829</td>\n",
       "    </tr>\n",
       "    <tr>\n",
       "      <th>SD</th>\n",
       "      <td>0.0016</td>\n",
       "      <td>0.0093</td>\n",
       "      <td>0.0134</td>\n",
       "      <td>0.0441</td>\n",
       "      <td>0.0188</td>\n",
       "      <td>0.0187</td>\n",
       "    </tr>\n",
       "  </tbody>\n",
       "</table>\n",
       "</div>"
      ],
      "text/plain": [
       "      Accuracy     AUC  Recall   Prec.      F1   Kappa\n",
       "0       0.9247  0.8583  0.1804  0.7375  0.2899  0.2653\n",
       "1       0.9283  0.8568  0.1957  0.8421  0.3176  0.2950\n",
       "2       0.9234  0.8555  0.1713  0.7089  0.2759  0.2510\n",
       "3       0.9270  0.8735  0.1957  0.7901  0.3137  0.2897\n",
       "4       0.9275  0.8776  0.1774  0.8657  0.2944  0.2734\n",
       "5       0.9267  0.8685  0.1902  0.7848  0.3062  0.2824\n",
       "6       0.9270  0.8773  0.1871  0.8026  0.3035  0.2804\n",
       "7       0.9291  0.8823  0.2171  0.8161  0.3430  0.3186\n",
       "8       0.9283  0.8768  0.2049  0.8171  0.3276  0.3038\n",
       "9       0.9265  0.8749  0.1774  0.8169  0.2915  0.2692\n",
       "Mean    0.9269  0.8701  0.1897  0.7982  0.3063  0.2829\n",
       "SD      0.0016  0.0093  0.0134  0.0441  0.0188  0.0187"
      ]
     },
     "metadata": {
      "tags": []
     },
     "output_type": "display_data"
    },
    {
     "data": {
      "text/plain": [
       "AdaBoostClassifier(algorithm='SAMME.R', base_estimator=None, learning_rate=0.56,\n",
       "                   n_estimators=180, random_state=4253)"
      ]
     },
     "execution_count": 182,
     "metadata": {
      "tags": []
     },
     "output_type": "execute_result"
    }
   ],
   "source": [
    "tune_model('ada')"
   ]
  },
  {
   "cell_type": "code",
   "execution_count": 0,
   "metadata": {
    "colab": {
     "base_uri": "https://localhost:8080/",
     "height": 524,
     "referenced_widgets": [
      "73cd6728cbb744658af2439a509f0b52",
      "74c2f1e77b7546f18d1b4a5c6b557b67",
      "633889ec81304dbcbc6553954f241130"
     ]
    },
    "colab_type": "code",
    "id": "Uhh7_mxTHDGw",
    "outputId": "559f36d6-5330-4ef0-c3b2-97696e83a162"
   },
   "outputs": [
    {
     "data": {
      "text/html": [
       "<div>\n",
       "<style scoped>\n",
       "    .dataframe tbody tr th:only-of-type {\n",
       "        vertical-align: middle;\n",
       "    }\n",
       "\n",
       "    .dataframe tbody tr th {\n",
       "        vertical-align: top;\n",
       "    }\n",
       "\n",
       "    .dataframe thead th {\n",
       "        text-align: right;\n",
       "    }\n",
       "</style>\n",
       "<table border=\"1\" class=\"dataframe\">\n",
       "  <thead>\n",
       "    <tr style=\"text-align: right;\">\n",
       "      <th></th>\n",
       "      <th>Accuracy</th>\n",
       "      <th>AUC</th>\n",
       "      <th>Recall</th>\n",
       "      <th>Prec.</th>\n",
       "      <th>F1</th>\n",
       "      <th>Kappa</th>\n",
       "    </tr>\n",
       "  </thead>\n",
       "  <tbody>\n",
       "    <tr>\n",
       "      <th>0</th>\n",
       "      <td>0.9377</td>\n",
       "      <td>0.8861</td>\n",
       "      <td>0.3639</td>\n",
       "      <td>0.7933</td>\n",
       "      <td>0.4990</td>\n",
       "      <td>0.4706</td>\n",
       "    </tr>\n",
       "    <tr>\n",
       "      <th>1</th>\n",
       "      <td>0.9361</td>\n",
       "      <td>0.8840</td>\n",
       "      <td>0.3517</td>\n",
       "      <td>0.7770</td>\n",
       "      <td>0.4842</td>\n",
       "      <td>0.4553</td>\n",
       "    </tr>\n",
       "    <tr>\n",
       "      <th>2</th>\n",
       "      <td>0.9414</td>\n",
       "      <td>0.8913</td>\n",
       "      <td>0.3884</td>\n",
       "      <td>0.8355</td>\n",
       "      <td>0.5303</td>\n",
       "      <td>0.5034</td>\n",
       "    </tr>\n",
       "    <tr>\n",
       "      <th>3</th>\n",
       "      <td>0.9427</td>\n",
       "      <td>0.8973</td>\n",
       "      <td>0.3731</td>\n",
       "      <td>0.8905</td>\n",
       "      <td>0.5259</td>\n",
       "      <td>0.5007</td>\n",
       "    </tr>\n",
       "    <tr>\n",
       "      <th>4</th>\n",
       "      <td>0.9364</td>\n",
       "      <td>0.8886</td>\n",
       "      <td>0.3639</td>\n",
       "      <td>0.7677</td>\n",
       "      <td>0.4938</td>\n",
       "      <td>0.4644</td>\n",
       "    </tr>\n",
       "    <tr>\n",
       "      <th>5</th>\n",
       "      <td>0.9369</td>\n",
       "      <td>0.8960</td>\n",
       "      <td>0.3528</td>\n",
       "      <td>0.7877</td>\n",
       "      <td>0.4873</td>\n",
       "      <td>0.4588</td>\n",
       "    </tr>\n",
       "    <tr>\n",
       "      <th>6</th>\n",
       "      <td>0.9367</td>\n",
       "      <td>0.8971</td>\n",
       "      <td>0.3466</td>\n",
       "      <td>0.7902</td>\n",
       "      <td>0.4819</td>\n",
       "      <td>0.4536</td>\n",
       "    </tr>\n",
       "    <tr>\n",
       "      <th>7</th>\n",
       "      <td>0.9393</td>\n",
       "      <td>0.8962</td>\n",
       "      <td>0.3609</td>\n",
       "      <td>0.8310</td>\n",
       "      <td>0.5032</td>\n",
       "      <td>0.4762</td>\n",
       "    </tr>\n",
       "    <tr>\n",
       "      <th>8</th>\n",
       "      <td>0.9406</td>\n",
       "      <td>0.8977</td>\n",
       "      <td>0.4037</td>\n",
       "      <td>0.8000</td>\n",
       "      <td>0.5366</td>\n",
       "      <td>0.5085</td>\n",
       "    </tr>\n",
       "    <tr>\n",
       "      <th>9</th>\n",
       "      <td>0.9351</td>\n",
       "      <td>0.8955</td>\n",
       "      <td>0.3639</td>\n",
       "      <td>0.7438</td>\n",
       "      <td>0.4887</td>\n",
       "      <td>0.4584</td>\n",
       "    </tr>\n",
       "    <tr>\n",
       "      <th>Mean</th>\n",
       "      <td>0.9383</td>\n",
       "      <td>0.8930</td>\n",
       "      <td>0.3669</td>\n",
       "      <td>0.8017</td>\n",
       "      <td>0.5031</td>\n",
       "      <td>0.4750</td>\n",
       "    </tr>\n",
       "    <tr>\n",
       "      <th>SD</th>\n",
       "      <td>0.0024</td>\n",
       "      <td>0.0048</td>\n",
       "      <td>0.0166</td>\n",
       "      <td>0.0393</td>\n",
       "      <td>0.0194</td>\n",
       "      <td>0.0203</td>\n",
       "    </tr>\n",
       "  </tbody>\n",
       "</table>\n",
       "</div>"
      ],
      "text/plain": [
       "      Accuracy     AUC  Recall   Prec.      F1   Kappa\n",
       "0       0.9377  0.8861  0.3639  0.7933  0.4990  0.4706\n",
       "1       0.9361  0.8840  0.3517  0.7770  0.4842  0.4553\n",
       "2       0.9414  0.8913  0.3884  0.8355  0.5303  0.5034\n",
       "3       0.9427  0.8973  0.3731  0.8905  0.5259  0.5007\n",
       "4       0.9364  0.8886  0.3639  0.7677  0.4938  0.4644\n",
       "5       0.9369  0.8960  0.3528  0.7877  0.4873  0.4588\n",
       "6       0.9367  0.8971  0.3466  0.7902  0.4819  0.4536\n",
       "7       0.9393  0.8962  0.3609  0.8310  0.5032  0.4762\n",
       "8       0.9406  0.8977  0.4037  0.8000  0.5366  0.5085\n",
       "9       0.9351  0.8955  0.3639  0.7438  0.4887  0.4584\n",
       "Mean    0.9383  0.8930  0.3669  0.8017  0.5031  0.4750\n",
       "SD      0.0024  0.0048  0.0166  0.0393  0.0194  0.0203"
      ]
     },
     "metadata": {
      "tags": []
     },
     "output_type": "display_data"
    },
    {
     "data": {
      "text/plain": [
       "XGBClassifier(base_score=0.5, booster='gbtree', colsample_bylevel=1,\n",
       "              colsample_bynode=1, colsample_bytree=0.9, gamma=0,\n",
       "              learning_rate=0.16, max_delta_step=0, max_depth=90,\n",
       "              min_child_weight=2, missing=None, n_estimators=50, n_jobs=-1,\n",
       "              nthread=None, objective='binary:logistic', random_state=4253,\n",
       "              reg_alpha=0, reg_lambda=1, scale_pos_weight=1, seed=None,\n",
       "              silent=None, subsample=0.7, verbosity=0)"
      ]
     },
     "execution_count": 183,
     "metadata": {
      "tags": []
     },
     "output_type": "execute_result"
    }
   ],
   "source": [
    "tune_model('xgboost')"
   ]
  },
  {
   "cell_type": "code",
   "execution_count": 0,
   "metadata": {
    "colab": {
     "base_uri": "https://localhost:8080/",
     "height": 507,
     "referenced_widgets": [
      "1dd93278685d4fcfa27fb53dc5741336",
      "8a0e373e45ab47e0ad00381e4857fcac",
      "4d88f8df540847d8ac68e1f7c4540097"
     ]
    },
    "colab_type": "code",
    "id": "4fwtS93jHGs2",
    "outputId": "3ced8e31-1483-4e8d-bee3-c2837c291e6f"
   },
   "outputs": [
    {
     "data": {
      "text/html": [
       "<div>\n",
       "<style scoped>\n",
       "    .dataframe tbody tr th:only-of-type {\n",
       "        vertical-align: middle;\n",
       "    }\n",
       "\n",
       "    .dataframe tbody tr th {\n",
       "        vertical-align: top;\n",
       "    }\n",
       "\n",
       "    .dataframe thead th {\n",
       "        text-align: right;\n",
       "    }\n",
       "</style>\n",
       "<table border=\"1\" class=\"dataframe\">\n",
       "  <thead>\n",
       "    <tr style=\"text-align: right;\">\n",
       "      <th></th>\n",
       "      <th>Accuracy</th>\n",
       "      <th>AUC</th>\n",
       "      <th>Recall</th>\n",
       "      <th>Prec.</th>\n",
       "      <th>F1</th>\n",
       "      <th>Kappa</th>\n",
       "    </tr>\n",
       "  </thead>\n",
       "  <tbody>\n",
       "    <tr>\n",
       "      <th>0</th>\n",
       "      <td>0.9375</td>\n",
       "      <td>0.8727</td>\n",
       "      <td>0.3058</td>\n",
       "      <td>0.8850</td>\n",
       "      <td>0.4545</td>\n",
       "      <td>0.4296</td>\n",
       "    </tr>\n",
       "    <tr>\n",
       "      <th>1</th>\n",
       "      <td>0.9364</td>\n",
       "      <td>0.8684</td>\n",
       "      <td>0.2752</td>\n",
       "      <td>0.9278</td>\n",
       "      <td>0.4245</td>\n",
       "      <td>0.4012</td>\n",
       "    </tr>\n",
       "    <tr>\n",
       "      <th>2</th>\n",
       "      <td>0.9385</td>\n",
       "      <td>0.8770</td>\n",
       "      <td>0.3364</td>\n",
       "      <td>0.8527</td>\n",
       "      <td>0.4825</td>\n",
       "      <td>0.4562</td>\n",
       "    </tr>\n",
       "    <tr>\n",
       "      <th>3</th>\n",
       "      <td>0.9364</td>\n",
       "      <td>0.8678</td>\n",
       "      <td>0.3211</td>\n",
       "      <td>0.8268</td>\n",
       "      <td>0.4626</td>\n",
       "      <td>0.4356</td>\n",
       "    </tr>\n",
       "    <tr>\n",
       "      <th>4</th>\n",
       "      <td>0.9372</td>\n",
       "      <td>0.8743</td>\n",
       "      <td>0.3028</td>\n",
       "      <td>0.8839</td>\n",
       "      <td>0.4510</td>\n",
       "      <td>0.4261</td>\n",
       "    </tr>\n",
       "    <tr>\n",
       "      <th>5</th>\n",
       "      <td>0.9377</td>\n",
       "      <td>0.8838</td>\n",
       "      <td>0.2914</td>\n",
       "      <td>0.9223</td>\n",
       "      <td>0.4429</td>\n",
       "      <td>0.4192</td>\n",
       "    </tr>\n",
       "    <tr>\n",
       "      <th>6</th>\n",
       "      <td>0.9395</td>\n",
       "      <td>0.8828</td>\n",
       "      <td>0.3160</td>\n",
       "      <td>0.9196</td>\n",
       "      <td>0.4703</td>\n",
       "      <td>0.4463</td>\n",
       "    </tr>\n",
       "    <tr>\n",
       "      <th>7</th>\n",
       "      <td>0.9380</td>\n",
       "      <td>0.8827</td>\n",
       "      <td>0.3394</td>\n",
       "      <td>0.8346</td>\n",
       "      <td>0.4826</td>\n",
       "      <td>0.4558</td>\n",
       "    </tr>\n",
       "    <tr>\n",
       "      <th>8</th>\n",
       "      <td>0.9411</td>\n",
       "      <td>0.8898</td>\n",
       "      <td>0.3670</td>\n",
       "      <td>0.8633</td>\n",
       "      <td>0.5150</td>\n",
       "      <td>0.4890</td>\n",
       "    </tr>\n",
       "    <tr>\n",
       "      <th>9</th>\n",
       "      <td>0.9387</td>\n",
       "      <td>0.8941</td>\n",
       "      <td>0.3211</td>\n",
       "      <td>0.8898</td>\n",
       "      <td>0.4719</td>\n",
       "      <td>0.4469</td>\n",
       "    </tr>\n",
       "    <tr>\n",
       "      <th>Mean</th>\n",
       "      <td>0.9381</td>\n",
       "      <td>0.8793</td>\n",
       "      <td>0.3176</td>\n",
       "      <td>0.8806</td>\n",
       "      <td>0.4658</td>\n",
       "      <td>0.4406</td>\n",
       "    </tr>\n",
       "    <tr>\n",
       "      <th>SD</th>\n",
       "      <td>0.0014</td>\n",
       "      <td>0.0084</td>\n",
       "      <td>0.0248</td>\n",
       "      <td>0.0342</td>\n",
       "      <td>0.0237</td>\n",
       "      <td>0.0229</td>\n",
       "    </tr>\n",
       "  </tbody>\n",
       "</table>\n",
       "</div>"
      ],
      "text/plain": [
       "      Accuracy     AUC  Recall   Prec.      F1   Kappa\n",
       "0       0.9375  0.8727  0.3058  0.8850  0.4545  0.4296\n",
       "1       0.9364  0.8684  0.2752  0.9278  0.4245  0.4012\n",
       "2       0.9385  0.8770  0.3364  0.8527  0.4825  0.4562\n",
       "3       0.9364  0.8678  0.3211  0.8268  0.4626  0.4356\n",
       "4       0.9372  0.8743  0.3028  0.8839  0.4510  0.4261\n",
       "5       0.9377  0.8838  0.2914  0.9223  0.4429  0.4192\n",
       "6       0.9395  0.8828  0.3160  0.9196  0.4703  0.4463\n",
       "7       0.9380  0.8827  0.3394  0.8346  0.4826  0.4558\n",
       "8       0.9411  0.8898  0.3670  0.8633  0.5150  0.4890\n",
       "9       0.9387  0.8941  0.3211  0.8898  0.4719  0.4469\n",
       "Mean    0.9381  0.8793  0.3176  0.8806  0.4658  0.4406\n",
       "SD      0.0014  0.0084  0.0248  0.0342  0.0237  0.0229"
      ]
     },
     "metadata": {
      "tags": []
     },
     "output_type": "display_data"
    },
    {
     "data": {
      "text/plain": [
       "DecisionTreeClassifier(ccp_alpha=0.0, class_weight=None, criterion='gini',\n",
       "                       max_depth=11, max_features=24, max_leaf_nodes=None,\n",
       "                       min_impurity_decrease=0.0, min_impurity_split=None,\n",
       "                       min_samples_leaf=5, min_samples_split=2,\n",
       "                       min_weight_fraction_leaf=0.0, presort='deprecated',\n",
       "                       random_state=4253, splitter='best')"
      ]
     },
     "execution_count": 184,
     "metadata": {
      "tags": []
     },
     "output_type": "execute_result"
    }
   ],
   "source": [
    "tune_model('dt')"
   ]
  },
  {
   "cell_type": "code",
   "execution_count": 0,
   "metadata": {
    "colab": {},
    "colab_type": "code",
    "id": "zlhRI8GTIxmp"
   },
   "outputs": [],
   "source": []
  },
  {
   "cell_type": "code",
   "execution_count": 0,
   "metadata": {
    "colab": {},
    "colab_type": "code",
    "id": "Baowz0ZJiDEC"
   },
   "outputs": [],
   "source": []
  },
  {
   "cell_type": "code",
   "execution_count": 0,
   "metadata": {
    "colab": {},
    "colab_type": "code",
    "id": "I67Y5W8aiDAG"
   },
   "outputs": [],
   "source": []
  },
  {
   "cell_type": "code",
   "execution_count": 0,
   "metadata": {
    "colab": {},
    "colab_type": "code",
    "id": "nFOxk5SriC8h"
   },
   "outputs": [],
   "source": []
  },
  {
   "cell_type": "markdown",
   "metadata": {
    "colab_type": "text",
    "id": "Mt5oZcbyiEKH"
   },
   "source": [
    "under sampling"
   ]
  },
  {
   "cell_type": "code",
   "execution_count": 0,
   "metadata": {
    "colab": {},
    "colab_type": "code",
    "id": "ePAD0MwliHbV"
   },
   "outputs": [],
   "source": [
    "X = data_train.drop(columns = 'is_promoted' )\n",
    "y = data_train.is_promoted"
   ]
  },
  {
   "cell_type": "code",
   "execution_count": 285,
   "metadata": {
    "colab": {
     "base_uri": "https://localhost:8080/",
     "height": 0
    },
    "colab_type": "code",
    "id": "kr2Pw1aUisUe",
    "outputId": "82f3892f-0f56-4eb1-e658-3de4d47883ff"
   },
   "outputs": [
    {
     "name": "stdout",
     "output_type": "stream",
     "text": [
      "<class 'pandas.core.frame.DataFrame'>\n",
      "RangeIndex: 54808 entries, 0 to 54807\n",
      "Data columns (total 11 columns):\n",
      " #   Column                Non-Null Count  Dtype  \n",
      "---  ------                --------------  -----  \n",
      " 0   department            54808 non-null  object \n",
      " 1   education             54808 non-null  object \n",
      " 2   gender                54808 non-null  object \n",
      " 3   recruitment_channel   54808 non-null  object \n",
      " 4   no_of_trainings       54808 non-null  int64  \n",
      " 5   age                   54808 non-null  int64  \n",
      " 6   previous_year_rating  54808 non-null  float64\n",
      " 7   length_of_service     54808 non-null  int64  \n",
      " 8   KPIs_met >80%         54808 non-null  object \n",
      " 9   awards_won?           54808 non-null  object \n",
      " 10  avg_training_score    54808 non-null  int64  \n",
      "dtypes: float64(1), int64(4), object(6)\n",
      "memory usage: 4.6+ MB\n"
     ]
    }
   ],
   "source": [
    "X.info()"
   ]
  },
  {
   "cell_type": "code",
   "execution_count": 0,
   "metadata": {
    "colab": {},
    "colab_type": "code",
    "id": "SReNuXLvh-B5"
   },
   "outputs": [],
   "source": [
    "X_us, y_us = under_sample(X,y)\n",
    "X_us = np.round(X_us)"
   ]
  },
  {
   "cell_type": "code",
   "execution_count": 284,
   "metadata": {
    "colab": {
     "base_uri": "https://localhost:8080/",
     "height": 0
    },
    "colab_type": "code",
    "id": "I4LqK-M6h97U",
    "outputId": "6ea34fc4-3861-40e1-d8aa-e22069de9d13"
   },
   "outputs": [
    {
     "name": "stdout",
     "output_type": "stream",
     "text": [
      "<class 'pandas.core.frame.DataFrame'>\n",
      "RangeIndex: 9336 entries, 0 to 9335\n",
      "Data columns (total 11 columns):\n",
      " #   Column                Non-Null Count  Dtype \n",
      "---  ------                --------------  ----- \n",
      " 0   department            9336 non-null   object\n",
      " 1   education             9336 non-null   object\n",
      " 2   gender                9336 non-null   object\n",
      " 3   recruitment_channel   9336 non-null   object\n",
      " 4   no_of_trainings       9336 non-null   object\n",
      " 5   age                   9336 non-null   object\n",
      " 6   previous_year_rating  9336 non-null   object\n",
      " 7   length_of_service     9336 non-null   object\n",
      " 8   KPIs_met >80%         9336 non-null   object\n",
      " 9   awards_won?           9336 non-null   object\n",
      " 10  avg_training_score    9336 non-null   object\n",
      "dtypes: object(11)\n",
      "memory usage: 802.4+ KB\n"
     ]
    }
   ],
   "source": [
    "X_us.info()"
   ]
  },
  {
   "cell_type": "code",
   "execution_count": 0,
   "metadata": {
    "colab": {},
    "colab_type": "code",
    "id": "IEmer1f5h93u"
   },
   "outputs": [],
   "source": []
  },
  {
   "cell_type": "code",
   "execution_count": 0,
   "metadata": {
    "colab": {},
    "colab_type": "code",
    "id": "hrGahU99h9zt"
   },
   "outputs": [],
   "source": []
  },
  {
   "cell_type": "code",
   "execution_count": 0,
   "metadata": {
    "colab": {},
    "colab_type": "code",
    "id": "FO3unVMzh9wI"
   },
   "outputs": [],
   "source": []
  },
  {
   "cell_type": "markdown",
   "metadata": {
    "colab_type": "text",
    "id": "AUwutWhjgH7V"
   },
   "source": [
    "### ml"
   ]
  },
  {
   "cell_type": "code",
   "execution_count": 13,
   "metadata": {
    "colab": {
     "base_uri": "https://localhost:8080/",
     "height": 264
    },
    "colab_type": "code",
    "id": "geJQ6_FXgKb7",
    "outputId": "236d8584-23ac-43ba-e1cd-7fdef847c7c8"
   },
   "outputs": [
    {
     "data": {
      "text/html": [
       "<div>\n",
       "<style scoped>\n",
       "    .dataframe tbody tr th:only-of-type {\n",
       "        vertical-align: middle;\n",
       "    }\n",
       "\n",
       "    .dataframe tbody tr th {\n",
       "        vertical-align: top;\n",
       "    }\n",
       "\n",
       "    .dataframe thead th {\n",
       "        text-align: right;\n",
       "    }\n",
       "</style>\n",
       "<table border=\"1\" class=\"dataframe\">\n",
       "  <thead>\n",
       "    <tr style=\"text-align: right;\">\n",
       "      <th></th>\n",
       "      <th>department</th>\n",
       "      <th>education</th>\n",
       "      <th>gender</th>\n",
       "      <th>recruitment_channel</th>\n",
       "      <th>no_of_trainings</th>\n",
       "      <th>age</th>\n",
       "      <th>previous_year_rating</th>\n",
       "      <th>length_of_service</th>\n",
       "      <th>KPIs_met &gt;80%</th>\n",
       "      <th>awards_won?</th>\n",
       "      <th>avg_training_score</th>\n",
       "      <th>is_promoted</th>\n",
       "    </tr>\n",
       "  </thead>\n",
       "  <tbody>\n",
       "    <tr>\n",
       "      <th>0</th>\n",
       "      <td>Sales &amp; Marketing</td>\n",
       "      <td>Master's &amp; above</td>\n",
       "      <td>f</td>\n",
       "      <td>sourcing</td>\n",
       "      <td>1</td>\n",
       "      <td>35</td>\n",
       "      <td>5.0</td>\n",
       "      <td>8</td>\n",
       "      <td>1</td>\n",
       "      <td>0</td>\n",
       "      <td>49</td>\n",
       "      <td>0</td>\n",
       "    </tr>\n",
       "    <tr>\n",
       "      <th>1</th>\n",
       "      <td>Operations</td>\n",
       "      <td>Bachelor's</td>\n",
       "      <td>m</td>\n",
       "      <td>other</td>\n",
       "      <td>1</td>\n",
       "      <td>30</td>\n",
       "      <td>5.0</td>\n",
       "      <td>4</td>\n",
       "      <td>0</td>\n",
       "      <td>0</td>\n",
       "      <td>60</td>\n",
       "      <td>0</td>\n",
       "    </tr>\n",
       "    <tr>\n",
       "      <th>2</th>\n",
       "      <td>Sales &amp; Marketing</td>\n",
       "      <td>Bachelor's</td>\n",
       "      <td>m</td>\n",
       "      <td>sourcing</td>\n",
       "      <td>1</td>\n",
       "      <td>34</td>\n",
       "      <td>3.0</td>\n",
       "      <td>7</td>\n",
       "      <td>0</td>\n",
       "      <td>0</td>\n",
       "      <td>50</td>\n",
       "      <td>0</td>\n",
       "    </tr>\n",
       "    <tr>\n",
       "      <th>3</th>\n",
       "      <td>Sales &amp; Marketing</td>\n",
       "      <td>Bachelor's</td>\n",
       "      <td>m</td>\n",
       "      <td>other</td>\n",
       "      <td>2</td>\n",
       "      <td>39</td>\n",
       "      <td>1.0</td>\n",
       "      <td>10</td>\n",
       "      <td>0</td>\n",
       "      <td>0</td>\n",
       "      <td>50</td>\n",
       "      <td>0</td>\n",
       "    </tr>\n",
       "    <tr>\n",
       "      <th>4</th>\n",
       "      <td>Technology</td>\n",
       "      <td>Bachelor's</td>\n",
       "      <td>m</td>\n",
       "      <td>other</td>\n",
       "      <td>1</td>\n",
       "      <td>45</td>\n",
       "      <td>3.0</td>\n",
       "      <td>2</td>\n",
       "      <td>0</td>\n",
       "      <td>0</td>\n",
       "      <td>73</td>\n",
       "      <td>0</td>\n",
       "    </tr>\n",
       "  </tbody>\n",
       "</table>\n",
       "</div>"
      ],
      "text/plain": [
       "          department         education gender recruitment_channel  \\\n",
       "0  Sales & Marketing  Master's & above      f            sourcing   \n",
       "1         Operations        Bachelor's      m               other   \n",
       "2  Sales & Marketing        Bachelor's      m            sourcing   \n",
       "3  Sales & Marketing        Bachelor's      m               other   \n",
       "4         Technology        Bachelor's      m               other   \n",
       "\n",
       "   no_of_trainings  age  previous_year_rating  length_of_service  \\\n",
       "0                1   35                   5.0                  8   \n",
       "1                1   30                   5.0                  4   \n",
       "2                1   34                   3.0                  7   \n",
       "3                2   39                   1.0                 10   \n",
       "4                1   45                   3.0                  2   \n",
       "\n",
       "  KPIs_met >80% awards_won?  avg_training_score  is_promoted  \n",
       "0             1           0                  49            0  \n",
       "1             0           0                  60            0  \n",
       "2             0           0                  50            0  \n",
       "3             0           0                  50            0  \n",
       "4             0           0                  73            0  "
      ]
     },
     "execution_count": 13,
     "metadata": {
      "tags": []
     },
     "output_type": "execute_result"
    }
   ],
   "source": [
    "data_train.head(5)"
   ]
  },
  {
   "cell_type": "markdown",
   "metadata": {
    "colab_type": "text",
    "id": "MDTYvsJ0g4Gx"
   },
   "source": [
    "#### with raw data"
   ]
  },
  {
   "cell_type": "code",
   "execution_count": 0,
   "metadata": {
    "colab": {},
    "colab_type": "code",
    "id": "zf_BN5u7hAca"
   },
   "outputs": [],
   "source": [
    "data_raw = pd.get_dummies(data_train )"
   ]
  },
  {
   "cell_type": "code",
   "execution_count": 0,
   "metadata": {
    "colab": {},
    "colab_type": "code",
    "id": "hmpjXZcyhPsw"
   },
   "outputs": [],
   "source": [
    "from sklearn.model_selection import train_test_split,GridSearchCV,RandomizedSearchCV\n",
    "from sklearn.tree import DecisionTreeClassifier, ExtraTreeClassifier\n",
    "from sklearn.ensemble import RandomForestClassifier,ExtraTreesClassifier,AdaBoostClassifier\n",
    "from xgboost import XGBRFClassifier,XGBClassifier\n",
    "from sklearn.metrics import classification_report,confusion_matrix,accuracy_score,roc_curve,auc,recall_score"
   ]
  },
  {
   "cell_type": "code",
   "execution_count": 0,
   "metadata": {
    "colab": {},
    "colab_type": "code",
    "id": "ukqbS-ivhR91"
   },
   "outputs": [],
   "source": [
    "X = data_raw.drop(columns=['is_promoted']).values\n",
    "y = data_raw.is_promoted.values"
   ]
  },
  {
   "cell_type": "code",
   "execution_count": 0,
   "metadata": {
    "colab": {},
    "colab_type": "code",
    "id": "y30tAT4Wh0Fg"
   },
   "outputs": [],
   "source": [
    "X_train, X_val, y_train, y_val = train_test_split(X,y, random_state = 6, train_size = .8)"
   ]
  },
  {
   "cell_type": "code",
   "execution_count": 0,
   "metadata": {
    "colab": {},
    "colab_type": "code",
    "id": "wnK7peNviAuY"
   },
   "outputs": [],
   "source": [
    "def clf(model):\n",
    "    from sklearn.metrics import classification_report,confusion_matrix,accuracy_score,roc_curve,auc,recall_score\n",
    "    \n",
    "    model = model()\n",
    "    model.fit(X_train, y_train)\n",
    "\n",
    "    y_predict = model.predict(X_val)\n",
    "    print(confusion_matrix(y_val,y_predict)) \n",
    "    print(accuracy_score(y_val,y_predict))\n",
    "    \n",
    "    fpr, tpr, thresholds = roc_curve(y_val, y_predict, pos_label=None)\n",
    "    print('auc :',auc(fpr, tpr))\n",
    "    print('recall :', recall_score(y_val, y_predict))"
   ]
  },
  {
   "cell_type": "markdown",
   "metadata": {
    "colab_type": "text",
    "id": "lYVBnpWc7Ooz"
   },
   "source": [
    "DecisionTreeClassifier"
   ]
  },
  {
   "cell_type": "code",
   "execution_count": 33,
   "metadata": {
    "colab": {
     "base_uri": "https://localhost:8080/",
     "height": 0
    },
    "colab_type": "code",
    "id": "62Ac3XpBiHo7",
    "outputId": "e7fb9c8d-ebeb-46a0-d2f3-60ba2e221954"
   },
   "outputs": [
    {
     "name": "stdout",
     "output_type": "stream",
     "text": [
      "[[9387  615]\n",
      " [ 507  453]]\n",
      "0.8976464148877942\n",
      "auc : 0.7051936487702459\n",
      "recall : 0.471875\n"
     ]
    }
   ],
   "source": [
    "clf(DecisionTreeClassifier)"
   ]
  },
  {
   "cell_type": "code",
   "execution_count": 74,
   "metadata": {
    "colab": {
     "base_uri": "https://localhost:8080/",
     "height": 0
    },
    "colab_type": "code",
    "id": "moIXT54eluzs",
    "outputId": "2fdaeb05-5664-471d-aebf-d9166f7c1946"
   },
   "outputs": [
    {
     "name": "stdout",
     "output_type": "stream",
     "text": [
      "[[9844  158]\n",
      " [ 593  367]]\n",
      "0.931490603904397\n",
      "auc : 0.6832474130173966\n",
      "recall : 0.38229166666666664\n"
     ]
    }
   ],
   "source": [
    "model = DecisionTreeClassifier(ccp_alpha=0.0, class_weight=None, criterion='gini',\n",
    "                       max_depth=None, max_features=10, max_leaf_nodes=None,\n",
    "                       min_impurity_decrease=0.0, min_impurity_split=None,\n",
    "                       min_samples_leaf=5, min_samples_split=5,\n",
    "                       min_weight_fraction_leaf=0.0, presort='deprecated',\n",
    "                       random_state=4253, splitter='best')\n",
    "\n",
    "\n",
    "model.fit(X_train, y_train)\n",
    "\n",
    "y_predict = model.predict(X_val)\n",
    "print(confusion_matrix(y_val,y_predict)) \n",
    "print(accuracy_score(y_val,y_predict))\n",
    "    \n",
    "fpr, tpr, thresholds = roc_curve(y_val, y_predict, pos_label=None)\n",
    "print('auc :',auc(fpr, tpr))\n",
    "print('recall :', recall_score(y_val, y_predict))"
   ]
  },
  {
   "cell_type": "code",
   "execution_count": 108,
   "metadata": {
    "colab": {
     "base_uri": "https://localhost:8080/",
     "height": 0
    },
    "colab_type": "code",
    "id": "UwvzVJQA2Bt_",
    "outputId": "6f1d80c0-c28a-4084-8591-1ad08e254ce1"
   },
   "outputs": [
    {
     "data": {
      "text/plain": [
       "(43846, 26)"
      ]
     },
     "execution_count": 108,
     "metadata": {
      "tags": []
     },
     "output_type": "execute_result"
    }
   ],
   "source": [
    "X_train.shape"
   ]
  },
  {
   "cell_type": "code",
   "execution_count": 158,
   "metadata": {
    "colab": {
     "base_uri": "https://localhost:8080/",
     "height": 0
    },
    "colab_type": "code",
    "id": "ATJ7Op_VoxI-",
    "outputId": "f7e54f97-cff8-46d0-b57f-30d5872fe0b1"
   },
   "outputs": [
    {
     "name": "stdout",
     "output_type": "stream",
     "text": [
      "Fitting 10 folds for each of 24 candidates, totalling 240 fits\n"
     ]
    },
    {
     "name": "stderr",
     "output_type": "stream",
     "text": [
      "[Parallel(n_jobs=-1)]: Using backend LokyBackend with 2 concurrent workers.\n",
      "[Parallel(n_jobs=-1)]: Done  46 tasks      | elapsed:    5.5s\n",
      "[Parallel(n_jobs=-1)]: Done 196 tasks      | elapsed:   22.8s\n",
      "[Parallel(n_jobs=-1)]: Done 240 out of 240 | elapsed:   27.8s finished\n"
     ]
    },
    {
     "data": {
      "text/plain": [
       "GridSearchCV(cv=10, error_score=nan,\n",
       "             estimator=DecisionTreeClassifier(ccp_alpha=0.0, class_weight=None,\n",
       "                                              criterion='gini', max_depth=None,\n",
       "                                              max_features=None,\n",
       "                                              max_leaf_nodes=None,\n",
       "                                              min_impurity_decrease=0.0,\n",
       "                                              min_impurity_split=None,\n",
       "                                              min_samples_leaf=5,\n",
       "                                              min_samples_split=5,\n",
       "                                              min_weight_fraction_leaf=0.0,\n",
       "                                              presort='deprecated',\n",
       "                                              random_state=61,\n",
       "                                              splitter='best'),\n",
       "             iid='deprecated', n_jobs=-1,\n",
       "             param_grid={'criterion': ['gini', 'entropy'],\n",
       "                         'max_depth': [31, 30, 29, 28, 27, None],\n",
       "                         'max_features': [20, None]},\n",
       "             pre_dispatch='2*n_jobs', refit=True, return_train_score=False,\n",
       "             scoring='recall', verbose=1)"
      ]
     },
     "execution_count": 158,
     "metadata": {
      "tags": []
     },
     "output_type": "execute_result"
    }
   ],
   "source": [
    "params = dict(criterion = ['gini','entropy'],\n",
    "              max_features=[20,None],\n",
    "              max_depth=[31,30,29,28,27,None]  \n",
    "              )\n",
    "\n",
    "clf = DecisionTreeClassifier(min_samples_split=5,min_samples_leaf=5,\n",
    "              random_state=61)\n",
    "\n",
    "model = GridSearchCV(clf, param_grid= params,scoring='recall', n_jobs=-1, verbose= 1, cv = 10 ,return_train_score=False)\n",
    "model.fit(X_train,y_train)"
   ]
  },
  {
   "cell_type": "code",
   "execution_count": 0,
   "metadata": {
    "colab": {},
    "colab_type": "code",
    "id": "c1BJg5yb2ozx"
   },
   "outputs": [],
   "source": [
    "# model.cv_results_ "
   ]
  },
  {
   "cell_type": "code",
   "execution_count": 159,
   "metadata": {
    "colab": {
     "base_uri": "https://localhost:8080/",
     "height": 0
    },
    "colab_type": "code",
    "id": "OHW7szlVzDFO",
    "outputId": "0315beca-8c51-4f1f-fb29-30518dcedd86"
   },
   "outputs": [
    {
     "data": {
      "text/plain": [
       "0.3826917753332848"
      ]
     },
     "execution_count": 159,
     "metadata": {
      "tags": []
     },
     "output_type": "execute_result"
    }
   ],
   "source": [
    "model.best_score_"
   ]
  },
  {
   "cell_type": "code",
   "execution_count": 160,
   "metadata": {
    "colab": {
     "base_uri": "https://localhost:8080/",
     "height": 0
    },
    "colab_type": "code",
    "id": "XcFoXYpJzt0j",
    "outputId": "320f3aef-85f6-4d85-922f-f4fb480814d3"
   },
   "outputs": [
    {
     "data": {
      "text/plain": [
       "{'criterion': 'entropy', 'max_depth': 29, 'max_features': None}"
      ]
     },
     "execution_count": 160,
     "metadata": {
      "tags": []
     },
     "output_type": "execute_result"
    }
   ],
   "source": [
    "model.best_params_\n"
   ]
  },
  {
   "cell_type": "code",
   "execution_count": 163,
   "metadata": {
    "colab": {
     "base_uri": "https://localhost:8080/",
     "height": 0
    },
    "colab_type": "code",
    "id": "1RD2B9S_ztxh",
    "outputId": "55094bd1-ec13-485c-de61-ec2b5af4e48f"
   },
   "outputs": [
    {
     "name": "stdout",
     "output_type": "stream",
     "text": [
      "[[9761  241]\n",
      " [ 571  389]]\n",
      "0.9259259259259259\n",
      "auc : 0.6905565761847631\n",
      "recall : 0.40520833333333334\n"
     ]
    }
   ],
   "source": [
    "model = DecisionTreeClassifier(ccp_alpha=0.0, class_weight=None, criterion='entropy',\n",
    "                       max_depth=29, max_features=None, max_leaf_nodes=None,\n",
    "                       min_impurity_decrease=0.0, min_impurity_split=None,\n",
    "                       min_samples_leaf=5, min_samples_split=5,\n",
    "                       min_weight_fraction_leaf=0.0, presort='deprecated',\n",
    "                       random_state=61, splitter='best')\n",
    "\n",
    "\n",
    "model.fit(X_train, y_train)\n",
    "\n",
    "y_predict = model.predict(X_val)\n",
    "print(confusion_matrix(y_val,y_predict)) \n",
    "print(accuracy_score(y_val,y_predict))\n",
    "    \n",
    "fpr, tpr, thresholds = roc_curve(y_val, y_predict, pos_label=None)\n",
    "print('auc :',auc(fpr, tpr))\n",
    "print('recall :', recall_score(y_val, y_predict))"
   ]
  },
  {
   "cell_type": "code",
   "execution_count": 0,
   "metadata": {
    "colab": {},
    "colab_type": "code",
    "id": "4ViZqL1V7V99"
   },
   "outputs": [],
   "source": []
  },
  {
   "cell_type": "markdown",
   "metadata": {
    "colab_type": "text",
    "id": "lOC1meKV7YSn"
   },
   "source": [
    "RandomForestClassifier"
   ]
  },
  {
   "cell_type": "code",
   "execution_count": 34,
   "metadata": {
    "colab": {
     "base_uri": "https://localhost:8080/",
     "height": 0
    },
    "colab_type": "code",
    "id": "VHmzZciNi8A7",
    "outputId": "bc4e5ce3-cfa3-45ee-e746-05263fac8250"
   },
   "outputs": [
    {
     "name": "stdout",
     "output_type": "stream",
     "text": [
      "[[9858  144]\n",
      " [ 600  360]]\n",
      "0.9321291735084839\n",
      "auc : 0.6803014397120576\n",
      "recall : 0.375\n"
     ]
    }
   ],
   "source": [
    "clf(RandomForestClassifier)"
   ]
  },
  {
   "cell_type": "code",
   "execution_count": 164,
   "metadata": {
    "colab": {
     "base_uri": "https://localhost:8080/",
     "height": 0
    },
    "colab_type": "code",
    "id": "QoizPIdD7bWH",
    "outputId": "ed93ed9e-3215-4e85-c0bc-7a3fdc31a5d0"
   },
   "outputs": [
    {
     "name": "stdout",
     "output_type": "stream",
     "text": [
      "[[9976   26]\n",
      " [ 628  332]]\n",
      "0.9403393541324576\n",
      "auc : 0.671616926614677\n",
      "recall : 0.3458333333333333\n"
     ]
    }
   ],
   "source": [
    "model =RandomForestClassifier(bootstrap=True, ccp_alpha=0.0, class_weight=None,\n",
    "                       criterion='entropy', max_depth=70, max_features='sqrt',\n",
    "                       max_leaf_nodes=None, max_samples=None,\n",
    "                       min_impurity_decrease=0.0, min_impurity_split=None,\n",
    "                       min_samples_leaf=2, min_samples_split=9,\n",
    "                       min_weight_fraction_leaf=0.0, n_estimators=70,\n",
    "                       n_jobs=None, oob_score=False, random_state=4253,\n",
    "                       verbose=0, warm_start=False)\n",
    "\n",
    "model.fit(X_train, y_train)\n",
    "\n",
    "y_predict = model.predict(X_val)\n",
    "print(confusion_matrix(y_val,y_predict)) \n",
    "print(accuracy_score(y_val,y_predict))\n",
    "    \n",
    "fpr, tpr, thresholds = roc_curve(y_val, y_predict, pos_label=None)\n",
    "print('auc :',auc(fpr, tpr))\n",
    "print('recall :', recall_score(y_val, y_predict))"
   ]
  },
  {
   "cell_type": "code",
   "execution_count": 0,
   "metadata": {
    "colab": {},
    "colab_type": "code",
    "id": "KhrmmxDE7hZA"
   },
   "outputs": [],
   "source": [
    "params = dict(criterion = ['entropy','gini'],\n",
    "              max_features=[20,25,None],\n",
    "              max_depth=[50,45,48,None],\n",
    "              bootstrap = [True],\n",
    "              n_estimators = [100,200]  \n",
    "              )\n",
    "\n",
    "clf = RandomForestClassifier(min_samples_split=5,min_samples_leaf=5,\n",
    "              random_state=61)\n",
    "\n",
    "model = GridSearchCV(clf, param_grid= params,scoring='recall', n_jobs=-1, verbose= 1, cv = 10 ,return_train_score=False)\n",
    "model.fit(X_train,y_train)"
   ]
  },
  {
   "cell_type": "code",
   "execution_count": 169,
   "metadata": {
    "colab": {
     "base_uri": "https://localhost:8080/",
     "height": 0
    },
    "colab_type": "code",
    "id": "rqoV6kFQ7hJW",
    "outputId": "7d39b5de-8db4-4e58-cc0a-b057ba2deffa"
   },
   "outputs": [
    {
     "name": "stdout",
     "output_type": "stream",
     "text": [
      "0.33037590150797697 {'bootstrap': True, 'criterion': 'entropy', 'max_depth': 50, 'max_features': None, 'n_estimators': 200}\n"
     ]
    }
   ],
   "source": [
    "print(model.best_score_, model.best_params_)"
   ]
  },
  {
   "cell_type": "code",
   "execution_count": 176,
   "metadata": {
    "colab": {
     "base_uri": "https://localhost:8080/",
     "height": 0
    },
    "colab_type": "code",
    "id": "U78TppaG7hE9",
    "outputId": "1ca17077-e719-49e0-8bdc-5cc47286ae4f"
   },
   "outputs": [
    {
     "name": "stdout",
     "output_type": "stream",
     "text": [
      "[[9986   16]\n",
      " [ 641  319]]\n",
      "0.9400656814449918\n",
      "auc : 0.6653459933013397\n",
      "recall : 0.33229166666666665\n"
     ]
    }
   ],
   "source": [
    "model =RandomForestClassifier(bootstrap=True, ccp_alpha=0.0, class_weight=None,\n",
    "                       criterion='entropy', max_depth=50, max_features='sqrt',\n",
    "                       max_leaf_nodes=None, max_samples=None,\n",
    "                       min_impurity_decrease=0.0, min_impurity_split=None,\n",
    "                       min_samples_leaf=3, min_samples_split=9,\n",
    "                       min_weight_fraction_leaf=0.0, n_estimators=200,\n",
    "                       n_jobs=-1, oob_score=False, random_state=61,\n",
    "                       verbose=0, warm_start=False)\n",
    "\n",
    "model.fit(X_train, y_train)\n",
    "\n",
    "y_predict = model.predict(X_val)\n",
    "print(confusion_matrix(y_val,y_predict)) \n",
    "print(accuracy_score(y_val,y_predict))\n",
    "    \n",
    "fpr, tpr, thresholds = roc_curve(y_val, y_predict, pos_label=None)\n",
    "print('auc :',auc(fpr, tpr))\n",
    "print('recall :', recall_score(y_val, y_predict))"
   ]
  },
  {
   "cell_type": "code",
   "execution_count": 0,
   "metadata": {
    "colab": {},
    "colab_type": "code",
    "id": "qI5ewDZR7hDV"
   },
   "outputs": [],
   "source": []
  },
  {
   "cell_type": "code",
   "execution_count": 0,
   "metadata": {
    "colab": {},
    "colab_type": "code",
    "id": "s2ZYcj0S-Fl2"
   },
   "outputs": [],
   "source": []
  },
  {
   "cell_type": "markdown",
   "metadata": {
    "colab_type": "text",
    "id": "fbGTsiHd-GPJ"
   },
   "source": [
    "ExtraTreesClassifier"
   ]
  },
  {
   "cell_type": "code",
   "execution_count": 35,
   "metadata": {
    "colab": {
     "base_uri": "https://localhost:8080/",
     "height": 0
    },
    "colab_type": "code",
    "id": "V3s4NYpLi99V",
    "outputId": "ae681b3d-124a-4d0e-9f43-15a9ea699a41"
   },
   "outputs": [
    {
     "name": "stdout",
     "output_type": "stream",
     "text": [
      "[[9760  242]\n",
      " [ 604  356]]\n",
      "0.922824302134647\n",
      "auc : 0.6733190861827635\n",
      "recall : 0.37083333333333335\n"
     ]
    }
   ],
   "source": [
    "clf(ExtraTreesClassifier)"
   ]
  },
  {
   "cell_type": "code",
   "execution_count": 219,
   "metadata": {
    "colab": {
     "base_uri": "https://localhost:8080/",
     "height": 0
    },
    "colab_type": "code",
    "id": "1Ag1FTBL_b_R",
    "outputId": "0eebbd5b-6c42-4e83-d136-a39d9f93f0ec"
   },
   "outputs": [
    {
     "name": "stdout",
     "output_type": "stream",
     "text": [
      "[[9778  224]\n",
      " [ 604  356]]\n",
      "0.9244663382594417\n",
      "auc : 0.6742189062187562\n",
      "recall : 0.37083333333333335\n"
     ]
    }
   ],
   "source": [
    "model =ExtraTreesClassifier(n_estimators=200, criterion='gini', max_depth=None,\n",
    "                            min_samples_split=2, min_samples_leaf=1, min_weight_fraction_leaf=0.0,\n",
    "                            max_features='auto', max_leaf_nodes=None, min_impurity_decrease=0.0,\n",
    "                            min_impurity_split=None, bootstrap=False, oob_score=False, n_jobs=None,\n",
    "                            random_state=None, verbose=0, warm_start=False, class_weight=None, \n",
    "                            ccp_alpha=0.0, max_samples=None)\n",
    "\n",
    "model.fit(X_train, y_train)\n",
    "\n",
    "y_predict = model.predict(X_val)\n",
    "print(confusion_matrix(y_val,y_predict)) \n",
    "print(accuracy_score(y_val,y_predict))\n",
    "    \n",
    "fpr, tpr, thresholds = roc_curve(y_val, y_predict, pos_label=None)\n",
    "print('auc :',auc(fpr, tpr))\n",
    "print('recall :', recall_score(y_val, y_predict))"
   ]
  },
  {
   "cell_type": "code",
   "execution_count": 222,
   "metadata": {
    "colab": {
     "base_uri": "https://localhost:8080/",
     "height": 0
    },
    "colab_type": "code",
    "id": "9MIaf8JR_b8t",
    "outputId": "aa118af7-3766-4819-a6c5-20cf8a8e997c"
   },
   "outputs": [
    {
     "name": "stdout",
     "output_type": "stream",
     "text": [
      "Fitting 5 folds for each of 16 candidates, totalling 80 fits\n"
     ]
    },
    {
     "name": "stderr",
     "output_type": "stream",
     "text": [
      "[Parallel(n_jobs=-1)]: Using backend LokyBackend with 2 concurrent workers.\n",
      "[Parallel(n_jobs=-1)]: Done  46 tasks      | elapsed:  5.0min\n",
      "[Parallel(n_jobs=-1)]: Done  80 out of  80 | elapsed:  8.5min finished\n"
     ]
    },
    {
     "data": {
      "text/plain": [
       "GridSearchCV(cv=5, error_score=nan,\n",
       "             estimator=ExtraTreesClassifier(bootstrap=False, ccp_alpha=0.0,\n",
       "                                            class_weight=None, criterion='gini',\n",
       "                                            max_depth=None, max_features='auto',\n",
       "                                            max_leaf_nodes=None,\n",
       "                                            max_samples=None,\n",
       "                                            min_impurity_decrease=0.0,\n",
       "                                            min_impurity_split=None,\n",
       "                                            min_samples_leaf=5,\n",
       "                                            min_samples_split=5,\n",
       "                                            min_weight_fraction_leaf=0.0,\n",
       "                                            n_estimators=100, n_jobs=-1,\n",
       "                                            oob_score=False, random_state=61,\n",
       "                                            verbose=0, warm_start=False),\n",
       "             iid='deprecated', n_jobs=-1,\n",
       "             param_grid={'max_depth': [40, 60, 70, None],\n",
       "                         'max_features': [20, None],\n",
       "                         'min_samples_split': [5, 10]},\n",
       "             pre_dispatch='2*n_jobs', refit=True, return_train_score=False,\n",
       "             scoring='recall', verbose=1)"
      ]
     },
     "execution_count": 222,
     "metadata": {
      "tags": []
     },
     "output_type": "execute_result"
    }
   ],
   "source": [
    "params = dict(min_samples_split=[5,10],\n",
    "              max_features=[20,None],\n",
    "              max_depth=[40,60,70,None],\n",
    "              )\n",
    "\n",
    "clf = ExtraTreesClassifier(min_samples_split=5,min_samples_leaf=5,n_jobs = -1,\n",
    "              random_state=61)\n",
    "\n",
    "model = GridSearchCV(clf, param_grid= params,scoring='recall', n_jobs=-1, verbose= 1, cv = 5 ,return_train_score=False)\n",
    "model.fit(X_train,y_train)"
   ]
  },
  {
   "cell_type": "code",
   "execution_count": 223,
   "metadata": {
    "colab": {
     "base_uri": "https://localhost:8080/",
     "height": 0
    },
    "colab_type": "code",
    "id": "7xUPu9W3_b40",
    "outputId": "2fe05aea-c954-4641-e0ab-7cee0a6076a7"
   },
   "outputs": [
    {
     "name": "stdout",
     "output_type": "stream",
     "text": [
      "0.338179992797669 {'max_depth': 40, 'max_features': None, 'min_samples_split': 5}\n"
     ]
    }
   ],
   "source": [
    "print(model.best_score_, model.best_params_)"
   ]
  },
  {
   "cell_type": "code",
   "execution_count": 0,
   "metadata": {
    "colab": {},
    "colab_type": "code",
    "id": "h3mJKG5A_b2r"
   },
   "outputs": [],
   "source": []
  },
  {
   "cell_type": "markdown",
   "metadata": {
    "colab_type": "text",
    "id": "RxjOSNAz-Jr6"
   },
   "source": [
    "XGBRFClassifier"
   ]
  },
  {
   "cell_type": "code",
   "execution_count": 36,
   "metadata": {
    "colab": {
     "base_uri": "https://localhost:8080/",
     "height": 0
    },
    "colab_type": "code",
    "id": "AMKDB9omjAn2",
    "outputId": "25ebf86a-5f17-424d-9d34-add780cadf01"
   },
   "outputs": [
    {
     "name": "stdout",
     "output_type": "stream",
     "text": [
      "[[9996    6]\n",
      " [ 845  115]]\n",
      "0.9223681809888706\n",
      "auc : 0.5595958933213357\n",
      "recall : 0.11979166666666667\n"
     ]
    }
   ],
   "source": [
    "clf(XGBRFClassifier)"
   ]
  },
  {
   "cell_type": "code",
   "execution_count": 0,
   "metadata": {
    "colab": {},
    "colab_type": "code",
    "id": "gjtMUm3T_TMf"
   },
   "outputs": [],
   "source": [
    "# model =XGBRFClassifier(bootstrap=True, ccp_alpha=0.0, class_weight=None,\n",
    "#                        criterion='entropy', max_depth=70, max_features='sqrt',\n",
    "#                        max_leaf_nodes=None, max_samples=None,\n",
    "#                        min_impurity_decrease=0.0, min_impurity_split=None,\n",
    "#                        min_samples_leaf=2, min_samples_split=9,\n",
    "#                        min_weight_fraction_leaf=0.0, n_estimators=70,\n",
    "#                        n_jobs=None, oob_score=False, random_state=4253,\n",
    "#                        verbose=0, warm_start=False)\n",
    "\n",
    "# model.fit(X_train, y_train)\n",
    "\n",
    "# y_predict = model.predict(X_val)\n",
    "# print(confusion_matrix(y_val,y_predict)) \n",
    "# print(accuracy_score(y_val,y_predict))\n",
    "    \n",
    "# fpr, tpr, thresholds = roc_curve(y_val, y_predict, pos_label=None)\n",
    "# print('auc :',auc(fpr, tpr))\n",
    "# print('recall :', recall_score(y_val, y_predict))"
   ]
  },
  {
   "cell_type": "code",
   "execution_count": 0,
   "metadata": {
    "colab": {},
    "colab_type": "code",
    "id": "7oP8lhos_S3p"
   },
   "outputs": [],
   "source": [
    "# params = dict(criterion = ['gini','entropy'],\n",
    "#               max_features=[20,None],\n",
    "#               max_depth=[20,30,40,50,60,70,None],\n",
    "#               bootstrap = [True, False],\n",
    "#               n_estimators = [100,200]  \n",
    "#               )\n",
    "\n",
    "# clf = XGBRFClassifier(min_samples_split=5,min_samples_leaf=5,\n",
    "#               random_state=61)\n",
    "\n",
    "# model = GridSearchCV(clf, param_grid= params,scoring='recall', n_jobs=-1, verbose= 1, cv = 10 ,return_train_score=False)\n",
    "# model.fit(X_train,y_train)"
   ]
  },
  {
   "cell_type": "code",
   "execution_count": 0,
   "metadata": {
    "colab": {},
    "colab_type": "code",
    "id": "4szFIurl_S0S"
   },
   "outputs": [],
   "source": []
  },
  {
   "cell_type": "code",
   "execution_count": 0,
   "metadata": {
    "colab": {},
    "colab_type": "code",
    "id": "wZGj6k93_St9"
   },
   "outputs": [],
   "source": []
  },
  {
   "cell_type": "markdown",
   "metadata": {
    "colab_type": "text",
    "id": "UeXe7uq9-O46"
   },
   "source": [
    "XGBClassifier"
   ]
  },
  {
   "cell_type": "code",
   "execution_count": 37,
   "metadata": {
    "colab": {
     "base_uri": "https://localhost:8080/",
     "height": 0
    },
    "colab_type": "code",
    "id": "WaM32A5JjGvG",
    "outputId": "7736ce0c-f8cd-4544-960d-6a883901510e"
   },
   "outputs": [
    {
     "name": "stdout",
     "output_type": "stream",
     "text": [
      "[[9998    4]\n",
      " [ 666  294]]\n",
      "0.9388797664659734\n",
      "auc : 0.6529250399920016\n",
      "recall : 0.30625\n"
     ]
    }
   ],
   "source": [
    "clf(XGBClassifier)"
   ]
  },
  {
   "cell_type": "code",
   "execution_count": 200,
   "metadata": {
    "colab": {
     "base_uri": "https://localhost:8080/",
     "height": 0
    },
    "colab_type": "code",
    "id": "-IzY2Vxu_VLA",
    "outputId": "bcac5a91-f57c-44d5-ee32-2c6460bf05d4"
   },
   "outputs": [
    {
     "name": "stdout",
     "output_type": "stream",
     "text": [
      "[[9903   99]\n",
      " [ 589  371]]\n",
      "0.9372377303411786\n",
      "auc : 0.6882801564687063\n",
      "recall : 0.38645833333333335\n"
     ]
    }
   ],
   "source": [
    "model =XGBClassifier(base_score=0.5, booster='gbtree', colsample_bylevel=1,\n",
    "              colsample_bynode=1, colsample_bytree=0.9, gamma=0,\n",
    "              learning_rate=0.16, max_delta_step=0, max_depth=90,\n",
    "              min_child_weight=2, missing=None, n_estimators=50, n_jobs=-1,\n",
    "              nthread=None, objective='binary:logistic', random_state=4253,\n",
    "              reg_alpha=0, reg_lambda=1, scale_pos_weight=1, seed=None,\n",
    "              silent=None, subsample=0.7, verbosity=0)\n",
    "\n",
    "model.fit(X_train, y_train)\n",
    "\n",
    "y_predict = model.predict(X_val)\n",
    "print(confusion_matrix(y_val,y_predict)) \n",
    "print(accuracy_score(y_val,y_predict))\n",
    "    \n",
    "fpr, tpr, thresholds = roc_curve(y_val, y_predict, pos_label=None)\n",
    "print('auc :',auc(fpr, tpr))\n",
    "print('recall :', recall_score(y_val, y_predict))"
   ]
  },
  {
   "cell_type": "code",
   "execution_count": 203,
   "metadata": {
    "colab": {
     "base_uri": "https://localhost:8080/",
     "height": 0
    },
    "colab_type": "code",
    "id": "AZ12cb1q_VDF",
    "outputId": "817782e9-d553-41d1-da96-a6aaa63e90ab"
   },
   "outputs": [
    {
     "name": "stdout",
     "output_type": "stream",
     "text": [
      "Fitting 5 folds for each of 12 candidates, totalling 60 fits\n"
     ]
    },
    {
     "name": "stderr",
     "output_type": "stream",
     "text": [
      "[Parallel(n_jobs=-1)]: Using backend LokyBackend with 2 concurrent workers.\n",
      "[Parallel(n_jobs=-1)]: Done  46 tasks      | elapsed: 10.6min\n",
      "[Parallel(n_jobs=-1)]: Done  60 out of  60 | elapsed: 13.2min finished\n"
     ]
    },
    {
     "data": {
      "text/plain": [
       "GridSearchCV(cv=5, error_score=nan,\n",
       "             estimator=XGBClassifier(base_score=0.5, booster='gbtree',\n",
       "                                     colsample_bylevel=1, colsample_bynode=1,\n",
       "                                     colsample_bytree=0.9, gamma=0,\n",
       "                                     learning_rate=0.1, max_delta_step=0,\n",
       "                                     max_depth=3, min_child_weight=1,\n",
       "                                     missing=None, n_estimators=100, n_jobs=-1,\n",
       "                                     nthread=None, objective='binary:logistic',\n",
       "                                     random_state=61, reg_alpha=0, reg_lambda=1,\n",
       "                                     scale_pos_weight=1, seed=None, silent=None,\n",
       "                                     subsample=1, verbosity=1),\n",
       "             iid='deprecated', n_jobs=-1,\n",
       "             param_grid={'learning_rate': [0.1, 1, 0.5],\n",
       "                         'max_depth': [70, 80, 90, None]},\n",
       "             pre_dispatch='2*n_jobs', refit=True, return_train_score=False,\n",
       "             scoring='recall', verbose=1)"
      ]
     },
     "execution_count": 203,
     "metadata": {
      "tags": []
     },
     "output_type": "execute_result"
    }
   ],
   "source": [
    "params = dict(\n",
    "              max_depth=[70,80,90,None],\n",
    "              learning_rate = [0.1,1,0.5]\n",
    "                \n",
    "              )\n",
    "\n",
    "clf = XGBClassifier( booster ='gbtree',objective='binary:logistic', colsample_bylevel=1,\n",
    "              colsample_bynode=1, colsample_bytree=0.9, gamma=0,n_estimators = 100,\n",
    "              random_state=61,n_jobs = -1)\n",
    "\n",
    "model = GridSearchCV(clf, param_grid= params,scoring='recall', n_jobs=-1, verbose= 1, cv = 5 ,return_train_score=False)\n",
    "model.fit(X_train,y_train)"
   ]
  },
  {
   "cell_type": "code",
   "execution_count": 204,
   "metadata": {
    "colab": {
     "base_uri": "https://localhost:8080/",
     "height": 0
    },
    "colab_type": "code",
    "id": "t5DgUGxV_U_D",
    "outputId": "d455d9e7-1043-4c98-beba-743bdcd89986"
   },
   "outputs": [
    {
     "name": "stdout",
     "output_type": "stream",
     "text": [
      "0.3931941610193845 {'learning_rate': 1, 'max_depth': 70}\n"
     ]
    }
   ],
   "source": [
    "print(model.best_score_, model.best_params_)"
   ]
  },
  {
   "cell_type": "code",
   "execution_count": 212,
   "metadata": {
    "colab": {
     "base_uri": "https://localhost:8080/",
     "height": 0
    },
    "colab_type": "code",
    "id": "E5ka6gTc_U2v",
    "outputId": "787fabb9-36f3-4608-ae1a-dc7a8814ebba"
   },
   "outputs": [
    {
     "name": "stdout",
     "output_type": "stream",
     "text": [
      "[[9560  442]\n",
      " [ 516  444]]\n",
      "0.9126071884692575\n",
      "auc : 0.7091544191161767\n",
      "recall : 0.4625\n"
     ]
    }
   ],
   "source": [
    "model =XGBClassifier(base_score=0.5, booster='dart', colsample_bylevel=1,\n",
    "              colsample_bynode=1, colsample_bytree=0.9, gamma=0,\n",
    "              learning_rate = 1, max_delta_step=0, max_depth=65,\n",
    "              min_child_weight=2, missing=None, n_estimators=100, n_jobs=-1,\n",
    "              nthread=None, objective='binary:logistic', random_state=4253,\n",
    "              reg_alpha=0, reg_lambda=1, scale_pos_weight=1, seed=None,\n",
    "              silent=None, subsample=0.7, verbosity=0)\n",
    "\n",
    "model.fit(X_train, y_train)\n",
    "\n",
    "y_predict = model.predict(X_val)\n",
    "print(confusion_matrix(y_val,y_predict)) \n",
    "print(accuracy_score(y_val,y_predict))\n",
    "    \n",
    "fpr, tpr, thresholds = roc_curve(y_val, y_predict, pos_label=None)\n",
    "print('auc :',auc(fpr, tpr))\n",
    "print('recall :', recall_score(y_val, y_predict))"
   ]
  },
  {
   "cell_type": "code",
   "execution_count": 0,
   "metadata": {
    "colab": {},
    "colab_type": "code",
    "id": "-xYsW0QGFKT9"
   },
   "outputs": [],
   "source": []
  },
  {
   "cell_type": "markdown",
   "metadata": {
    "colab_type": "text",
    "id": "WZPlsPY2-QK-"
   },
   "source": [
    "AdaBoostClassifier"
   ]
  },
  {
   "cell_type": "code",
   "execution_count": 38,
   "metadata": {
    "colab": {
     "base_uri": "https://localhost:8080/",
     "height": 0
    },
    "colab_type": "code",
    "id": "7x8delUrjIyB",
    "outputId": "1ae00e54-1294-43dd-c71e-f6957e796acc"
   },
   "outputs": [
    {
     "name": "stdout",
     "output_type": "stream",
     "text": [
      "[[9947   55]\n",
      " [ 794  166]]\n",
      "0.9225506294471811\n",
      "auc : 0.5837088832233553\n",
      "recall : 0.17291666666666666\n"
     ]
    }
   ],
   "source": [
    "clf(AdaBoostClassifier)"
   ]
  },
  {
   "cell_type": "code",
   "execution_count": 199,
   "metadata": {
    "colab": {
     "base_uri": "https://localhost:8080/",
     "height": 0
    },
    "colab_type": "code",
    "id": "pQhhcPUij1ZY",
    "outputId": "4ced72e8-82c1-42a5-9bfa-99397b988cae"
   },
   "outputs": [
    {
     "name": "stdout",
     "output_type": "stream",
     "text": [
      "[[9888  114]\n",
      " [ 718  242]]\n",
      "0.9241014413428207\n",
      "auc : 0.6203428064387122\n",
      "recall : 0.2520833333333333\n"
     ]
    }
   ],
   "source": [
    "model =AdaBoostClassifier(algorithm='SAMME.R', base_estimator=None, learning_rate=1.75,\n",
    "                   n_estimators=200, random_state=61)\n",
    "\n",
    "model.fit(X_train, y_train)\n",
    "\n",
    "y_predict = model.predict(X_val)\n",
    "print(confusion_matrix(y_val,y_predict)) \n",
    "print(accuracy_score(y_val,y_predict))\n",
    "    \n",
    "fpr, tpr, thresholds = roc_curve(y_val, y_predict, pos_label=None)\n",
    "print('auc :',auc(fpr, tpr))\n",
    "print('recall :', recall_score(y_val, y_predict))"
   ]
  },
  {
   "cell_type": "code",
   "execution_count": 0,
   "metadata": {
    "colab": {},
    "colab_type": "code",
    "id": "Enw2iZHpk58h"
   },
   "outputs": [],
   "source": []
  },
  {
   "cell_type": "markdown",
   "metadata": {
    "colab_type": "text",
    "id": "PYaLp4MyqppT"
   },
   "source": [
    "#### with sampling"
   ]
  },
  {
   "cell_type": "code",
   "execution_count": 0,
   "metadata": {
    "colab": {},
    "colab_type": "code",
    "id": "uYbT2viasp-K"
   },
   "outputs": [],
   "source": [
    "def over_sample(X_train, y_train, smote = True):\n",
    "    # X_os = pd.DataFrame(impute(X_train), columns = X_train.columns,index = X_train.index)  #smote does not accept null values, impute returns array\n",
    "    X_os = X_train\n",
    "    y_os = y_train.copy()\n",
    "\n",
    "    from imblearn.over_sampling import SMOTE,ADASYN\n",
    "    if smote:\n",
    "        os = SMOTE(random_state=0)\n",
    "        columns = X_os.columns\n",
    "\n",
    "        X_train_os,y_train_os=os.fit_sample(X_os, y_os)\n",
    "        X_train_os = pd.DataFrame(data=X_train_os,columns=columns ) # both index changes , i think we dont need to change index\n",
    "    \n",
    "    else:\n",
    "        os = ADASYN(random_state=0)\n",
    "        columns = X_os.columns\n",
    "\n",
    "        X_train_os,y_train_os=os.fit_sample(X_os, y_os)\n",
    "        X_train_os = pd.DataFrame(data=X_train_os,columns=columns )\n",
    "        \n",
    "        \n",
    "    return X_train_os, y_train_os\n"
   ]
  },
  {
   "cell_type": "code",
   "execution_count": 0,
   "metadata": {
    "colab": {},
    "colab_type": "code",
    "id": "6rEzzZQOs2bB"
   },
   "outputs": [],
   "source": [
    "def under_sample(X_train, y_train, random_under_sample = True,random_replacement = False ,ver = 1):\n",
    "    # X_us = pd.DataFrame(impute(X_train), columns = X_train.columns,index = X_train.index)  #smote does not accept null values, impute returns array\n",
    "    X_us = X_train\n",
    "    y_us = y_train.copy()\n",
    "\n",
    "    from imblearn.under_sampling import RandomUnderSampler,NearMiss\n",
    "    if random_under_sample:\n",
    "        us = RandomUnderSampler(random_state=0, replacement = random_replacement)\n",
    "        columns = X_us.columns\n",
    "\n",
    "        X_train_us,y_train_us=us.fit_sample(X_us, y_us)\n",
    "        X_train_us = pd.DataFrame(data=X_train_us,columns=columns ) # both index changes , i think we dont need to change index\n",
    "    \n",
    "    else:\n",
    "        us = NearMiss(version = ver)\n",
    "        columns = X_us.columns\n",
    "\n",
    "        X_train_us,y_train_us=us.fit_sample(X_us, y_us)\n",
    "        X_train_us = pd.DataFrame(data=X_train_us,columns=columns )\n",
    "        \n",
    "        \n",
    "    return X_train_us, y_train_us"
   ]
  },
  {
   "cell_type": "markdown",
   "metadata": {
    "colab_type": "text",
    "id": "ge-sTcoaqwzU"
   },
   "source": [
    "#####OverSampling"
   ]
  },
  {
   "cell_type": "code",
   "execution_count": 0,
   "metadata": {
    "colab": {},
    "colab_type": "code",
    "id": "7VMG_OxorRcL"
   },
   "outputs": [],
   "source": [
    "data_raw = pd.get_dummies(data_train )"
   ]
  },
  {
   "cell_type": "code",
   "execution_count": 0,
   "metadata": {
    "colab": {},
    "colab_type": "code",
    "id": "QJn3CDW7rRct"
   },
   "outputs": [],
   "source": [
    "from sklearn.model_selection import train_test_split,GridSearchCV,RandomizedSearchCV\n",
    "from sklearn.tree import DecisionTreeClassifier, ExtraTreeClassifier\n",
    "from sklearn.ensemble import RandomForestClassifier,ExtraTreesClassifier,AdaBoostClassifier\n",
    "from xgboost import XGBRFClassifier,XGBClassifier\n",
    "from sklearn.metrics import classification_report,confusion_matrix,accuracy_score,roc_curve,auc,recall_score"
   ]
  },
  {
   "cell_type": "code",
   "execution_count": 0,
   "metadata": {
    "colab": {},
    "colab_type": "code",
    "id": "X_qw1zU6rRc0"
   },
   "outputs": [],
   "source": [
    "X = data_raw.drop(columns=['is_promoted'])\n",
    "y = data_raw.is_promoted"
   ]
  },
  {
   "cell_type": "code",
   "execution_count": 0,
   "metadata": {
    "colab": {},
    "colab_type": "code",
    "id": "YxLN93cnrRc9"
   },
   "outputs": [],
   "source": [
    "X_train, X_val, y_train, y_val = train_test_split(X,y, random_state = 6, train_size = .8)"
   ]
  },
  {
   "cell_type": "code",
   "execution_count": 0,
   "metadata": {
    "colab": {},
    "colab_type": "code",
    "id": "Ij9pioi-vO6g"
   },
   "outputs": [],
   "source": [
    "X_train_os, y_train = over_sample(X_train,y_train, smote = True)\n",
    "X_train = np.round(X_train_os)"
   ]
  },
  {
   "cell_type": "code",
   "execution_count": 291,
   "metadata": {
    "colab": {
     "base_uri": "https://localhost:8080/",
     "height": 0
    },
    "colab_type": "code",
    "id": "hN8VkRoMbbIl",
    "outputId": "c3d214e8-53a7-48dd-f219-9641f6916dce"
   },
   "outputs": [
    {
     "data": {
      "text/plain": [
       "((80276, 26), (10962, 26))"
      ]
     },
     "execution_count": 291,
     "metadata": {
      "tags": []
     },
     "output_type": "execute_result"
    }
   ],
   "source": [
    "X_train.shape, X_val.shape"
   ]
  },
  {
   "cell_type": "code",
   "execution_count": 0,
   "metadata": {
    "colab": {},
    "colab_type": "code",
    "id": "n3JKfv49rRdH"
   },
   "outputs": [],
   "source": [
    "def clf(model):\n",
    "    from sklearn.metrics import classification_report,confusion_matrix,accuracy_score,roc_curve,auc,recall_score\n",
    "    \n",
    "    model = model()\n",
    "    model.fit(X_train, y_train)\n",
    "\n",
    "    y_predict = model.predict(X_val)\n",
    "    print(confusion_matrix(y_val,y_predict)) \n",
    "    print(accuracy_score(y_val,y_predict))\n",
    "    \n",
    "    fpr, tpr, thresholds = roc_curve(y_val, y_predict, pos_label=None)\n",
    "    print('auc :',auc(fpr, tpr))\n",
    "    print('recall :', recall_score(y_val, y_predict))"
   ]
  },
  {
   "cell_type": "markdown",
   "metadata": {
    "colab_type": "text",
    "id": "rDZXcq-JrRdQ"
   },
   "source": [
    "DecisionTreeClassifier"
   ]
  },
  {
   "cell_type": "code",
   "execution_count": 238,
   "metadata": {
    "colab": {
     "base_uri": "https://localhost:8080/",
     "height": 0
    },
    "colab_type": "code",
    "id": "IftdKqkdrRdS",
    "outputId": "23aa32de-3706-4edc-87fd-c18f9ced7604"
   },
   "outputs": [
    {
     "name": "stdout",
     "output_type": "stream",
     "text": [
      "[[9256  746]\n",
      " [ 472  488]]\n",
      "0.8888888888888888\n",
      "auc : 0.716874125174965\n",
      "recall : 0.5083333333333333\n"
     ]
    }
   ],
   "source": [
    "clf(DecisionTreeClassifier)"
   ]
  },
  {
   "cell_type": "code",
   "execution_count": 0,
   "metadata": {
    "colab": {
     "base_uri": "https://localhost:8080/",
     "height": 100
    },
    "colab_type": "code",
    "id": "chyrJbndrRdd",
    "outputId": "2fdaeb05-5664-471d-aebf-d9166f7c1946"
   },
   "outputs": [
    {
     "name": "stdout",
     "output_type": "stream",
     "text": [
      "[[9844  158]\n",
      " [ 593  367]]\n",
      "0.931490603904397\n",
      "auc : 0.6832474130173966\n",
      "recall : 0.38229166666666664\n"
     ]
    }
   ],
   "source": [
    "model = DecisionTreeClassifier(ccp_alpha=0.0, class_weight=None, criterion='gini',\n",
    "                       max_depth=None, max_features=10, max_leaf_nodes=None,\n",
    "                       min_impurity_decrease=0.0, min_impurity_split=None,\n",
    "                       min_samples_leaf=5, min_samples_split=5,\n",
    "                       min_weight_fraction_leaf=0.0, presort='deprecated',\n",
    "                       random_state=4253, splitter='best')\n",
    "\n",
    "\n",
    "model.fit(X_train, y_train)\n",
    "\n",
    "y_predict = model.predict(X_val)\n",
    "print(confusion_matrix(y_val,y_predict)) \n",
    "print(accuracy_score(y_val,y_predict))\n",
    "    \n",
    "fpr, tpr, thresholds = roc_curve(y_val, y_predict, pos_label=None)\n",
    "print('auc :',auc(fpr, tpr))\n",
    "print('recall :', recall_score(y_val, y_predict))"
   ]
  },
  {
   "cell_type": "code",
   "execution_count": 0,
   "metadata": {
    "colab": {
     "base_uri": "https://localhost:8080/",
     "height": 416
    },
    "colab_type": "code",
    "id": "UX_ID63crRdk",
    "outputId": "f7e54f97-cff8-46d0-b57f-30d5872fe0b1"
   },
   "outputs": [
    {
     "name": "stdout",
     "output_type": "stream",
     "text": [
      "Fitting 10 folds for each of 24 candidates, totalling 240 fits\n"
     ]
    },
    {
     "name": "stderr",
     "output_type": "stream",
     "text": [
      "[Parallel(n_jobs=-1)]: Using backend LokyBackend with 2 concurrent workers.\n",
      "[Parallel(n_jobs=-1)]: Done  46 tasks      | elapsed:    5.5s\n",
      "[Parallel(n_jobs=-1)]: Done 196 tasks      | elapsed:   22.8s\n",
      "[Parallel(n_jobs=-1)]: Done 240 out of 240 | elapsed:   27.8s finished\n"
     ]
    },
    {
     "data": {
      "text/plain": [
       "GridSearchCV(cv=10, error_score=nan,\n",
       "             estimator=DecisionTreeClassifier(ccp_alpha=0.0, class_weight=None,\n",
       "                                              criterion='gini', max_depth=None,\n",
       "                                              max_features=None,\n",
       "                                              max_leaf_nodes=None,\n",
       "                                              min_impurity_decrease=0.0,\n",
       "                                              min_impurity_split=None,\n",
       "                                              min_samples_leaf=5,\n",
       "                                              min_samples_split=5,\n",
       "                                              min_weight_fraction_leaf=0.0,\n",
       "                                              presort='deprecated',\n",
       "                                              random_state=61,\n",
       "                                              splitter='best'),\n",
       "             iid='deprecated', n_jobs=-1,\n",
       "             param_grid={'criterion': ['gini', 'entropy'],\n",
       "                         'max_depth': [31, 30, 29, 28, 27, None],\n",
       "                         'max_features': [20, None]},\n",
       "             pre_dispatch='2*n_jobs', refit=True, return_train_score=False,\n",
       "             scoring='recall', verbose=1)"
      ]
     },
     "execution_count": 158,
     "metadata": {
      "tags": []
     },
     "output_type": "execute_result"
    }
   ],
   "source": [
    "params = dict(criterion = ['gini','entropy'],\n",
    "              max_features=[20,None],\n",
    "              max_depth=[31,30,29,28,27,None]  \n",
    "              )\n",
    "\n",
    "clf = DecisionTreeClassifier(min_samples_split=5,min_samples_leaf=5,\n",
    "              random_state=61)\n",
    "\n",
    "model = GridSearchCV(clf, param_grid= params,scoring='recall', n_jobs=-1, verbose= 1, cv = 10 ,return_train_score=False)\n",
    "model.fit(X_train,y_train)"
   ]
  },
  {
   "cell_type": "code",
   "execution_count": 0,
   "metadata": {
    "colab": {
     "base_uri": "https://localhost:8080/",
     "height": 33
    },
    "colab_type": "code",
    "id": "d9n9tioJrRds",
    "outputId": "0315beca-8c51-4f1f-fb29-30518dcedd86"
   },
   "outputs": [
    {
     "data": {
      "text/plain": [
       "0.3826917753332848"
      ]
     },
     "execution_count": 159,
     "metadata": {
      "tags": []
     },
     "output_type": "execute_result"
    }
   ],
   "source": [
    "model.best_score_"
   ]
  },
  {
   "cell_type": "code",
   "execution_count": 0,
   "metadata": {
    "colab": {
     "base_uri": "https://localhost:8080/",
     "height": 33
    },
    "colab_type": "code",
    "id": "-GHtgAzQrRdy",
    "outputId": "320f3aef-85f6-4d85-922f-f4fb480814d3"
   },
   "outputs": [
    {
     "data": {
      "text/plain": [
       "{'criterion': 'entropy', 'max_depth': 29, 'max_features': None}"
      ]
     },
     "execution_count": 160,
     "metadata": {
      "tags": []
     },
     "output_type": "execute_result"
    }
   ],
   "source": [
    "model.best_params_\n"
   ]
  },
  {
   "cell_type": "code",
   "execution_count": 0,
   "metadata": {
    "colab": {
     "base_uri": "https://localhost:8080/",
     "height": 100
    },
    "colab_type": "code",
    "id": "vPHkXSJirRd4",
    "outputId": "55094bd1-ec13-485c-de61-ec2b5af4e48f"
   },
   "outputs": [
    {
     "name": "stdout",
     "output_type": "stream",
     "text": [
      "[[9761  241]\n",
      " [ 571  389]]\n",
      "0.9259259259259259\n",
      "auc : 0.6905565761847631\n",
      "recall : 0.40520833333333334\n"
     ]
    }
   ],
   "source": [
    "model = DecisionTreeClassifier(ccp_alpha=0.0, class_weight=None, criterion='entropy',\n",
    "                       max_depth=29, max_features=None, max_leaf_nodes=None,\n",
    "                       min_impurity_decrease=0.0, min_impurity_split=None,\n",
    "                       min_samples_leaf=5, min_samples_split=5,\n",
    "                       min_weight_fraction_leaf=0.0, presort='deprecated',\n",
    "                       random_state=61, splitter='best')\n",
    "\n",
    "\n",
    "model.fit(X_train, y_train)\n",
    "\n",
    "y_predict = model.predict(X_val)\n",
    "print(confusion_matrix(y_val,y_predict)) \n",
    "print(accuracy_score(y_val,y_predict))\n",
    "    \n",
    "fpr, tpr, thresholds = roc_curve(y_val, y_predict, pos_label=None)\n",
    "print('auc :',auc(fpr, tpr))\n",
    "print('recall :', recall_score(y_val, y_predict))"
   ]
  },
  {
   "cell_type": "code",
   "execution_count": 0,
   "metadata": {
    "colab": {},
    "colab_type": "code",
    "id": "meL0xThNrWEl"
   },
   "outputs": [],
   "source": []
  },
  {
   "cell_type": "code",
   "execution_count": 0,
   "metadata": {
    "colab": {},
    "colab_type": "code",
    "id": "46oFPzDyrVuF"
   },
   "outputs": [],
   "source": []
  },
  {
   "cell_type": "markdown",
   "metadata": {
    "colab_type": "text",
    "id": "1N5tjJ9ArsIs"
   },
   "source": [
    "RandomForestClassifier"
   ]
  },
  {
   "cell_type": "code",
   "execution_count": 239,
   "metadata": {
    "colab": {
     "base_uri": "https://localhost:8080/",
     "height": 0
    },
    "colab_type": "code",
    "id": "p247MHFarsJF",
    "outputId": "78f8b83b-ab80-431d-aecd-726aaf75a5a2"
   },
   "outputs": [
    {
     "name": "stdout",
     "output_type": "stream",
     "text": [
      "[[9499  503]\n",
      " [ 498  462]]\n",
      "0.9086845466155811\n",
      "auc : 0.7154800289942012\n",
      "recall : 0.48125\n"
     ]
    }
   ],
   "source": [
    "clf(RandomForestClassifier)"
   ]
  },
  {
   "cell_type": "code",
   "execution_count": 240,
   "metadata": {
    "colab": {
     "base_uri": "https://localhost:8080/",
     "height": 0
    },
    "colab_type": "code",
    "id": "fjZmbQoersJR",
    "outputId": "df6f3ee7-8962-4204-96a0-6348d4f49470"
   },
   "outputs": [
    {
     "name": "stdout",
     "output_type": "stream",
     "text": [
      "[[9122  880]\n",
      " [ 411  549]]\n",
      "0.8822295201605547\n",
      "auc : 0.741946298240352\n",
      "recall : 0.571875\n"
     ]
    }
   ],
   "source": [
    "model =RandomForestClassifier(bootstrap=True, ccp_alpha=0.0, class_weight=None,\n",
    "                       criterion='entropy', max_depth=70, max_features='sqrt',\n",
    "                       max_leaf_nodes=None, max_samples=None,\n",
    "                       min_impurity_decrease=0.0, min_impurity_split=None,\n",
    "                       min_samples_leaf=2, min_samples_split=9,\n",
    "                       min_weight_fraction_leaf=0.0, n_estimators=70,\n",
    "                       n_jobs=None, oob_score=False, random_state=4253,\n",
    "                       verbose=0, warm_start=False)\n",
    "\n",
    "model.fit(X_train, y_train)\n",
    "\n",
    "y_predict = model.predict(X_val)\n",
    "print(confusion_matrix(y_val,y_predict)) \n",
    "print(accuracy_score(y_val,y_predict))\n",
    "    \n",
    "fpr, tpr, thresholds = roc_curve(y_val, y_predict, pos_label=None)\n",
    "print('auc :',auc(fpr, tpr))\n",
    "print('recall :', recall_score(y_val, y_predict))"
   ]
  },
  {
   "cell_type": "code",
   "execution_count": 0,
   "metadata": {
    "colab": {},
    "colab_type": "code",
    "id": "FxA9gIEhrsJU"
   },
   "outputs": [],
   "source": [
    "params = dict(criterion = ['entropy','gini'],\n",
    "              max_features=[20,25,None],\n",
    "              max_depth=[50,45,48,None],\n",
    "              bootstrap = [True],\n",
    "              n_estimators = [100,200]  \n",
    "              )\n",
    "\n",
    "clf = RandomForestClassifier(min_samples_split=5,min_samples_leaf=5,\n",
    "              random_state=61)\n",
    "\n",
    "model = GridSearchCV(clf, param_grid= params,scoring='recall', n_jobs=-1, verbose= 1, cv = 10 ,return_train_score=False)\n",
    "model.fit(X_train,y_train)"
   ]
  },
  {
   "cell_type": "code",
   "execution_count": 0,
   "metadata": {
    "colab": {
     "base_uri": "https://localhost:8080/",
     "height": 33
    },
    "colab_type": "code",
    "id": "XV9TkYG8rsJX",
    "outputId": "7d39b5de-8db4-4e58-cc0a-b057ba2deffa"
   },
   "outputs": [
    {
     "name": "stdout",
     "output_type": "stream",
     "text": [
      "0.33037590150797697 {'bootstrap': True, 'criterion': 'entropy', 'max_depth': 50, 'max_features': None, 'n_estimators': 200}\n"
     ]
    }
   ],
   "source": [
    "print(model.best_score_, model.best_params_)"
   ]
  },
  {
   "cell_type": "code",
   "execution_count": 0,
   "metadata": {
    "colab": {
     "base_uri": "https://localhost:8080/",
     "height": 100
    },
    "colab_type": "code",
    "id": "6_JZX6xcrsJb",
    "outputId": "1ca17077-e719-49e0-8bdc-5cc47286ae4f"
   },
   "outputs": [
    {
     "name": "stdout",
     "output_type": "stream",
     "text": [
      "[[9986   16]\n",
      " [ 641  319]]\n",
      "0.9400656814449918\n",
      "auc : 0.6653459933013397\n",
      "recall : 0.33229166666666665\n"
     ]
    }
   ],
   "source": [
    "model =RandomForestClassifier(bootstrap=True, ccp_alpha=0.0, class_weight=None,\n",
    "                       criterion='entropy', max_depth=50, max_features='sqrt',\n",
    "                       max_leaf_nodes=None, max_samples=None,\n",
    "                       min_impurity_decrease=0.0, min_impurity_split=None,\n",
    "                       min_samples_leaf=3, min_samples_split=9,\n",
    "                       min_weight_fraction_leaf=0.0, n_estimators=200,\n",
    "                       n_jobs=-1, oob_score=False, random_state=61,\n",
    "                       verbose=0, warm_start=False)\n",
    "\n",
    "model.fit(X_train, y_train)\n",
    "\n",
    "y_predict = model.predict(X_val)\n",
    "print(confusion_matrix(y_val,y_predict)) \n",
    "print(accuracy_score(y_val,y_predict))\n",
    "    \n",
    "fpr, tpr, thresholds = roc_curve(y_val, y_predict, pos_label=None)\n",
    "print('auc :',auc(fpr, tpr))\n",
    "print('recall :', recall_score(y_val, y_predict))"
   ]
  },
  {
   "cell_type": "markdown",
   "metadata": {
    "colab_type": "text",
    "id": "z4eVXukMrsJe"
   },
   "source": [
    "ExtraTreesClassifier"
   ]
  },
  {
   "cell_type": "code",
   "execution_count": 0,
   "metadata": {
    "colab": {
     "base_uri": "https://localhost:8080/",
     "height": 100
    },
    "colab_type": "code",
    "id": "a3KXDgNOrsJf",
    "outputId": "ae681b3d-124a-4d0e-9f43-15a9ea699a41"
   },
   "outputs": [
    {
     "name": "stdout",
     "output_type": "stream",
     "text": [
      "[[9760  242]\n",
      " [ 604  356]]\n",
      "0.922824302134647\n",
      "auc : 0.6733190861827635\n",
      "recall : 0.37083333333333335\n"
     ]
    }
   ],
   "source": [
    "clf(ExtraTreesClassifier)"
   ]
  },
  {
   "cell_type": "code",
   "execution_count": 0,
   "metadata": {
    "colab": {},
    "colab_type": "code",
    "id": "ZrrBk5WersJj"
   },
   "outputs": [],
   "source": [
    "model =ExtraTreesClassifier(n_estimators=100, criterion='gini', max_depth=None,\n",
    "                            min_samples_split=2, min_samples_leaf=1, min_weight_fraction_leaf=0.0,\n",
    "                            max_features='auto', max_leaf_nodes=None, min_impurity_decrease=0.0,\n",
    "                            min_impurity_split=None, bootstrap=False, oob_score=False, n_jobs=None,\n",
    "                            random_state=None, verbose=0, warm_start=False, class_weight=None, \n",
    "                            ccp_alpha=0.0, max_samples=None)\n",
    "\n",
    "model.fit(X_train, y_train)\n",
    "\n",
    "y_predict = model.predict(X_val)\n",
    "print(confusion_matrix(y_val,y_predict)) \n",
    "print(accuracy_score(y_val,y_predict))\n",
    "    \n",
    "fpr, tpr, thresholds = roc_curve(y_val, y_predict, pos_label=None)\n",
    "print('auc :',auc(fpr, tpr))\n",
    "print('recall :', recall_score(y_val, y_predict))"
   ]
  },
  {
   "cell_type": "code",
   "execution_count": 0,
   "metadata": {
    "colab": {},
    "colab_type": "code",
    "id": "N69pN8sDrsJm"
   },
   "outputs": [],
   "source": [
    "params = dict(criterion = ['gini','entropy'],\n",
    "              max_features=[20,None],\n",
    "              max_depth=[20,40,60,70,None],\n",
    "              bootstrap = [True, False],\n",
    "              n_estimators = [100,200]  \n",
    "              )\n",
    "\n",
    "clf = ExtraTreesClassifier(min_samples_split=5,min_samples_leaf=5,n_jobs = -1\n",
    "              random_state=61)\n",
    "\n",
    "model = GridSearchCV(clf, param_grid= params,scoring='recall', n_jobs=-1, verbose= 1, cv = 10 ,return_train_score=False)\n",
    "model.fit(X_train,y_train)"
   ]
  },
  {
   "cell_type": "code",
   "execution_count": 0,
   "metadata": {
    "colab": {},
    "colab_type": "code",
    "id": "ApUNDGZErsJo"
   },
   "outputs": [],
   "source": [
    "print(model.best_score_, model.best_params_)"
   ]
  },
  {
   "cell_type": "markdown",
   "metadata": {
    "colab_type": "text",
    "id": "vwQxjitOrsJq"
   },
   "source": [
    "XGBRFClassifier"
   ]
  },
  {
   "cell_type": "code",
   "execution_count": 241,
   "metadata": {
    "colab": {
     "base_uri": "https://localhost:8080/",
     "height": 0
    },
    "colab_type": "code",
    "id": "ZNwHz1anrsJr",
    "outputId": "bd40f8a7-a643-4658-b2ad-4b9ddb0b8628"
   },
   "outputs": [
    {
     "name": "stdout",
     "output_type": "stream",
     "text": [
      "[[6697 3305]\n",
      " [ 190  770]]\n",
      "0.6811713191023536\n",
      "auc : 0.7358247100579884\n",
      "recall : 0.8020833333333334\n"
     ]
    }
   ],
   "source": [
    "clf(XGBRFClassifier)"
   ]
  },
  {
   "cell_type": "code",
   "execution_count": 0,
   "metadata": {
    "colab": {},
    "colab_type": "code",
    "id": "mFpYdkHNrsJt"
   },
   "outputs": [],
   "source": [
    "# model =XGBRFClassifier(bootstrap=True, ccp_alpha=0.0, class_weight=None,\n",
    "#                        criterion='entropy', max_depth=70, max_features='sqrt',\n",
    "#                        max_leaf_nodes=None, max_samples=None,\n",
    "#                        min_impurity_decrease=0.0, min_impurity_split=None,\n",
    "#                        min_samples_leaf=2, min_samples_split=9,\n",
    "#                        min_weight_fraction_leaf=0.0, n_estimators=70,\n",
    "#                        n_jobs=None, oob_score=False, random_state=4253,\n",
    "#                        verbose=0, warm_start=False)\n",
    "\n",
    "# model.fit(X_train, y_train)\n",
    "\n",
    "# y_predict = model.predict(X_val)\n",
    "# print(confusion_matrix(y_val,y_predict)) \n",
    "# print(accuracy_score(y_val,y_predict))\n",
    "    \n",
    "# fpr, tpr, thresholds = roc_curve(y_val, y_predict, pos_label=None)\n",
    "# print('auc :',auc(fpr, tpr))\n",
    "# print('recall :', recall_score(y_val, y_predict))"
   ]
  },
  {
   "cell_type": "code",
   "execution_count": 0,
   "metadata": {
    "colab": {},
    "colab_type": "code",
    "id": "N6RMCPavrsJv"
   },
   "outputs": [],
   "source": [
    "# params = dict(criterion = ['gini','entropy'],\n",
    "#               max_features=[20,None],\n",
    "#               max_depth=[20,30,40,50,60,70,None],\n",
    "#               bootstrap = [True, False],\n",
    "#               n_estimators = [100,200]  \n",
    "#               )\n",
    "\n",
    "# clf = XGBRFClassifier(min_samples_split=5,min_samples_leaf=5,\n",
    "#               random_state=61)\n",
    "\n",
    "# model = GridSearchCV(clf, param_grid= params,scoring='recall', n_jobs=-1, verbose= 1, cv = 10 ,return_train_score=False)\n",
    "# model.fit(X_train,y_train)"
   ]
  },
  {
   "cell_type": "markdown",
   "metadata": {
    "colab_type": "text",
    "id": "veLJYTyIrsJx"
   },
   "source": [
    "XGBClassifier"
   ]
  },
  {
   "cell_type": "code",
   "execution_count": 242,
   "metadata": {
    "colab": {
     "base_uri": "https://localhost:8080/",
     "height": 0
    },
    "colab_type": "code",
    "id": "Lhj_EMJ5rsJy",
    "outputId": "b92110a5-d917-4144-9b20-afffbad67096"
   },
   "outputs": [
    {
     "name": "stdout",
     "output_type": "stream",
     "text": [
      "[[6840 3162]\n",
      " [  59  901]]\n",
      "0.7061667578908958\n",
      "auc : 0.8112024470105978\n",
      "recall : 0.9385416666666667\n"
     ]
    }
   ],
   "source": [
    "clf(XGBClassifier)"
   ]
  },
  {
   "cell_type": "code",
   "execution_count": 243,
   "metadata": {
    "colab": {
     "base_uri": "https://localhost:8080/",
     "height": 0
    },
    "colab_type": "code",
    "id": "AbfjVuZIrsJz",
    "outputId": "478f539e-d4e5-4b14-abcc-c4216d252ce9"
   },
   "outputs": [
    {
     "name": "stdout",
     "output_type": "stream",
     "text": [
      "[[9221  781]\n",
      " [ 418  542]]\n",
      "0.8906221492428389\n",
      "auc : 0.743249475104979\n",
      "recall : 0.5645833333333333\n"
     ]
    }
   ],
   "source": [
    "model =XGBClassifier(base_score=0.5, booster='gbtree', colsample_bylevel=1,\n",
    "              colsample_bynode=1, colsample_bytree=0.9, gamma=0,\n",
    "              learning_rate=0.16, max_delta_step=0, max_depth=90,\n",
    "              min_child_weight=2, missing=None, n_estimators=50, n_jobs=-1,\n",
    "              nthread=None, objective='binary:logistic', random_state=4253,\n",
    "              reg_alpha=0, reg_lambda=1, scale_pos_weight=1, seed=None,\n",
    "              silent=None, subsample=0.7, verbosity=0)\n",
    "\n",
    "model.fit(X_train, y_train)\n",
    "\n",
    "y_predict = model.predict(X_val)\n",
    "print(confusion_matrix(y_val,y_predict)) \n",
    "print(accuracy_score(y_val,y_predict))\n",
    "    \n",
    "fpr, tpr, thresholds = roc_curve(y_val, y_predict, pos_label=None)\n",
    "print('auc :',auc(fpr, tpr))\n",
    "print('recall :', recall_score(y_val, y_predict))"
   ]
  },
  {
   "cell_type": "code",
   "execution_count": 0,
   "metadata": {
    "colab": {
     "base_uri": "https://localhost:8080/",
     "height": 50
    },
    "colab_type": "code",
    "id": "VW1HXo1SrsJ1",
    "outputId": "7fdfdb6d-8cf0-408f-c027-888041fbcf21"
   },
   "outputs": [
    {
     "name": "stdout",
     "output_type": "stream",
     "text": [
      "Fitting 10 folds for each of 24 candidates, totalling 240 fits\n"
     ]
    },
    {
     "name": "stderr",
     "output_type": "stream",
     "text": [
      "[Parallel(n_jobs=-1)]: Using backend LokyBackend with 2 concurrent workers.\n"
     ]
    }
   ],
   "source": [
    "params = dict(booster = ['gbtree'],\n",
    "              max_depth=[70,80,90,None],\n",
    "              learning_rate = [0.1,1,0.5],\n",
    "              n_estimators = [100,200]  \n",
    "              )\n",
    "\n",
    "clf = XGBClassifier( objective='binary:logistic', colsample_bylevel=1,\n",
    "              colsample_bynode=1, colsample_bytree=0.9, gamma=0,\n",
    "              random_state=61,n_jobs = -1)\n",
    "\n",
    "model = GridSearchCV(clf, param_grid= params,scoring='recall', n_jobs=-1, verbose= 1, cv = 10 ,return_train_score=False)\n",
    "model.fit(X_train,y_train)"
   ]
  },
  {
   "cell_type": "code",
   "execution_count": 0,
   "metadata": {
    "colab": {},
    "colab_type": "code",
    "id": "om3-_Ia6rsJ3"
   },
   "outputs": [],
   "source": [
    "print(model.best_score_, model.best_params_)"
   ]
  },
  {
   "cell_type": "markdown",
   "metadata": {
    "colab_type": "text",
    "id": "8duaFSjHrsJ4"
   },
   "source": [
    "AdaBoostClassifier"
   ]
  },
  {
   "cell_type": "code",
   "execution_count": 244,
   "metadata": {
    "colab": {
     "base_uri": "https://localhost:8080/",
     "height": 0
    },
    "colab_type": "code",
    "id": "laNES2yrrsJ5",
    "outputId": "46ac4e90-ae84-430f-f38f-725879ba7aac"
   },
   "outputs": [
    {
     "name": "stdout",
     "output_type": "stream",
     "text": [
      "[[7497 2505]\n",
      " [ 196  764]]\n",
      "0.753603357051633\n",
      "auc : 0.7726917116576685\n",
      "recall : 0.7958333333333333\n"
     ]
    }
   ],
   "source": [
    "clf(AdaBoostClassifier)"
   ]
  },
  {
   "cell_type": "code",
   "execution_count": 245,
   "metadata": {
    "colab": {
     "base_uri": "https://localhost:8080/",
     "height": 0
    },
    "colab_type": "code",
    "id": "jnnx4oY6rsJ7",
    "outputId": "45221e58-89ad-4438-d38e-454330d09295"
   },
   "outputs": [
    {
     "name": "stdout",
     "output_type": "stream",
     "text": [
      "[[7536 2466]\n",
      " [ 174  786]]\n",
      "0.759168035030104\n",
      "auc : 0.7860996550689863\n",
      "recall : 0.81875\n"
     ]
    }
   ],
   "source": [
    "model =AdaBoostClassifier(algorithm='SAMME.R', base_estimator=None, learning_rate=1.75,\n",
    "                   n_estimators=200, random_state=61)\n",
    "\n",
    "model.fit(X_train, y_train)\n",
    "\n",
    "y_predict = model.predict(X_val)\n",
    "print(confusion_matrix(y_val,y_predict)) \n",
    "print(accuracy_score(y_val,y_predict))\n",
    "    \n",
    "fpr, tpr, thresholds = roc_curve(y_val, y_predict, pos_label=None)\n",
    "print('auc :',auc(fpr, tpr))\n",
    "print('recall :', recall_score(y_val, y_predict))"
   ]
  },
  {
   "cell_type": "code",
   "execution_count": 0,
   "metadata": {
    "colab": {},
    "colab_type": "code",
    "id": "aI3XDv2yrVrm"
   },
   "outputs": [],
   "source": []
  },
  {
   "cell_type": "code",
   "execution_count": 0,
   "metadata": {
    "colab": {},
    "colab_type": "code",
    "id": "CiHspOfPrVoC"
   },
   "outputs": [],
   "source": []
  },
  {
   "cell_type": "code",
   "execution_count": 0,
   "metadata": {
    "colab": {},
    "colab_type": "code",
    "id": "yVeqdXMbrVk_"
   },
   "outputs": [],
   "source": []
  },
  {
   "cell_type": "code",
   "execution_count": 0,
   "metadata": {
    "colab": {},
    "colab_type": "code",
    "id": "1pZuSSBDrVf5"
   },
   "outputs": [],
   "source": []
  },
  {
   "cell_type": "markdown",
   "metadata": {
    "colab_type": "text",
    "id": "Y2jvkyYYq8gJ"
   },
   "source": [
    "#####under_sampling"
   ]
  },
  {
   "cell_type": "code",
   "execution_count": 0,
   "metadata": {
    "colab": {},
    "colab_type": "code",
    "id": "veyF-1Cmq4-0"
   },
   "outputs": [],
   "source": []
  },
  {
   "cell_type": "code",
   "execution_count": 57,
   "metadata": {
    "colab": {},
    "colab_type": "code",
    "id": "YMJn0Pd7rTIe"
   },
   "outputs": [],
   "source": [
    "data_raw = pd.get_dummies(data_train ) ## add main"
   ]
  },
  {
   "cell_type": "code",
   "execution_count": 58,
   "metadata": {
    "colab": {},
    "colab_type": "code",
    "id": "KKJGd9g2rTIn"
   },
   "outputs": [],
   "source": [
    "from sklearn.model_selection import train_test_split,GridSearchCV,RandomizedSearchCV\n",
    "from sklearn.tree import DecisionTreeClassifier, ExtraTreeClassifier\n",
    "from sklearn.ensemble import RandomForestClassifier,ExtraTreesClassifier,AdaBoostClassifier\n",
    "from xgboost import XGBRFClassifier,XGBClassifier\n",
    "from sklearn.metrics import classification_report,confusion_matrix,accuracy_score,roc_curve,auc,recall_score,classification_report"
   ]
  },
  {
   "cell_type": "code",
   "execution_count": 128,
   "metadata": {
    "colab": {},
    "colab_type": "code",
    "id": "wy4BW5esrTIw"
   },
   "outputs": [],
   "source": [
    "X = data_raw.drop(columns=['is_promoted']) ## add main\n",
    "y = data_raw.is_promoted"
   ]
  },
  {
   "cell_type": "code",
   "execution_count": 129,
   "metadata": {
    "colab": {},
    "colab_type": "code",
    "id": "-6Fz3jbjrTI3"
   },
   "outputs": [],
   "source": [
    "X_train, X_val, y_train, y_val = train_test_split(X,y, random_state = 6, train_size = .8) ## add main"
   ]
  },
  {
   "cell_type": "code",
   "execution_count": 130,
   "metadata": {
    "colab": {},
    "colab_type": "code",
    "id": "7Wuu03uTv0b2"
   },
   "outputs": [],
   "source": [
    "X_train_us, y_train = under_sample(X_train,y_train)   ## add main\n",
    "X_train = np.round(X_train_us)"
   ]
  },
  {
   "cell_type": "code",
   "execution_count": 131,
   "metadata": {
    "colab": {
     "base_uri": "https://localhost:8080/",
     "height": 33
    },
    "colab_type": "code",
    "id": "dWG7d7r6fAvr",
    "outputId": "334a3b0a-bbc5-4a22-a22b-9bba0a1ddbb4"
   },
   "outputs": [
    {
     "data": {
      "text/plain": [
       "((7416, 26), (10962, 26))"
      ]
     },
     "execution_count": 131,
     "metadata": {},
     "output_type": "execute_result"
    }
   ],
   "source": [
    "X_train.shape, X_val.shape"
   ]
  },
  {
   "cell_type": "code",
   "execution_count": 132,
   "metadata": {
    "colab": {},
    "colab_type": "code",
    "id": "EEoBqGldrTI_"
   },
   "outputs": [],
   "source": [
    "def clf(model):\n",
    "    from sklearn.metrics import classification_report,confusion_matrix,accuracy_score,roc_curve,auc,recall_score,classification_report\n",
    "    \n",
    "    model = model()\n",
    "    model.fit(X_train, y_train)\n",
    "\n",
    "    y_predict = model.predict(X_val)\n",
    "    print(confusion_matrix(y_val,y_predict)) \n",
    "    print(accuracy_score(y_val,y_predict))\n",
    "    \n",
    "    fpr, tpr, thresholds = roc_curve(y_val, y_predict, pos_label=None)\n",
    "    print('auc :',auc(fpr, tpr))\n",
    "    print('recall :', recall_score(y_val, y_predict))\n",
    "    print(classification_report(y_val, y_predict))"
   ]
  },
  {
   "cell_type": "markdown",
   "metadata": {
    "colab_type": "text",
    "id": "Ph7bUI4KrTJG"
   },
   "source": [
    "DecisionTreeClassifier"
   ]
  },
  {
   "cell_type": "code",
   "execution_count": 133,
   "metadata": {
    "colab": {
     "base_uri": "https://localhost:8080/",
     "height": 250
    },
    "colab_type": "code",
    "id": "GlIByY2RrTJI",
    "outputId": "0244b261-8ba4-4657-bf5a-976dd57ab0c1"
   },
   "outputs": [
    {
     "name": "stdout",
     "output_type": "stream",
     "text": [
      "[[7648 2354]\n",
      " [ 221  739]]\n",
      "0.7650976099251962\n",
      "auc : 0.7672193686262747\n",
      "recall : 0.7697916666666667\n",
      "              precision    recall  f1-score   support\n",
      "\n",
      "           0       0.97      0.76      0.86     10002\n",
      "           1       0.24      0.77      0.36       960\n",
      "\n",
      "    accuracy                           0.77     10962\n",
      "   macro avg       0.61      0.77      0.61     10962\n",
      "weighted avg       0.91      0.77      0.81     10962\n",
      "\n"
     ]
    }
   ],
   "source": [
    "clf(DecisionTreeClassifier)"
   ]
  },
  {
   "cell_type": "code",
   "execution_count": 301,
   "metadata": {
    "colab": {
     "base_uri": "https://localhost:8080/",
     "height": 100
    },
    "colab_type": "code",
    "id": "_tpwVsHNrTJR",
    "outputId": "335c83e8-e1dd-49d6-9a78-8785c5a2dae2"
   },
   "outputs": [
    {
     "name": "stdout",
     "output_type": "stream",
     "text": [
      "[[7525 2477]\n",
      " [ 212  748]]\n",
      "0.7546980478014961\n",
      "auc : 0.7657580983803239\n",
      "recall : 0.7791666666666667\n"
     ]
    }
   ],
   "source": [
    "model = DecisionTreeClassifier(ccp_alpha=0.0, class_weight=None, criterion='gini',\n",
    "                       max_depth=None, max_features=10, max_leaf_nodes=None,\n",
    "                       min_impurity_decrease=0.0, min_impurity_split=None,\n",
    "                       min_samples_leaf=5, min_samples_split=5,\n",
    "                       min_weight_fraction_leaf=0.0, presort='deprecated',\n",
    "                       random_state=4253, splitter='best')\n",
    "\n",
    "\n",
    "model.fit(X_train, y_train)\n",
    "\n",
    "y_predict = model.predict(X_val)\n",
    "print(confusion_matrix(y_val,y_predict)) \n",
    "print(accuracy_score(y_val,y_predict))\n",
    "    \n",
    "fpr, tpr, thresholds = roc_curve(y_val, y_predict, pos_label=None)\n",
    "print('auc :',auc(fpr, tpr))\n",
    "print('recall :', recall_score(y_val, y_predict))"
   ]
  },
  {
   "cell_type": "code",
   "execution_count": 305,
   "metadata": {
    "colab": {
     "base_uri": "https://localhost:8080/",
     "height": 466
    },
    "colab_type": "code",
    "id": "grVa4guRrTJW",
    "outputId": "0ae73f15-103d-432f-d89a-61d060605508"
   },
   "outputs": [
    {
     "name": "stdout",
     "output_type": "stream",
     "text": [
      "Fitting 10 folds for each of 216 candidates, totalling 2160 fits\n"
     ]
    },
    {
     "name": "stderr",
     "output_type": "stream",
     "text": [
      "[Parallel(n_jobs=-1)]: Using backend LokyBackend with 2 concurrent workers.\n",
      "[Parallel(n_jobs=-1)]: Done 164 tasks      | elapsed:    3.4s\n",
      "[Parallel(n_jobs=-1)]: Done 764 tasks      | elapsed:   15.3s\n",
      "[Parallel(n_jobs=-1)]: Done 1764 tasks      | elapsed:   35.6s\n",
      "[Parallel(n_jobs=-1)]: Done 2160 out of 2160 | elapsed:   43.8s finished\n"
     ]
    },
    {
     "data": {
      "text/plain": [
       "GridSearchCV(cv=10, error_score=nan,\n",
       "             estimator=DecisionTreeClassifier(ccp_alpha=0.0, class_weight=None,\n",
       "                                              criterion='gini', max_depth=None,\n",
       "                                              max_features=None,\n",
       "                                              max_leaf_nodes=None,\n",
       "                                              min_impurity_decrease=0.0,\n",
       "                                              min_impurity_split=None,\n",
       "                                              min_samples_leaf=1,\n",
       "                                              min_samples_split=2,\n",
       "                                              min_weight_fraction_leaf=0.0,\n",
       "                                              presort='deprecated',\n",
       "                                              random_state=61,\n",
       "                                              splitter='best'),\n",
       "             iid='deprecated', n_jobs=-1,\n",
       "             param_grid={'criterion': ['gini', 'entropy'],\n",
       "                         'max_depth': [31, 30, 29, 28, 27, None],\n",
       "                         'max_features': [20, None],\n",
       "                         'min_samples_leaf': [5, 7, 10],\n",
       "                         'min_samples_split': [5, 7, 10]},\n",
       "             pre_dispatch='2*n_jobs', refit=True, return_train_score=False,\n",
       "             scoring='recall', verbose=1)"
      ]
     },
     "execution_count": 305,
     "metadata": {
      "tags": []
     },
     "output_type": "execute_result"
    }
   ],
   "source": [
    "params = dict(criterion = ['gini','entropy'],\n",
    "              max_features=[20,None],\n",
    "              max_depth=[31,30,29,28,27,None],\n",
    "              min_samples_split=[5,7,10],\n",
    "              min_samples_leaf=[5,7,10],\n",
    "              )\n",
    "\n",
    "clf = DecisionTreeClassifier(\n",
    "              random_state=61)\n",
    "\n",
    "model = GridSearchCV(clf, param_grid= params,scoring='recall', n_jobs=-1, verbose= 1, cv = 10 ,return_train_score=False)\n",
    "model.fit(X_train,y_train)"
   ]
  },
  {
   "cell_type": "code",
   "execution_count": 306,
   "metadata": {
    "colab": {
     "base_uri": "https://localhost:8080/",
     "height": 33
    },
    "colab_type": "code",
    "id": "sVXMMUZgrTJc",
    "outputId": "776b9521-8c08-40c8-957a-f10d03f7d495"
   },
   "outputs": [
    {
     "data": {
      "text/plain": [
       "0.7996044292270706"
      ]
     },
     "execution_count": 306,
     "metadata": {
      "tags": []
     },
     "output_type": "execute_result"
    }
   ],
   "source": [
    "model.best_score_"
   ]
  },
  {
   "cell_type": "code",
   "execution_count": 307,
   "metadata": {
    "colab": {
     "base_uri": "https://localhost:8080/",
     "height": 100
    },
    "colab_type": "code",
    "id": "bx_xqrbZrTJk",
    "outputId": "95bc2e39-6407-40ad-b46c-02f402bc1da2"
   },
   "outputs": [
    {
     "data": {
      "text/plain": [
       "{'criterion': 'gini',\n",
       " 'max_depth': 31,\n",
       " 'max_features': 20,\n",
       " 'min_samples_leaf': 10,\n",
       " 'min_samples_split': 5}"
      ]
     },
     "execution_count": 307,
     "metadata": {
      "tags": []
     },
     "output_type": "execute_result"
    }
   ],
   "source": [
    "model.best_params_\n"
   ]
  },
  {
   "cell_type": "code",
   "execution_count": 309,
   "metadata": {
    "colab": {
     "base_uri": "https://localhost:8080/",
     "height": 250
    },
    "colab_type": "code",
    "id": "xYd2-6barTJs",
    "outputId": "ca190bc5-11c3-4a39-9818-fedd9e4816c7"
   },
   "outputs": [
    {
     "name": "stdout",
     "output_type": "stream",
     "text": [
      "[[7579 2423]\n",
      " [ 198  762]]\n",
      "0.760901295384054\n",
      "auc : 0.775749225154969\n",
      "recall : 0.79375\n",
      "              precision    recall  f1-score   support\n",
      "\n",
      "           0       0.97      0.76      0.85     10002\n",
      "           1       0.24      0.79      0.37       960\n",
      "\n",
      "    accuracy                           0.76     10962\n",
      "   macro avg       0.61      0.78      0.61     10962\n",
      "weighted avg       0.91      0.76      0.81     10962\n",
      "\n"
     ]
    }
   ],
   "source": [
    "model = DecisionTreeClassifier(ccp_alpha=0.0, class_weight=None, criterion='gini',\n",
    "                       max_depth=31, max_features=20, max_leaf_nodes=None,\n",
    "                       min_impurity_decrease=0.0, min_impurity_split=None,\n",
    "                       min_samples_leaf=10, min_samples_split=5,\n",
    "                       min_weight_fraction_leaf=0.0, presort='deprecated',\n",
    "                       random_state=61, splitter='best')\n",
    "\n",
    "\n",
    "model.fit(X_train, y_train)\n",
    "\n",
    "y_predict = model.predict(X_val)\n",
    "print(confusion_matrix(y_val,y_predict)) \n",
    "print(accuracy_score(y_val,y_predict))\n",
    "    \n",
    "fpr, tpr, thresholds = roc_curve(y_val, y_predict, pos_label=None)\n",
    "print('auc :',auc(fpr, tpr))\n",
    "print('recall :', recall_score(y_val, y_predict))\n",
    "print(classification_report(y_val, y_predict))"
   ]
  },
  {
   "cell_type": "code",
   "execution_count": 0,
   "metadata": {
    "colab": {},
    "colab_type": "code",
    "id": "2_7Xrpc-rYk0"
   },
   "outputs": [],
   "source": []
  },
  {
   "cell_type": "code",
   "execution_count": 0,
   "metadata": {
    "colab": {},
    "colab_type": "code",
    "id": "cejp8--OrYhy"
   },
   "outputs": [],
   "source": []
  },
  {
   "cell_type": "code",
   "execution_count": 0,
   "metadata": {
    "colab": {},
    "colab_type": "code",
    "id": "3lNhJnZJrYfG"
   },
   "outputs": [],
   "source": []
  },
  {
   "cell_type": "code",
   "execution_count": 0,
   "metadata": {
    "colab": {},
    "colab_type": "code",
    "id": "qVxUsW_BrYb3"
   },
   "outputs": [],
   "source": []
  },
  {
   "cell_type": "markdown",
   "metadata": {
    "colab_type": "text",
    "id": "8yqIN9-Jrv42"
   },
   "source": [
    "RandomForestClassifier"
   ]
  },
  {
   "cell_type": "code",
   "execution_count": 134,
   "metadata": {
    "colab": {
     "base_uri": "https://localhost:8080/",
     "height": 250
    },
    "colab_type": "code",
    "id": "Lga2h4R9rv45",
    "outputId": "936c0bdf-a54d-4306-a44c-6fe29517cb93"
   },
   "outputs": [
    {
     "name": "stdout",
     "output_type": "stream",
     "text": [
      "[[7342 2660]\n",
      " [ 142  818]]\n",
      "0.7443897099069513\n",
      "auc : 0.7930682613477305\n",
      "recall : 0.8520833333333333\n",
      "              precision    recall  f1-score   support\n",
      "\n",
      "           0       0.98      0.73      0.84     10002\n",
      "           1       0.24      0.85      0.37       960\n",
      "\n",
      "    accuracy                           0.74     10962\n",
      "   macro avg       0.61      0.79      0.60     10962\n",
      "weighted avg       0.92      0.74      0.80     10962\n",
      "\n"
     ]
    }
   ],
   "source": [
    "clf(RandomForestClassifier)"
   ]
  },
  {
   "cell_type": "code",
   "execution_count": 316,
   "metadata": {
    "colab": {
     "base_uri": "https://localhost:8080/",
     "height": 100
    },
    "colab_type": "code",
    "id": "kanZ598irv5D",
    "outputId": "77292663-8bc3-4774-a7eb-985f09b512ae"
   },
   "outputs": [
    {
     "name": "stdout",
     "output_type": "stream",
     "text": [
      "[[7078 2924]\n",
      " [  97  863]]\n",
      "0.7244116037219486\n",
      "auc : 0.803308400819836\n",
      "recall : 0.8989583333333333\n"
     ]
    }
   ],
   "source": [
    "model =RandomForestClassifier(bootstrap=True, ccp_alpha=0.0, class_weight=None,\n",
    "                       criterion='entropy', max_depth=70, max_features='sqrt',\n",
    "                       max_leaf_nodes=None, max_samples=None,\n",
    "                       min_impurity_decrease=0.0, min_impurity_split=None,\n",
    "                       min_samples_leaf=2, min_samples_split=9,\n",
    "                       min_weight_fraction_leaf=0.0, n_estimators=70,\n",
    "                       n_jobs=None, oob_score=False, random_state=4253,\n",
    "                       verbose=0, warm_start=False)\n",
    "\n",
    "model.fit(X_train, y_train)\n",
    "\n",
    "y_predict = model.predict(X_val)\n",
    "print(confusion_matrix(y_val,y_predict)) \n",
    "print(accuracy_score(y_val,y_predict))\n",
    "    \n",
    "fpr, tpr, thresholds = roc_curve(y_val, y_predict, pos_label=None)\n",
    "print('auc :',auc(fpr, tpr))\n",
    "print('recall :', recall_score(y_val, y_predict))"
   ]
  },
  {
   "cell_type": "code",
   "execution_count": 320,
   "metadata": {
    "colab": {
     "base_uri": "https://localhost:8080/",
     "height": 483
    },
    "colab_type": "code",
    "id": "Yb9brcbxrv5L",
    "outputId": "34000125-b39f-4cb2-d932-22a888e92b84"
   },
   "outputs": [
    {
     "name": "stdout",
     "output_type": "stream",
     "text": [
      "Fitting 5 folds for each of 108 candidates, totalling 540 fits\n"
     ]
    },
    {
     "name": "stderr",
     "output_type": "stream",
     "text": [
      "[Parallel(n_jobs=-1)]: Using backend LokyBackend with 2 concurrent workers.\n",
      "[Parallel(n_jobs=-1)]: Done  46 tasks      | elapsed:   43.2s\n",
      "[Parallel(n_jobs=-1)]: Done 196 tasks      | elapsed:  3.2min\n",
      "[Parallel(n_jobs=-1)]: Done 446 tasks      | elapsed:  7.4min\n",
      "[Parallel(n_jobs=-1)]: Done 540 out of 540 | elapsed:  9.0min finished\n"
     ]
    },
    {
     "data": {
      "text/plain": [
       "GridSearchCV(cv=5, error_score=nan,\n",
       "             estimator=RandomForestClassifier(bootstrap=True, ccp_alpha=0.0,\n",
       "                                              class_weight=None,\n",
       "                                              criterion='gini', max_depth=None,\n",
       "                                              max_features='auto',\n",
       "                                              max_leaf_nodes=None,\n",
       "                                              max_samples=None,\n",
       "                                              min_impurity_decrease=0.0,\n",
       "                                              min_impurity_split=None,\n",
       "                                              min_samples_leaf=5,\n",
       "                                              min_samples_split=5,\n",
       "                                              min_weight_fraction_leaf=0.0,\n",
       "                                              n_estimators=100, n_jobs=-1,\n",
       "                                              oob_score=False, random_state=61,\n",
       "                                              verbose=0, warm_start=False),\n",
       "             iid='deprecated', n_jobs=-1,\n",
       "             param_grid={'max_depth': [50, 30, 70, None],\n",
       "                         'max_features': [20, 25, None],\n",
       "                         'min_samples_leaf': [5, 7, 10],\n",
       "                         'min_samples_split': [5, 7, 10]},\n",
       "             pre_dispatch='2*n_jobs', refit=True, return_train_score=False,\n",
       "             scoring='recall', verbose=1)"
      ]
     },
     "execution_count": 320,
     "metadata": {
      "tags": []
     },
     "output_type": "execute_result"
    }
   ],
   "source": [
    "params = dict(\n",
    "              max_features=[20,25,None],\n",
    "              max_depth=[50,30,70,None],\n",
    "              min_samples_leaf=[5,7,10], \n",
    "              min_samples_split=[5,7,10]   \n",
    "              )\n",
    "\n",
    "clf = RandomForestClassifier(min_samples_split=5,min_samples_leaf=5,n_jobs = -1,\n",
    "              random_state=61)\n",
    "\n",
    "model = GridSearchCV(clf, param_grid= params,scoring='recall', n_jobs=-1, verbose= 1, cv = 5 ,return_train_score=False)\n",
    "model.fit(X_train,y_train)"
   ]
  },
  {
   "cell_type": "code",
   "execution_count": 341,
   "metadata": {
    "colab": {
     "base_uri": "https://localhost:8080/",
     "height": 33
    },
    "colab_type": "code",
    "id": "SitFijzlrv5U",
    "outputId": "cbee6971-4976-4a02-d790-f6b04648d533"
   },
   "outputs": [
    {
     "name": "stdout",
     "output_type": "stream",
     "text": [
      "0.906692711459345 {'max_depth': 50, 'max_features': 20, 'min_samples_leaf': 10, 'min_samples_split': 5}\n"
     ]
    }
   ],
   "source": [
    "print(model.best_score_, model.best_params_)"
   ]
  },
  {
   "cell_type": "code",
   "execution_count": 344,
   "metadata": {
    "colab": {
     "base_uri": "https://localhost:8080/",
     "height": 250
    },
    "colab_type": "code",
    "id": "DFwSuk2lrv5b",
    "outputId": "e360e58c-9ef6-43bf-f842-773f94decf05",
    "scrolled": true
   },
   "outputs": [
    {
     "name": "stdout",
     "output_type": "stream",
     "text": [
      "[[6741 3261]\n",
      " [  69  891]]\n",
      "0.6962233169129721\n",
      "auc : 0.8010451034793042\n",
      "recall : 0.928125\n",
      "              precision    recall  f1-score   support\n",
      "\n",
      "           0       0.99      0.67      0.80     10002\n",
      "           1       0.21      0.93      0.35       960\n",
      "\n",
      "    accuracy                           0.70     10962\n",
      "   macro avg       0.60      0.80      0.58     10962\n",
      "weighted avg       0.92      0.70      0.76     10962\n",
      "\n"
     ]
    }
   ],
   "source": [
    "model =RandomForestClassifier(bootstrap=True, ccp_alpha=0.0, class_weight=None,\n",
    "                       criterion='entropy', max_depth=50, max_features='sqrt',\n",
    "                       max_leaf_nodes=None, max_samples=None,\n",
    "                       min_impurity_decrease=0.0, min_impurity_split=None,\n",
    "                       min_samples_leaf=10, min_samples_split=5,\n",
    "                       min_weight_fraction_leaf=0.0, n_estimators=200,\n",
    "                       n_jobs=-1, oob_score=False, random_state=61,\n",
    "                       verbose=0, warm_start=False)\n",
    "\n",
    "model.fit(X_train, y_train)\n",
    "\n",
    "y_predict = model.predict(X_val)\n",
    "print(confusion_matrix(y_val,y_predict)) \n",
    "print(accuracy_score(y_val,y_predict))\n",
    "    \n",
    "fpr, tpr, thresholds = roc_curve(y_val, y_predict, pos_label=None)\n",
    "print('auc :',auc(fpr, tpr))\n",
    "print('recall :', recall_score(y_val, y_predict))\n",
    "print(classification_report(y_val, y_predict))"
   ]
  },
  {
   "cell_type": "code",
   "execution_count": 65,
   "metadata": {},
   "outputs": [
    {
     "name": "stdout",
     "output_type": "stream",
     "text": [
      "[[7002 3000]\n",
      " [  80  880]]\n",
      "0.719029374201788\n",
      "auc : 0.8083633273345331\n",
      "recall : 0.9166666666666666\n",
      "              precision    recall  f1-score   support\n",
      "\n",
      "           0       0.99      0.70      0.82     10002\n",
      "           1       0.23      0.92      0.36       960\n",
      "\n",
      "    accuracy                           0.72     10962\n",
      "   macro avg       0.61      0.81      0.59     10962\n",
      "weighted avg       0.92      0.72      0.78     10962\n",
      "\n"
     ]
    }
   ],
   "source": [
    "model =RandomForestClassifier(bootstrap=True, ccp_alpha=0.0, class_weight=None,   ## add main\n",
    "                       criterion='gini', max_depth=50, max_features=20,\n",
    "                       max_leaf_nodes=None, max_samples=None,\n",
    "                       min_impurity_decrease=0.0, min_impurity_split=None,\n",
    "                       min_samples_leaf=10, min_samples_split=5,\n",
    "                       min_weight_fraction_leaf=0.0, n_estimators=200,\n",
    "                       n_jobs=-1, oob_score=False, random_state=61,\n",
    "                       verbose=0, warm_start=False)\n",
    "\n",
    "model.fit(X_train, y_train)\n",
    "\n",
    "y_predict = model.predict(X_val)\n",
    "print(confusion_matrix(y_val,y_predict)) \n",
    "print(accuracy_score(y_val,y_predict))\n",
    "    \n",
    "fpr, tpr, thresholds = roc_curve(y_val, y_predict, pos_label=None)\n",
    "print('auc :',auc(fpr, tpr))\n",
    "print('recall :', recall_score(y_val, y_predict))\n",
    "print(classification_report(y_val, y_predict))"
   ]
  },
  {
   "cell_type": "markdown",
   "metadata": {
    "colab_type": "text",
    "id": "PeJymy-urv5k"
   },
   "source": [
    "ExtraTreesClassifier"
   ]
  },
  {
   "cell_type": "code",
   "execution_count": 135,
   "metadata": {
    "colab": {
     "base_uri": "https://localhost:8080/",
     "height": 100
    },
    "colab_type": "code",
    "id": "2kdXhNaCrv5l",
    "outputId": "7669eb79-ccd7-4601-f335-5613a0f55e8d"
   },
   "outputs": [
    {
     "name": "stdout",
     "output_type": "stream",
     "text": [
      "[[7431 2571]\n",
      " [ 170  790]]\n",
      "0.7499543878854223\n",
      "auc : 0.7829340381923614\n",
      "recall : 0.8229166666666666\n",
      "              precision    recall  f1-score   support\n",
      "\n",
      "           0       0.98      0.74      0.84     10002\n",
      "           1       0.24      0.82      0.37       960\n",
      "\n",
      "    accuracy                           0.75     10962\n",
      "   macro avg       0.61      0.78      0.60     10962\n",
      "weighted avg       0.91      0.75      0.80     10962\n",
      "\n"
     ]
    }
   ],
   "source": [
    "clf(ExtraTreesClassifier)"
   ]
  },
  {
   "cell_type": "code",
   "execution_count": 67,
   "metadata": {
    "colab": {
     "base_uri": "https://localhost:8080/",
     "height": 100
    },
    "colab_type": "code",
    "id": "OrPXaMSarv5p",
    "outputId": "f98274ad-a355-412d-ef2f-8983cec29433"
   },
   "outputs": [
    {
     "name": "stdout",
     "output_type": "stream",
     "text": [
      "[[7429 2573]\n",
      " [ 165  795]]\n",
      "0.7502280605728882\n",
      "auc : 0.785438224855029\n",
      "recall : 0.828125\n"
     ]
    }
   ],
   "source": [
    "model =ExtraTreesClassifier(n_estimators=100, criterion='gini', max_depth=None,\n",
    "                            min_samples_split=2, min_samples_leaf=1, min_weight_fraction_leaf=0.0,\n",
    "                            max_features='auto', max_leaf_nodes=None, min_impurity_decrease=0.0,\n",
    "                            min_impurity_split=None, bootstrap=False, oob_score=False, n_jobs=None,\n",
    "                            random_state=None, verbose=0, warm_start=False, class_weight=None, \n",
    "                            ccp_alpha=0.0, max_samples=None)\n",
    "\n",
    "model.fit(X_train, y_train)\n",
    "\n",
    "y_predict = model.predict(X_val)\n",
    "print(confusion_matrix(y_val,y_predict)) \n",
    "print(accuracy_score(y_val,y_predict))\n",
    "    \n",
    "fpr, tpr, thresholds = roc_curve(y_val, y_predict, pos_label=None)\n",
    "print('auc :',auc(fpr, tpr))\n",
    "print('recall :', recall_score(y_val, y_predict))"
   ]
  },
  {
   "cell_type": "code",
   "execution_count": 70,
   "metadata": {
    "colab": {},
    "colab_type": "code",
    "id": "ehdY6ZvErv5s"
   },
   "outputs": [
    {
     "name": "stdout",
     "output_type": "stream",
     "text": [
      "Fitting 5 folds for each of 80 candidates, totalling 400 fits\n"
     ]
    },
    {
     "name": "stderr",
     "output_type": "stream",
     "text": [
      "[Parallel(n_jobs=-1)]: Using backend LokyBackend with 4 concurrent workers.\n",
      "[Parallel(n_jobs=-1)]: Done  42 tasks      | elapsed:   26.0s\n",
      "[Parallel(n_jobs=-1)]: Done 192 tasks      | elapsed:  2.1min\n",
      "[Parallel(n_jobs=-1)]: Done 400 out of 400 | elapsed:  4.9min finished\n"
     ]
    },
    {
     "data": {
      "text/plain": [
       "GridSearchCV(cv=5, error_score=nan,\n",
       "             estimator=ExtraTreesClassifier(bootstrap=False, ccp_alpha=0.0,\n",
       "                                            class_weight=None, criterion='gini',\n",
       "                                            max_depth=None, max_features='auto',\n",
       "                                            max_leaf_nodes=None,\n",
       "                                            max_samples=None,\n",
       "                                            min_impurity_decrease=0.0,\n",
       "                                            min_impurity_split=None,\n",
       "                                            min_samples_leaf=5,\n",
       "                                            min_samples_split=5,\n",
       "                                            min_weight_fraction_leaf=0.0,\n",
       "                                            n_estimators=100, n_jobs=-1,\n",
       "                                            oob_score=False, random_state=61,\n",
       "                                            verbose=0, warm_start=False),\n",
       "             iid='deprecated', n_jobs=-1,\n",
       "             param_grid={'bootstrap': [True, False],\n",
       "                         'criterion': ['gini', 'entropy'],\n",
       "                         'max_depth': [20, 40, 60, 70, None],\n",
       "                         'max_features': [20, None],\n",
       "                         'n_estimators': [100, 200]},\n",
       "             pre_dispatch='2*n_jobs', refit=True, return_train_score=False,\n",
       "             scoring='recall', verbose=1)"
      ]
     },
     "execution_count": 70,
     "metadata": {},
     "output_type": "execute_result"
    }
   ],
   "source": [
    "params = dict(criterion = ['gini','entropy'],\n",
    "              max_features=[20,None],\n",
    "              max_depth=[20,40,60,70,None],\n",
    "              bootstrap = [True, False],\n",
    "              n_estimators = [100,200]  \n",
    "              )\n",
    "\n",
    "clf = ExtraTreesClassifier(min_samples_split=5,min_samples_leaf=5,n_jobs = -1,\n",
    "              random_state=61)\n",
    "\n",
    "model = GridSearchCV(clf, param_grid= params,scoring='recall', n_jobs=-1, verbose= 1, cv = 5 ,return_train_score=False)\n",
    "model.fit(X_train,y_train)"
   ]
  },
  {
   "cell_type": "code",
   "execution_count": 71,
   "metadata": {
    "colab": {},
    "colab_type": "code",
    "id": "cgRuvFuMrv5v"
   },
   "outputs": [
    {
     "name": "stdout",
     "output_type": "stream",
     "text": [
      "0.9153242322060594 {'bootstrap': True, 'criterion': 'entropy', 'max_depth': 40, 'max_features': 20, 'n_estimators': 200}\n"
     ]
    }
   ],
   "source": [
    "print(model.best_score_, model.best_params_)"
   ]
  },
  {
   "cell_type": "code",
   "execution_count": 91,
   "metadata": {},
   "outputs": [
    {
     "name": "stdout",
     "output_type": "stream",
     "text": [
      "[[7077 2925]\n",
      " [  84  876]]\n",
      "0.7255062944718117\n",
      "auc : 0.8100292441511698\n",
      "recall : 0.9125\n",
      "              precision    recall  f1-score   support\n",
      "\n",
      "           0       0.99      0.71      0.82     10002\n",
      "           1       0.23      0.91      0.37       960\n",
      "\n",
      "    accuracy                           0.73     10962\n",
      "   macro avg       0.61      0.81      0.60     10962\n",
      "weighted avg       0.92      0.73      0.78     10962\n",
      "\n"
     ]
    }
   ],
   "source": [
    "model =ExtraTreesClassifier(n_estimators=200, criterion='gini', max_depth=40,\n",
    "                            min_samples_split=5, min_samples_leaf=5, min_weight_fraction_leaf=0.0,\n",
    "                            max_features=20, max_leaf_nodes=None, min_impurity_decrease=0.0,\n",
    "                            min_impurity_split=None, bootstrap=True, oob_score=False, n_jobs=-1,\n",
    "                            random_state=None, verbose=0, warm_start=False, class_weight=None, \n",
    "                            ccp_alpha=0.0, max_samples=None)\n",
    "\n",
    "model.fit(X_train, y_train)\n",
    "\n",
    "y_predict = model.predict(X_val)\n",
    "print(confusion_matrix(y_val,y_predict)) \n",
    "print(accuracy_score(y_val,y_predict))\n",
    "    \n",
    "fpr, tpr, thresholds = roc_curve(y_val, y_predict, pos_label=None)\n",
    "print('auc :',auc(fpr, tpr))\n",
    "print('recall :', recall_score(y_val, y_predict))\n",
    "print(classification_report(y_val, y_predict))"
   ]
  },
  {
   "cell_type": "code",
   "execution_count": 90,
   "metadata": {},
   "outputs": [
    {
     "name": "stdout",
     "output_type": "stream",
     "text": [
      "[[7153 2849]\n",
      " [ 102  858]]\n",
      "0.730797299762817\n",
      "auc : 0.8044534843031395\n",
      "recall : 0.89375\n",
      "              precision    recall  f1-score   support\n",
      "\n",
      "           0       0.99      0.72      0.83     10002\n",
      "           1       0.23      0.89      0.37       960\n",
      "\n",
      "    accuracy                           0.73     10962\n",
      "   macro avg       0.61      0.80      0.60     10962\n",
      "weighted avg       0.92      0.73      0.79     10962\n",
      "\n"
     ]
    }
   ],
   "source": [
    "model =ExtraTreesClassifier(n_estimators=200, criterion='gini', max_depth=40,\n",
    "                            min_samples_split=5, min_samples_leaf=5, min_weight_fraction_leaf=0.0,  ## add main\n",
    "                            max_features=20, max_leaf_nodes=None, min_impurity_decrease=0.0,\n",
    "                            min_impurity_split=None, bootstrap=False, oob_score=False, n_jobs=-1,\n",
    "                            random_state=None, verbose=0, warm_start=False, class_weight=None, \n",
    "                            ccp_alpha=0.0, max_samples=None)\n",
    "\n",
    "model.fit(X_train, y_train)\n",
    "\n",
    "y_predict = model.predict(X_val)\n",
    "print(confusion_matrix(y_val,y_predict)) \n",
    "print(accuracy_score(y_val,y_predict))\n",
    "    \n",
    "fpr, tpr, thresholds = roc_curve(y_val, y_predict, pos_label=None)\n",
    "print('auc :',auc(fpr, tpr))\n",
    "print('recall :', recall_score(y_val, y_predict))\n",
    "print(classification_report(y_val, y_predict))"
   ]
  },
  {
   "cell_type": "markdown",
   "metadata": {
    "colab_type": "text",
    "id": "R48zprcMrv5y"
   },
   "source": [
    "XGBRFClassifier"
   ]
  },
  {
   "cell_type": "code",
   "execution_count": 136,
   "metadata": {
    "colab": {
     "base_uri": "https://localhost:8080/",
     "height": 250
    },
    "colab_type": "code",
    "id": "-ekW5woDrv5z",
    "outputId": "c640fbba-ee18-4839-e98c-03183a3adbfc"
   },
   "outputs": [
    {
     "name": "stdout",
     "output_type": "stream",
     "text": [
      "[[6652 3350]\n",
      " [ 196  764]]\n",
      "0.6765188834154351\n",
      "auc : 0.7304501599680064\n",
      "recall : 0.7958333333333333\n",
      "              precision    recall  f1-score   support\n",
      "\n",
      "           0       0.97      0.67      0.79     10002\n",
      "           1       0.19      0.80      0.30       960\n",
      "\n",
      "    accuracy                           0.68     10962\n",
      "   macro avg       0.58      0.73      0.55     10962\n",
      "weighted avg       0.90      0.68      0.75     10962\n",
      "\n"
     ]
    }
   ],
   "source": [
    "clf(XGBRFClassifier)"
   ]
  },
  {
   "cell_type": "code",
   "execution_count": 0,
   "metadata": {
    "colab": {},
    "colab_type": "code",
    "id": "P-6EmlvSrv53"
   },
   "outputs": [],
   "source": [
    "# model =XGBRFClassifier(bootstrap=True, ccp_alpha=0.0, class_weight=None,\n",
    "#                        criterion='entropy', max_depth=70, max_features='sqrt',\n",
    "#                        max_leaf_nodes=None, max_samples=None,\n",
    "#                        min_impurity_decrease=0.0, min_impurity_split=None,\n",
    "#                        min_samples_leaf=2, min_samples_split=9,\n",
    "#                        min_weight_fraction_leaf=0.0, n_estimators=70,\n",
    "#                        n_jobs=None, oob_score=False, random_state=4253,\n",
    "#                        verbose=0, warm_start=False)\n",
    "\n",
    "# model.fit(X_train, y_train)\n",
    "\n",
    "# y_predict = model.predict(X_val)\n",
    "# print(confusion_matrix(y_val,y_predict)) \n",
    "# print(accuracy_score(y_val,y_predict))\n",
    "    \n",
    "# fpr, tpr, thresholds = roc_curve(y_val, y_predict, pos_label=None)\n",
    "# print('auc :',auc(fpr, tpr))\n",
    "# print('recall :', recall_score(y_val, y_predict))"
   ]
  },
  {
   "cell_type": "code",
   "execution_count": 0,
   "metadata": {
    "colab": {},
    "colab_type": "code",
    "id": "-cyHZWZorv55"
   },
   "outputs": [],
   "source": [
    "# params = dict(criterion = ['gini','entropy'],\n",
    "#               max_features=[20,None],\n",
    "#               max_depth=[20,30,40,50,60,70,None],\n",
    "#               bootstrap = [True, False],\n",
    "#               n_estimators = [100,200]  \n",
    "#               )\n",
    "\n",
    "# clf = XGBRFClassifier(min_samples_split=5,min_samples_leaf=5,\n",
    "#               random_state=61)\n",
    "\n",
    "# model = GridSearchCV(clf, param_grid= params,scoring='recall', n_jobs=-1, verbose= 1, cv = 10 ,return_train_score=False)\n",
    "# model.fit(X_train,y_train)"
   ]
  },
  {
   "cell_type": "markdown",
   "metadata": {
    "colab_type": "text",
    "id": "6X8ANsFxrv57"
   },
   "source": [
    "XGBClassifier"
   ]
  },
  {
   "cell_type": "code",
   "execution_count": 137,
   "metadata": {
    "colab": {
     "base_uri": "https://localhost:8080/",
     "height": 250
    },
    "colab_type": "code",
    "id": "5WjEDK8lrv57",
    "outputId": "a929de4a-96bc-4b7b-aae5-92ccdd6c8c47"
   },
   "outputs": [
    {
     "name": "stdout",
     "output_type": "stream",
     "text": [
      "[[6866 3136]\n",
      " [  61  899]]\n",
      "0.7083561393906221\n",
      "auc : 0.8114605203959209\n",
      "recall : 0.9364583333333333\n",
      "              precision    recall  f1-score   support\n",
      "\n",
      "           0       0.99      0.69      0.81     10002\n",
      "           1       0.22      0.94      0.36       960\n",
      "\n",
      "    accuracy                           0.71     10962\n",
      "   macro avg       0.61      0.81      0.59     10962\n",
      "weighted avg       0.92      0.71      0.77     10962\n",
      "\n"
     ]
    }
   ],
   "source": [
    "clf(XGBClassifier)"
   ]
  },
  {
   "cell_type": "code",
   "execution_count": 105,
   "metadata": {
    "colab": {
     "base_uri": "https://localhost:8080/",
     "height": 250
    },
    "colab_type": "code",
    "id": "VZtz63qOrv5-",
    "outputId": "f493251c-6bf0-4d84-b40d-379a3927b367"
   },
   "outputs": [
    {
     "name": "stdout",
     "output_type": "stream",
     "text": [
      "[[7561 2441]\n",
      " [ 211  749]]\n",
      "0.7580733442802409\n",
      "auc : 0.7680785717856429\n",
      "recall : 0.7802083333333333\n",
      "              precision    recall  f1-score   support\n",
      "\n",
      "           0       0.97      0.76      0.85     10002\n",
      "           1       0.23      0.78      0.36       960\n",
      "\n",
      "    accuracy                           0.76     10962\n",
      "   macro avg       0.60      0.77      0.61     10962\n",
      "weighted avg       0.91      0.76      0.81     10962\n",
      "\n"
     ]
    }
   ],
   "source": [
    "model =XGBClassifier(base_score=0.5, booster='gbtree', colsample_bylevel=1,\n",
    "              colsample_bynode=1, colsample_bytree=0.9, gamma=0.5,\n",
    "              learning_rate=.9, max_delta_step=0, max_depth=10,\n",
    "              min_child_weight=2, missing=None, n_estimators=100, n_jobs=-1,\n",
    "              nthread=None, objective='binary:logistic', random_state=61,\n",
    "              reg_alpha=0, reg_lambda=1, scale_pos_weight=1, seed=None,\n",
    "              silent=None, subsample=0.7, verbosity=0)\n",
    "\n",
    "model.fit(X_train, y_train)\n",
    "\n",
    "y_predict = model.predict(X_val)\n",
    "print(confusion_matrix(y_val,y_predict)) \n",
    "print(accuracy_score(y_val,y_predict))\n",
    "    \n",
    "fpr, tpr, thresholds = roc_curve(y_val, y_predict, pos_label=None)\n",
    "print('auc :',auc(fpr, tpr))\n",
    "print('recall :', recall_score(y_val, y_predict))\n",
    "print(classification_report(y_val, y_predict))"
   ]
  },
  {
   "cell_type": "code",
   "execution_count": 106,
   "metadata": {
    "colab": {
     "base_uri": "https://localhost:8080/",
     "height": 350
    },
    "colab_type": "code",
    "id": "k0d1-c6Hrv6A",
    "outputId": "7e360456-f778-44f4-bd16-fe3c47f36c27"
   },
   "outputs": [
    {
     "name": "stdout",
     "output_type": "stream",
     "text": [
      "Fitting 3 folds for each of 72 candidates, totalling 216 fits\n"
     ]
    },
    {
     "name": "stderr",
     "output_type": "stream",
     "text": [
      "[Parallel(n_jobs=-1)]: Using backend LokyBackend with 4 concurrent workers.\n",
      "[Parallel(n_jobs=-1)]: Done  42 tasks      | elapsed:   30.5s\n",
      "[Parallel(n_jobs=-1)]: Done 192 tasks      | elapsed:  3.6min\n",
      "[Parallel(n_jobs=-1)]: Done 216 out of 216 | elapsed:  4.2min finished\n"
     ]
    },
    {
     "data": {
      "text/plain": [
       "GridSearchCV(cv=3, error_score=nan,\n",
       "             estimator=XGBClassifier(base_score=0.5, booster='gbtree',\n",
       "                                     colsample_bylevel=1, colsample_bynode=1,\n",
       "                                     colsample_bytree=0.9, gamma=0,\n",
       "                                     learning_rate=0.1, max_delta_step=0,\n",
       "                                     max_depth=3, min_child_weight=1,\n",
       "                                     missing=None, n_estimators=100, n_jobs=-1,\n",
       "                                     nthread=None, objective='binary:logistic',\n",
       "                                     random_state=61, reg_alpha=0, reg_lambda=1,\n",
       "                                     scale_pos_weight=1, seed=None, silent=None,\n",
       "                                     subsample=1, verbosity=1),\n",
       "             iid='deprecated', n_jobs=-1,\n",
       "             param_grid={'base_score': [0.5, 0.3],\n",
       "                         'booster': ['gbtree', 'dart'],\n",
       "                         'learning_rate': [0.1, 1, 0.5],\n",
       "                         'max_depth': [5, 10, 15, 20, 40, None]},\n",
       "             pre_dispatch='2*n_jobs', refit=True, return_train_score=False,\n",
       "             scoring='recall', verbose=1)"
      ]
     },
     "execution_count": 106,
     "metadata": {},
     "output_type": "execute_result"
    }
   ],
   "source": [
    "params = dict(booster = ['gbtree','dart'],\n",
    "              max_depth=[5,10,15,20,40,None],\n",
    "              learning_rate = [0.1,1,0.5],\n",
    "              base_score = [0.5,0.3]\n",
    " \n",
    "              )\n",
    "\n",
    "clf = XGBClassifier( objective='binary:logistic', colsample_bylevel=1,\n",
    "              colsample_bynode=1, colsample_bytree=0.9, gamma=0,\n",
    "              random_state=61,n_jobs = -1)\n",
    "\n",
    "model = GridSearchCV(clf, param_grid= params,scoring='recall', n_jobs=-1, verbose= 1, cv = 3 ,return_train_score=False)\n",
    "model.fit(X_train,y_train)"
   ]
  },
  {
   "cell_type": "code",
   "execution_count": 107,
   "metadata": {
    "colab": {
     "base_uri": "https://localhost:8080/",
     "height": 162
    },
    "colab_type": "code",
    "id": "-cghaXjLrv6C",
    "outputId": "e7d84e96-e7e2-4707-9471-449f4b4f60de"
   },
   "outputs": [
    {
     "name": "stdout",
     "output_type": "stream",
     "text": [
      "0.9215210355987056 {'base_score': 0.3, 'booster': 'gbtree', 'learning_rate': 0.1, 'max_depth': 5}\n"
     ]
    }
   ],
   "source": [
    "print(model.best_score_, model.best_params_)"
   ]
  },
  {
   "cell_type": "code",
   "execution_count": 108,
   "metadata": {
    "colab": {},
    "colab_type": "code",
    "id": "N1lmlVTahKTP"
   },
   "outputs": [
    {
     "name": "stdout",
     "output_type": "stream",
     "text": [
      "[[7112 2890]\n",
      " [  74  886]]\n",
      "0.7296113847837986\n",
      "auc : 0.816987227554489\n",
      "recall : 0.9229166666666667\n",
      "              precision    recall  f1-score   support\n",
      "\n",
      "           0       0.99      0.71      0.83     10002\n",
      "           1       0.23      0.92      0.37       960\n",
      "\n",
      "    accuracy                           0.73     10962\n",
      "   macro avg       0.61      0.82      0.60     10962\n",
      "weighted avg       0.92      0.73      0.79     10962\n",
      "\n"
     ]
    }
   ],
   "source": [
    "model =XGBClassifier(base_score=0.3, booster='gbtree', colsample_bylevel=1,\n",
    "              colsample_bynode=1, colsample_bytree=0.9, gamma=0.5,                           ## add main\n",
    "              learning_rate=.1, max_delta_step=0, max_depth=5,\n",
    "              min_child_weight=2, missing=None, n_estimators=100, n_jobs=-1,\n",
    "              nthread=None, objective='binary:logistic', random_state=61,\n",
    "              reg_alpha=0, reg_lambda=1, scale_pos_weight=1, seed=None,\n",
    "              silent=None, subsample=0.7, verbosity=0)\n",
    "\n",
    "model.fit(X_train, y_train)\n",
    "\n",
    "y_predict = model.predict(X_val)\n",
    "print(confusion_matrix(y_val,y_predict)) \n",
    "print(accuracy_score(y_val,y_predict))\n",
    "    \n",
    "fpr, tpr, thresholds = roc_curve(y_val, y_predict, pos_label=None)\n",
    "print('auc :',auc(fpr, tpr))\n",
    "print('recall :', recall_score(y_val, y_predict))\n",
    "print(classification_report(y_val, y_predict))"
   ]
  },
  {
   "cell_type": "markdown",
   "metadata": {
    "colab_type": "text",
    "id": "3vyJpgGBrv6E"
   },
   "source": [
    "AdaBoostClassifier"
   ]
  },
  {
   "cell_type": "code",
   "execution_count": 138,
   "metadata": {
    "colab": {
     "base_uri": "https://localhost:8080/",
     "height": 100
    },
    "colab_type": "code",
    "id": "gpLMmN-Nrv6G",
    "outputId": "f2203cf1-f93c-4b26-84db-0cda92ad0dd9"
   },
   "outputs": [
    {
     "name": "stdout",
     "output_type": "stream",
     "text": [
      "[[7454 2548]\n",
      " [ 201  759]]\n",
      "0.7492245940521802\n",
      "auc : 0.7679379749050188\n",
      "recall : 0.790625\n",
      "              precision    recall  f1-score   support\n",
      "\n",
      "           0       0.97      0.75      0.84     10002\n",
      "           1       0.23      0.79      0.36       960\n",
      "\n",
      "    accuracy                           0.75     10962\n",
      "   macro avg       0.60      0.77      0.60     10962\n",
      "weighted avg       0.91      0.75      0.80     10962\n",
      "\n"
     ]
    }
   ],
   "source": [
    "clf(AdaBoostClassifier)"
   ]
  },
  {
   "cell_type": "code",
   "execution_count": 110,
   "metadata": {
    "colab": {
     "base_uri": "https://localhost:8080/",
     "height": 100
    },
    "colab_type": "code",
    "id": "JSwLkl8-rv6I",
    "outputId": "5fc4dba4-89e8-480b-cd14-77415d9a6fce"
   },
   "outputs": [
    {
     "name": "stdout",
     "output_type": "stream",
     "text": [
      "[[7597 2405]\n",
      " [ 184  776]]\n",
      "0.7638204707170224\n",
      "auc : 0.7839407118576285\n",
      "recall : 0.8083333333333333\n"
     ]
    }
   ],
   "source": [
    "model =AdaBoostClassifier(algorithm='SAMME.R', base_estimator=None, learning_rate=1.75,\n",
    "                   n_estimators=200, random_state=61)\n",
    "\n",
    "model.fit(X_train, y_train)\n",
    "\n",
    "y_predict = model.predict(X_val)\n",
    "print(confusion_matrix(y_val,y_predict)) \n",
    "print(accuracy_score(y_val,y_predict))\n",
    "    \n",
    "fpr, tpr, thresholds = roc_curve(y_val, y_predict, pos_label=None)\n",
    "print('auc :',auc(fpr, tpr))\n",
    "print('recall :', recall_score(y_val, y_predict))"
   ]
  },
  {
   "cell_type": "code",
   "execution_count": 0,
   "metadata": {
    "colab": {},
    "colab_type": "code",
    "id": "_6jeowCcrYYy"
   },
   "outputs": [],
   "source": []
  }
 ],
 "metadata": {
  "colab": {
   "collapsed_sections": [
    "5GF_jBMKeb99",
    "YPF08FY8Fvh6",
    "lSGFyopDK7kx",
    "2a2c3IzPF7Mi",
    "MDTYvsJ0g4Gx",
    "ge-sTcoaqwzU"
   ],
   "name": "HR_analysis_raw.ipynb",
   "provenance": []
  },
  "kernelspec": {
   "display_name": "Python 3",
   "language": "python",
   "name": "python3"
  },
  "language_info": {
   "codemirror_mode": {
    "name": "ipython",
    "version": 3
   },
   "file_extension": ".py",
   "mimetype": "text/x-python",
   "name": "python",
   "nbconvert_exporter": "python",
   "pygments_lexer": "ipython3",
   "version": "3.7.7"
  },
  "widgets": {
   "application/vnd.jupyter.widget-state+json": {
    "03450aceaf9e428ca32b17e17cf1d4dd": {
     "model_module": "@jupyter-widgets/controls",
     "model_name": "ProgressStyleModel",
     "state": {
      "_model_module": "@jupyter-widgets/controls",
      "_model_module_version": "1.5.0",
      "_model_name": "ProgressStyleModel",
      "_view_count": null,
      "_view_module": "@jupyter-widgets/base",
      "_view_module_version": "1.2.0",
      "_view_name": "StyleView",
      "bar_color": null,
      "description_width": ""
     }
    },
    "1dd93278685d4fcfa27fb53dc5741336": {
     "model_module": "@jupyter-widgets/controls",
     "model_name": "IntProgressModel",
     "state": {
      "_dom_classes": [],
      "_model_module": "@jupyter-widgets/controls",
      "_model_module_version": "1.5.0",
      "_model_name": "IntProgressModel",
      "_view_count": null,
      "_view_module": "@jupyter-widgets/controls",
      "_view_module_version": "1.5.0",
      "_view_name": "ProgressView",
      "bar_style": "",
      "description": "Processing: ",
      "description_tooltip": null,
      "layout": "IPY_MODEL_4d88f8df540847d8ac68e1f7c4540097",
      "max": 16,
      "min": 0,
      "orientation": "horizontal",
      "style": "IPY_MODEL_8a0e373e45ab47e0ad00381e4857fcac",
      "value": 16
     }
    },
    "264c9ed6a1a844a385b89c9991d6a0b2": {
     "model_module": "@jupyter-widgets/base",
     "model_name": "LayoutModel",
     "state": {
      "_model_module": "@jupyter-widgets/base",
      "_model_module_version": "1.2.0",
      "_model_name": "LayoutModel",
      "_view_count": null,
      "_view_module": "@jupyter-widgets/base",
      "_view_module_version": "1.2.0",
      "_view_name": "LayoutView",
      "align_content": null,
      "align_items": null,
      "align_self": null,
      "border": null,
      "bottom": null,
      "display": null,
      "flex": null,
      "flex_flow": null,
      "grid_area": null,
      "grid_auto_columns": null,
      "grid_auto_flow": null,
      "grid_auto_rows": null,
      "grid_column": null,
      "grid_gap": null,
      "grid_row": null,
      "grid_template_areas": null,
      "grid_template_columns": null,
      "grid_template_rows": null,
      "height": null,
      "justify_content": null,
      "justify_items": null,
      "left": null,
      "margin": null,
      "max_height": null,
      "max_width": null,
      "min_height": null,
      "min_width": null,
      "object_fit": null,
      "object_position": null,
      "order": null,
      "overflow": null,
      "overflow_x": null,
      "overflow_y": null,
      "padding": null,
      "right": null,
      "top": null,
      "visibility": null,
      "width": null
     }
    },
    "35ee96441ee148208235d763c65b6349": {
     "model_module": "@jupyter-widgets/base",
     "model_name": "LayoutModel",
     "state": {
      "_model_module": "@jupyter-widgets/base",
      "_model_module_version": "1.2.0",
      "_model_name": "LayoutModel",
      "_view_count": null,
      "_view_module": "@jupyter-widgets/base",
      "_view_module_version": "1.2.0",
      "_view_name": "LayoutView",
      "align_content": null,
      "align_items": null,
      "align_self": null,
      "border": null,
      "bottom": null,
      "display": null,
      "flex": null,
      "flex_flow": null,
      "grid_area": null,
      "grid_auto_columns": null,
      "grid_auto_flow": null,
      "grid_auto_rows": null,
      "grid_column": null,
      "grid_gap": null,
      "grid_row": null,
      "grid_template_areas": null,
      "grid_template_columns": null,
      "grid_template_rows": null,
      "height": null,
      "justify_content": null,
      "justify_items": null,
      "left": null,
      "margin": null,
      "max_height": null,
      "max_width": null,
      "min_height": null,
      "min_width": null,
      "object_fit": null,
      "object_position": null,
      "order": null,
      "overflow": null,
      "overflow_x": null,
      "overflow_y": null,
      "padding": null,
      "right": null,
      "top": null,
      "visibility": null,
      "width": null
     }
    },
    "3ad62348d31848b78c1eb93bdd223e9f": {
     "model_module": "@jupyter-widgets/controls",
     "model_name": "IntProgressModel",
     "state": {
      "_dom_classes": [],
      "_model_module": "@jupyter-widgets/controls",
      "_model_module_version": "1.5.0",
      "_model_name": "IntProgressModel",
      "_view_count": null,
      "_view_module": "@jupyter-widgets/controls",
      "_view_module_version": "1.5.0",
      "_view_name": "ProgressView",
      "bar_style": "",
      "description": "Processing: ",
      "description_tooltip": null,
      "layout": "IPY_MODEL_264c9ed6a1a844a385b89c9991d6a0b2",
      "max": 170,
      "min": 0,
      "orientation": "horizontal",
      "style": "IPY_MODEL_dd2dec57b9d4426d99cd90ced9794ae7",
      "value": 170
     }
    },
    "4d88f8df540847d8ac68e1f7c4540097": {
     "model_module": "@jupyter-widgets/base",
     "model_name": "LayoutModel",
     "state": {
      "_model_module": "@jupyter-widgets/base",
      "_model_module_version": "1.2.0",
      "_model_name": "LayoutModel",
      "_view_count": null,
      "_view_module": "@jupyter-widgets/base",
      "_view_module_version": "1.2.0",
      "_view_name": "LayoutView",
      "align_content": null,
      "align_items": null,
      "align_self": null,
      "border": null,
      "bottom": null,
      "display": null,
      "flex": null,
      "flex_flow": null,
      "grid_area": null,
      "grid_auto_columns": null,
      "grid_auto_flow": null,
      "grid_auto_rows": null,
      "grid_column": null,
      "grid_gap": null,
      "grid_row": null,
      "grid_template_areas": null,
      "grid_template_columns": null,
      "grid_template_rows": null,
      "height": null,
      "justify_content": null,
      "justify_items": null,
      "left": null,
      "margin": null,
      "max_height": null,
      "max_width": null,
      "min_height": null,
      "min_width": null,
      "object_fit": null,
      "object_position": null,
      "order": null,
      "overflow": null,
      "overflow_x": null,
      "overflow_y": null,
      "padding": null,
      "right": null,
      "top": null,
      "visibility": null,
      "width": null
     }
    },
    "633889ec81304dbcbc6553954f241130": {
     "model_module": "@jupyter-widgets/base",
     "model_name": "LayoutModel",
     "state": {
      "_model_module": "@jupyter-widgets/base",
      "_model_module_version": "1.2.0",
      "_model_name": "LayoutModel",
      "_view_count": null,
      "_view_module": "@jupyter-widgets/base",
      "_view_module_version": "1.2.0",
      "_view_name": "LayoutView",
      "align_content": null,
      "align_items": null,
      "align_self": null,
      "border": null,
      "bottom": null,
      "display": null,
      "flex": null,
      "flex_flow": null,
      "grid_area": null,
      "grid_auto_columns": null,
      "grid_auto_flow": null,
      "grid_auto_rows": null,
      "grid_column": null,
      "grid_gap": null,
      "grid_row": null,
      "grid_template_areas": null,
      "grid_template_columns": null,
      "grid_template_rows": null,
      "height": null,
      "justify_content": null,
      "justify_items": null,
      "left": null,
      "margin": null,
      "max_height": null,
      "max_width": null,
      "min_height": null,
      "min_width": null,
      "object_fit": null,
      "object_position": null,
      "order": null,
      "overflow": null,
      "overflow_x": null,
      "overflow_y": null,
      "padding": null,
      "right": null,
      "top": null,
      "visibility": null,
      "width": null
     }
    },
    "73cd6728cbb744658af2439a509f0b52": {
     "model_module": "@jupyter-widgets/controls",
     "model_name": "IntProgressModel",
     "state": {
      "_dom_classes": [],
      "_model_module": "@jupyter-widgets/controls",
      "_model_module_version": "1.5.0",
      "_model_name": "IntProgressModel",
      "_view_count": null,
      "_view_module": "@jupyter-widgets/controls",
      "_view_module_version": "1.5.0",
      "_view_name": "ProgressView",
      "bar_style": "",
      "description": "Processing: ",
      "description_tooltip": null,
      "layout": "IPY_MODEL_633889ec81304dbcbc6553954f241130",
      "max": 16,
      "min": 0,
      "orientation": "horizontal",
      "style": "IPY_MODEL_74c2f1e77b7546f18d1b4a5c6b557b67",
      "value": 16
     }
    },
    "74c2f1e77b7546f18d1b4a5c6b557b67": {
     "model_module": "@jupyter-widgets/controls",
     "model_name": "ProgressStyleModel",
     "state": {
      "_model_module": "@jupyter-widgets/controls",
      "_model_module_version": "1.5.0",
      "_model_name": "ProgressStyleModel",
      "_view_count": null,
      "_view_module": "@jupyter-widgets/base",
      "_view_module_version": "1.2.0",
      "_view_name": "StyleView",
      "bar_color": null,
      "description_width": ""
     }
    },
    "760b6340e1a244d587f719e822f40a5e": {
     "model_module": "@jupyter-widgets/controls",
     "model_name": "IntProgressModel",
     "state": {
      "_dom_classes": [],
      "_model_module": "@jupyter-widgets/controls",
      "_model_module_version": "1.5.0",
      "_model_name": "IntProgressModel",
      "_view_count": null,
      "_view_module": "@jupyter-widgets/controls",
      "_view_module_version": "1.5.0",
      "_view_name": "ProgressView",
      "bar_style": "",
      "description": "Processing: ",
      "description_tooltip": null,
      "layout": "IPY_MODEL_bd1b83afe97a474b92034907ae77c0fb",
      "max": 16,
      "min": 0,
      "orientation": "horizontal",
      "style": "IPY_MODEL_b6a17d6cd4234a76bd3651d34a2b507c",
      "value": 16
     }
    },
    "854d581ed856449f8aa3cedc11c6dba6": {
     "model_module": "@jupyter-widgets/controls",
     "model_name": "IntProgressModel",
     "state": {
      "_dom_classes": [],
      "_model_module": "@jupyter-widgets/controls",
      "_model_module_version": "1.5.0",
      "_model_name": "IntProgressModel",
      "_view_count": null,
      "_view_module": "@jupyter-widgets/controls",
      "_view_module_version": "1.5.0",
      "_view_name": "ProgressView",
      "bar_style": "",
      "description": "Processing: ",
      "description_tooltip": null,
      "layout": "IPY_MODEL_35ee96441ee148208235d763c65b6349",
      "max": 16,
      "min": 0,
      "orientation": "horizontal",
      "style": "IPY_MODEL_03450aceaf9e428ca32b17e17cf1d4dd",
      "value": 16
     }
    },
    "8a0e373e45ab47e0ad00381e4857fcac": {
     "model_module": "@jupyter-widgets/controls",
     "model_name": "ProgressStyleModel",
     "state": {
      "_model_module": "@jupyter-widgets/controls",
      "_model_module_version": "1.5.0",
      "_model_name": "ProgressStyleModel",
      "_view_count": null,
      "_view_module": "@jupyter-widgets/base",
      "_view_module_version": "1.2.0",
      "_view_name": "StyleView",
      "bar_color": null,
      "description_width": ""
     }
    },
    "b6a17d6cd4234a76bd3651d34a2b507c": {
     "model_module": "@jupyter-widgets/controls",
     "model_name": "ProgressStyleModel",
     "state": {
      "_model_module": "@jupyter-widgets/controls",
      "_model_module_version": "1.5.0",
      "_model_name": "ProgressStyleModel",
      "_view_count": null,
      "_view_module": "@jupyter-widgets/base",
      "_view_module_version": "1.2.0",
      "_view_name": "StyleView",
      "bar_color": null,
      "description_width": ""
     }
    },
    "bd1b83afe97a474b92034907ae77c0fb": {
     "model_module": "@jupyter-widgets/base",
     "model_name": "LayoutModel",
     "state": {
      "_model_module": "@jupyter-widgets/base",
      "_model_module_version": "1.2.0",
      "_model_name": "LayoutModel",
      "_view_count": null,
      "_view_module": "@jupyter-widgets/base",
      "_view_module_version": "1.2.0",
      "_view_name": "LayoutView",
      "align_content": null,
      "align_items": null,
      "align_self": null,
      "border": null,
      "bottom": null,
      "display": null,
      "flex": null,
      "flex_flow": null,
      "grid_area": null,
      "grid_auto_columns": null,
      "grid_auto_flow": null,
      "grid_auto_rows": null,
      "grid_column": null,
      "grid_gap": null,
      "grid_row": null,
      "grid_template_areas": null,
      "grid_template_columns": null,
      "grid_template_rows": null,
      "height": null,
      "justify_content": null,
      "justify_items": null,
      "left": null,
      "margin": null,
      "max_height": null,
      "max_width": null,
      "min_height": null,
      "min_width": null,
      "object_fit": null,
      "object_position": null,
      "order": null,
      "overflow": null,
      "overflow_x": null,
      "overflow_y": null,
      "padding": null,
      "right": null,
      "top": null,
      "visibility": null,
      "width": null
     }
    },
    "dd2dec57b9d4426d99cd90ced9794ae7": {
     "model_module": "@jupyter-widgets/controls",
     "model_name": "ProgressStyleModel",
     "state": {
      "_model_module": "@jupyter-widgets/controls",
      "_model_module_version": "1.5.0",
      "_model_name": "ProgressStyleModel",
      "_view_count": null,
      "_view_module": "@jupyter-widgets/base",
      "_view_module_version": "1.2.0",
      "_view_name": "StyleView",
      "bar_color": null,
      "description_width": ""
     }
    }
   }
  }
 },
 "nbformat": 4,
 "nbformat_minor": 1
}
