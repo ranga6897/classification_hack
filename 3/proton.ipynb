{
  "nbformat": 4,
  "nbformat_minor": 0,
  "metadata": {
    "kernelspec": {
      "display_name": "Python 3",
      "language": "python",
      "name": "python3"
    },
    "language_info": {
      "codemirror_mode": {
        "name": "ipython",
        "version": 3
      },
      "file_extension": ".py",
      "mimetype": "text/x-python",
      "name": "python",
      "nbconvert_exporter": "python",
      "pygments_lexer": "ipython3",
      "version": "3.7.7"
    },
    "colab": {
      "name": "Untitled.ipynb",
      "provenance": [],
      "collapsed_sections": [],
      "machine_shape": "hm"
    }
  },
  "cells": [
    {
      "cell_type": "code",
      "metadata": {
        "scrolled": false,
        "id": "TofBS1bzZ0g4",
        "colab_type": "code",
        "colab": {
          "base_uri": "https://localhost:8080/",
          "height": 200
        },
        "outputId": "f099b400-f3fe-4801-d8ac-43aab3443ab2"
      },
      "source": [
        "!wget https://datahack-prod.s3.amazonaws.com/test_file/test_Yix80N0.csv"
      ],
      "execution_count": 1,
      "outputs": [
        {
          "output_type": "stream",
          "text": [
            "--2020-05-01 18:08:51--  https://datahack-prod.s3.amazonaws.com/test_file/test_Yix80N0.csv\n",
            "Resolving datahack-prod.s3.amazonaws.com (datahack-prod.s3.amazonaws.com)... 52.219.64.48\n",
            "Connecting to datahack-prod.s3.amazonaws.com (datahack-prod.s3.amazonaws.com)|52.219.64.48|:443... connected.\n",
            "HTTP request sent, awaiting response... 200 OK\n",
            "Length: 465312 (454K) [text/csv]\n",
            "Saving to: ‘test_Yix80N0.csv’\n",
            "\n",
            "test_Yix80N0.csv    100%[===================>] 454.41K   487KB/s    in 0.9s    \n",
            "\n",
            "2020-05-01 18:08:53 (487 KB/s) - ‘test_Yix80N0.csv’ saved [465312/465312]\n",
            "\n"
          ],
          "name": "stdout"
        }
      ]
    },
    {
      "cell_type": "code",
      "metadata": {
        "id": "FyuHG6r9Z0g8",
        "colab_type": "code",
        "colab": {
          "base_uri": "https://localhost:8080/",
          "height": 200
        },
        "outputId": "901a1871-f4b3-4c80-b932-28996bb00090"
      },
      "source": [
        "!wget https://datahack-prod.s3.amazonaws.com/train_file/train_8wry4cB.csv"
      ],
      "execution_count": 2,
      "outputs": [
        {
          "output_type": "stream",
          "text": [
            "--2020-05-01 18:08:55--  https://datahack-prod.s3.amazonaws.com/train_file/train_8wry4cB.csv\n",
            "Resolving datahack-prod.s3.amazonaws.com (datahack-prod.s3.amazonaws.com)... 52.219.64.24\n",
            "Connecting to datahack-prod.s3.amazonaws.com (datahack-prod.s3.amazonaws.com)|52.219.64.24|:443... connected.\n",
            "HTTP request sent, awaiting response... 200 OK\n",
            "Length: 1138290 (1.1M) [text/csv]\n",
            "Saving to: ‘train_8wry4cB.csv’\n",
            "\n",
            "train_8wry4cB.csv   100%[===================>]   1.08M   794KB/s    in 1.4s    \n",
            "\n",
            "2020-05-01 18:08:58 (794 KB/s) - ‘train_8wry4cB.csv’ saved [1138290/1138290]\n",
            "\n"
          ],
          "name": "stdout"
        }
      ]
    },
    {
      "cell_type": "code",
      "metadata": {
        "id": "dTIND25lZ0hB",
        "colab_type": "code",
        "colab": {}
      },
      "source": [
        "# !pip install wget\n",
        "import wget"
      ],
      "execution_count": 0,
      "outputs": []
    },
    {
      "cell_type": "code",
      "metadata": {
        "id": "q-dd4fUQZ0hE",
        "colab_type": "code",
        "colab": {}
      },
      "source": [
        "wget.download('https://datahack-prod.s3.amazonaws.com/test_file/test_Yix80N0.csv')\n",
        "wget.download('https://datahack-prod.s3.amazonaws.com/train_file/train_8wry4cB.csv')"
      ],
      "execution_count": 0,
      "outputs": []
    },
    {
      "cell_type": "code",
      "metadata": {
        "id": "QCJhysshZ0hK",
        "colab_type": "code",
        "colab": {}
      },
      "source": [
        "import warnings\n",
        "warnings.filterwarnings('ignore')\n",
        "\n",
        "import numpy as np\n",
        "import pandas as pd\n",
        "import matplotlib.pyplot as plt\n",
        "plt.style.use('ggplot')\n",
        "\n",
        "import seaborn as sns"
      ],
      "execution_count": 0,
      "outputs": []
    },
    {
      "cell_type": "code",
      "metadata": {
        "id": "y9GIFvv5Z0hO",
        "colab_type": "code",
        "colab": {}
      },
      "source": [
        "data_train = pd.read_csv('train_8wry4cB.csv')\n",
        "data_test = pd.read_csv('test_Yix80N0.csv')"
      ],
      "execution_count": 0,
      "outputs": []
    },
    {
      "cell_type": "code",
      "metadata": {
        "id": "lSRQ40pBZ0hT",
        "colab_type": "code",
        "colab": {}
      },
      "source": [
        "train_bk = data_train.copy(deep = True)\n",
        "test_bk = data_test.copy(deep = True)"
      ],
      "execution_count": 0,
      "outputs": []
    },
    {
      "cell_type": "code",
      "metadata": {
        "id": "N6erymq_Z0ho",
        "colab_type": "code",
        "colab": {}
      },
      "source": [
        "def clean(data):\n",
        "    \n",
        "    data.startTime = pd.to_datetime(data.startTime)\n",
        "    data['week'] = data.startTime.dt.weekofyear\n",
        "    data.drop(columns=['endTime','startTime','ProductList','session_id'],inplace = True)\n",
        "    \n",
        "    if 'gender' in data.columns:\n",
        "        data.gender.replace({'female':1, 'male':0},inplace= True)\n",
        "    \n",
        "    return data"
      ],
      "execution_count": 0,
      "outputs": []
    },
    {
      "cell_type": "code",
      "metadata": {
        "id": "PkfXCRNFZ0hr",
        "colab_type": "code",
        "colab": {}
      },
      "source": [
        "def create_item_list(dataset, train = True, col = None):\n",
        "    items_array = pd.Series()\n",
        "    import re\n",
        "    \n",
        "    if train:\n",
        "        for list_ in dataset['ProductList']:\n",
        "            s = re.split(r'[^\\w]',list_)\n",
        "            items_ = np.array(s)\n",
        "            items_ = items_.ravel()\n",
        "            items_array = np.append(items_array,items_)\n",
        "\n",
        "        items_list = np.unique(items_array)\n",
        "\n",
        "        df = pd.DataFrame(columns=items_list[1:], index = dataset.index, data = 0)\n",
        "    else:\n",
        "        items_list = col\n",
        "        df = pd.DataFrame(columns=items_list[1:], index = dataset.index, data = 0)\n",
        "        \n",
        "        \n",
        "        \n",
        "    for index, list_ in enumerate(dataset['ProductList']):\n",
        "        s = re.split(r'[^\\w]',list_)\n",
        "        items_ = np.array(s)\n",
        "        items_ = items_.ravel()\n",
        "        for item in items_:\n",
        "            if item in df.columns:\n",
        "                if item != '':\n",
        "                    df[item][index] += 1\n",
        "    \n",
        "    dataset_ = clean(dataset)\n",
        "    data = pd.concat([df,dataset_] ,axis =1)\n",
        "    \n",
        "    return data,items_list"
      ],
      "execution_count": 0,
      "outputs": []
    },
    {
      "cell_type": "code",
      "metadata": {
        "scrolled": true,
        "id": "JhzHMiY2Z0hu",
        "colab_type": "code",
        "colab": {
          "base_uri": "https://localhost:8080/",
          "height": 50
        },
        "outputId": "be5472e7-b96a-42e2-8455-c69ce66eb7f2"
      },
      "source": [
        "df_train,items = create_item_list(train_bk)\n",
        "df_test,_ = create_item_list(test_bk , train = False ,col=items)"
      ],
      "execution_count": 7,
      "outputs": [
        {
          "output_type": "stream",
          "text": [
            "CPU times: user 45.1 s, sys: 2.22 s, total: 47.3 s\n",
            "Wall time: 47.3 s\n"
          ],
          "name": "stdout"
        }
      ]
    },
    {
      "cell_type": "code",
      "metadata": {
        "id": "jOWorFy-Z0h6",
        "colab_type": "code",
        "colab": {
          "base_uri": "https://localhost:8080/",
          "height": 250
        },
        "outputId": "803f9ff0-658a-496e-b5ce-da2322f3d29d"
      },
      "source": [
        "from sklearn.model_selection import train_test_split\n",
        "from sklearn.linear_model import LogisticRegression\n",
        "from sklearn.tree import DecisionTreeClassifier\n",
        "from sklearn.ensemble import RandomForestClassifier,ExtraTreesClassifier\n",
        "from sklearn.metrics import accuracy_score,confusion_matrix\n",
        "!pip install catboost\n",
        "from catboost import CatBoostClassifier\n"
      ],
      "execution_count": 8,
      "outputs": [
        {
          "output_type": "stream",
          "text": [
            "Requirement already satisfied: catboost in /usr/local/lib/python3.6/dist-packages (0.23)\n",
            "Requirement already satisfied: pandas>=0.24.0 in /usr/local/lib/python3.6/dist-packages (from catboost) (1.0.3)\n",
            "Requirement already satisfied: plotly in /usr/local/lib/python3.6/dist-packages (from catboost) (4.4.1)\n",
            "Requirement already satisfied: six in /usr/local/lib/python3.6/dist-packages (from catboost) (1.12.0)\n",
            "Requirement already satisfied: graphviz in /usr/local/lib/python3.6/dist-packages (from catboost) (0.10.1)\n",
            "Requirement already satisfied: scipy in /usr/local/lib/python3.6/dist-packages (from catboost) (1.4.1)\n",
            "Requirement already satisfied: numpy>=1.16.0 in /usr/local/lib/python3.6/dist-packages (from catboost) (1.18.3)\n",
            "Requirement already satisfied: matplotlib in /usr/local/lib/python3.6/dist-packages (from catboost) (3.2.1)\n",
            "Requirement already satisfied: pytz>=2017.2 in /usr/local/lib/python3.6/dist-packages (from pandas>=0.24.0->catboost) (2018.9)\n",
            "Requirement already satisfied: python-dateutil>=2.6.1 in /usr/local/lib/python3.6/dist-packages (from pandas>=0.24.0->catboost) (2.8.1)\n",
            "Requirement already satisfied: retrying>=1.3.3 in /usr/local/lib/python3.6/dist-packages (from plotly->catboost) (1.3.3)\n",
            "Requirement already satisfied: pyparsing!=2.0.4,!=2.1.2,!=2.1.6,>=2.0.1 in /usr/local/lib/python3.6/dist-packages (from matplotlib->catboost) (2.4.7)\n",
            "Requirement already satisfied: cycler>=0.10 in /usr/local/lib/python3.6/dist-packages (from matplotlib->catboost) (0.10.0)\n",
            "Requirement already satisfied: kiwisolver>=1.0.1 in /usr/local/lib/python3.6/dist-packages (from matplotlib->catboost) (1.2.0)\n"
          ],
          "name": "stdout"
        }
      ]
    },
    {
      "cell_type": "code",
      "metadata": {
        "id": "7xmz2x9XZ0h8",
        "colab_type": "code",
        "colab": {}
      },
      "source": [
        "X = df_train.drop(columns='gender').values\n",
        "y = df_train.values"
      ],
      "execution_count": 0,
      "outputs": []
    },
    {
      "cell_type": "code",
      "metadata": {
        "id": "h8MUS-RdaKn7",
        "colab_type": "code",
        "colab": {}
      },
      "source": [
        ""
      ],
      "execution_count": 0,
      "outputs": []
    },
    {
      "cell_type": "markdown",
      "metadata": {
        "id": "d2Sx3in-aLg-",
        "colab_type": "text"
      },
      "source": [
        "##Base models"
      ]
    },
    {
      "cell_type": "code",
      "metadata": {
        "id": "SqEpbI9bZ0h_",
        "colab_type": "code",
        "colab": {}
      },
      "source": [
        "X_train,X_val,y_train,y_val = train_test_split(X, y, random_state = 6)"
      ],
      "execution_count": 0,
      "outputs": []
    },
    {
      "cell_type": "code",
      "metadata": {
        "id": "6Zq0XZzZZ0iB",
        "colab_type": "code",
        "colab": {}
      },
      "source": [
        "%%time\n",
        "clf = LogisticRegression()\n",
        "\n",
        "clf.fit(X_train,y_train)\n",
        "\n",
        "y_predict = clf.predict(X_val)\n",
        "print(clf.score(X_train,y_train))\n",
        "print(confusion_matrix(y_val,y_predict))\n",
        "print('accuracy_score :' ,accuracy_score(y_val,y_predict))"
      ],
      "execution_count": 0,
      "outputs": []
    },
    {
      "cell_type": "code",
      "metadata": {
        "id": "J1SvR4KWZ0iF",
        "colab_type": "code",
        "colab": {}
      },
      "source": [
        "%%time\n",
        "clf = ExtraTreesClassifier()\n",
        "\n",
        "clf.fit(X_train,y_train)\n",
        "\n",
        "y_predict = clf.predict(X_val)\n",
        "print(clf.score(X_train,y_train))\n",
        "print(confusion_matrix(y_val,y_predict))\n",
        "print('accuracy_score :' ,accuracy_score(y_val,y_predict))"
      ],
      "execution_count": 0,
      "outputs": []
    },
    {
      "cell_type": "code",
      "metadata": {
        "id": "doYE3SXaZ0iI",
        "colab_type": "code",
        "colab": {}
      },
      "source": [
        "%%time\n",
        "clf = RandomForestClassifier()\n",
        "\n",
        "clf.fit(X_train,y_train)\n",
        "\n",
        "y_predict = clf.predict(X_val)\n",
        "print(clf.score(X_train,y_train))\n",
        "print(confusion_matrix(y_val,y_predict))\n",
        "print('accuracy_score :' ,accuracy_score(y_val,y_predict))"
      ],
      "execution_count": 0,
      "outputs": []
    },
    {
      "cell_type": "code",
      "metadata": {
        "id": "xKBCNQgpZ0iL",
        "colab_type": "code",
        "colab": {}
      },
      "source": [
        "%%time\n",
        "clf = DecisionTreeClassifier()\n",
        "\n",
        "clf.fit(X_train,y_train)\n",
        "\n",
        "y_predict = clf.predict(X_val)\n",
        "print(clf.score(X_train,y_train))\n",
        "print(confusion_matrix(y_val,y_predict))\n",
        "print('accuracy_score :' ,accuracy_score(y_val,y_predict))"
      ],
      "execution_count": 0,
      "outputs": []
    },
    {
      "cell_type": "code",
      "metadata": {
        "id": "Lo0qOkCfZ0iN",
        "colab_type": "code",
        "colab": {}
      },
      "source": [
        "# from catboost import CatBoostClassifier\n",
        "cat = CatBoostClassifier(loss_function='Logloss', \n",
        "                         eval_metric='Accuracy', \n",
        "                         depth=10,\n",
        "                         random_seed=42, \n",
        "                         iterations=100, \n",
        "                         learning_rate=0.01,\n",
        "                         leaf_estimation_iterations=1,\n",
        "                         l2_leaf_reg=1,\n",
        "                         bootstrap_type='Bayesian', \n",
        "                         bagging_temperature=1, \n",
        "                         random_strength=1,\n",
        "                         od_type='Iter', \n",
        "                         od_wait=None)\n",
        "cat.fit(X_train, y_train, verbose=10,\n",
        "        use_best_model=True,\n",
        "        eval_set=[(X_train, y_train),(X_val, y_val)],\n",
        "        plot=False)\n",
        "\n",
        "y_predict = cat.predict(X_val)\n",
        "print(confusion_matrix(y_val,y_predict))\n",
        "print('accuracy_score :' ,accuracy_score(y_val,y_predict))"
      ],
      "execution_count": 0,
      "outputs": []
    },
    {
      "cell_type": "code",
      "metadata": {
        "id": "EzkeqUK9Z0iP",
        "colab_type": "code",
        "colab": {}
      },
      "source": [
        ""
      ],
      "execution_count": 0,
      "outputs": []
    },
    {
      "cell_type": "code",
      "metadata": {
        "id": "AIo1mahNZ0iS",
        "colab_type": "code",
        "colab": {}
      },
      "source": [
        "def build_model():\n",
        "  model = keras.Sequential([\n",
        "    layers.Dense(16960, activation='tanh', input_shape=(16960,)),\n",
        "    # layers.Dense(1, activation='relu'),\n",
        "    # layers.Dense(20, activation= 'relu'),\n",
        "    # layers.Dense(20, activation = 'relu'),\n",
        "    # layers.Dense(10, activation = 'relu'),\n",
        "    # layers.Dense(10, activation = 'tanh'),\n",
        "    layers.Dense(1)\n",
        "  ])\n",
        "\n",
        "  optimizer = tf.keras.optimizers.SGD(learning_rate=0.01, momentum=0.0, nesterov=True)\n",
        "  optimizer_adam = tf.keras.optimizers.Adam(learning_rate=0.001, beta_1=0.9, beta_2=0.999, amsgrad=True)\n",
        "  optimizer_adamax = tf.keras.optimizers.Adamax(learning_rate=0.001, beta_1=0.9, beta_2=0.999)\n",
        "\n",
        "\n",
        "\n",
        "#   model.compile(loss='binary_crossentropy',optimizer=optimizer, metrics=['acc'])\n",
        "  model.compile(loss='binary_crossentropy', optimizer = optimizer_adamax , metrics=['accuracy'])\n",
        "\n",
        "  return model"
      ],
      "execution_count": 0,
      "outputs": []
    },
    {
      "cell_type": "code",
      "metadata": {
        "id": "rGqJcmz9Z0iV",
        "colab_type": "code",
        "colab": {}
      },
      "source": [
        "model_os = build_model()"
      ],
      "execution_count": 0,
      "outputs": []
    },
    {
      "cell_type": "code",
      "metadata": {
        "id": "6c-ZCiuZZ0iY",
        "colab_type": "code",
        "colab": {}
      },
      "source": [
        "EPOCHS = 2000\n",
        "\n",
        "history = model_os.fit(data_x.values, data_y,\n",
        "  epochs=EPOCHS, validation_split = 0.2, verbose=1,\n",
        "  use_multiprocessing = True,workers = -1,\n",
        "  batch_size = 1000)"
      ],
      "execution_count": 0,
      "outputs": []
    },
    {
      "cell_type": "code",
      "metadata": {
        "id": "9zinD8LuZ0ic",
        "colab_type": "code",
        "colab": {}
      },
      "source": [
        ""
      ],
      "execution_count": 0,
      "outputs": []
    },
    {
      "cell_type": "code",
      "metadata": {
        "id": "IdAAGvVBZ0ie",
        "colab_type": "code",
        "colab": {}
      },
      "source": [
        ""
      ],
      "execution_count": 0,
      "outputs": []
    },
    {
      "cell_type": "code",
      "metadata": {
        "id": "GaPYxOB4Z0ih",
        "colab_type": "code",
        "colab": {}
      },
      "source": [
        ""
      ],
      "execution_count": 0,
      "outputs": []
    },
    {
      "cell_type": "code",
      "metadata": {
        "id": "UjJ6ERZ-Z0ij",
        "colab_type": "code",
        "colab": {}
      },
      "source": [
        "%%time\n",
        "clf = RandomForestClassifier()\n",
        "\n",
        "clf.fit(X,y)\n",
        "\n",
        "y_predict = clf.predict(data_test)"
      ],
      "execution_count": 0,
      "outputs": []
    },
    {
      "cell_type": "code",
      "metadata": {
        "id": "9H4Xil_HZ0im",
        "colab_type": "code",
        "colab": {}
      },
      "source": [
        "out = pd.DataFrame(y_predict,columns = ['gender'])\n",
        "out['session_id'] = data_test.session_id\n",
        "out.gender.replace({1:'female',0:'male'})"
      ],
      "execution_count": 0,
      "outputs": []
    },
    {
      "cell_type": "code",
      "metadata": {
        "id": "xuw53GIgZ0ip",
        "colab_type": "code",
        "colab": {}
      },
      "source": [
        "out.to_csv('rgd_rf.csv')"
      ],
      "execution_count": 0,
      "outputs": []
    },
    {
      "cell_type": "code",
      "metadata": {
        "id": "Wz-DS_qKZ0it",
        "colab_type": "code",
        "colab": {}
      },
      "source": [
        ""
      ],
      "execution_count": 0,
      "outputs": []
    },
    {
      "cell_type": "code",
      "metadata": {
        "id": "kxg7pYNHZ0iw",
        "colab_type": "code",
        "colab": {}
      },
      "source": [
        ""
      ],
      "execution_count": 0,
      "outputs": []
    },
    {
      "cell_type": "code",
      "metadata": {
        "id": "idJXyLCxZ0iy",
        "colab_type": "code",
        "colab": {}
      },
      "source": [
        ""
      ],
      "execution_count": 0,
      "outputs": []
    },
    {
      "cell_type": "code",
      "metadata": {
        "id": "OxLRMgugZ0i1",
        "colab_type": "code",
        "colab": {}
      },
      "source": [
        ""
      ],
      "execution_count": 0,
      "outputs": []
    },
    {
      "cell_type": "code",
      "metadata": {
        "id": "T061ACzjZ0i4",
        "colab_type": "code",
        "colab": {}
      },
      "source": [
        ""
      ],
      "execution_count": 0,
      "outputs": []
    },
    {
      "cell_type": "code",
      "metadata": {
        "id": "RvrWLkliZ0i7",
        "colab_type": "code",
        "colab": {}
      },
      "source": [
        ""
      ],
      "execution_count": 0,
      "outputs": []
    },
    {
      "cell_type": "code",
      "metadata": {
        "id": "Wz9_q-7LZ0i_",
        "colab_type": "code",
        "colab": {}
      },
      "source": [
        ""
      ],
      "execution_count": 0,
      "outputs": []
    },
    {
      "cell_type": "code",
      "metadata": {
        "id": "8ZuGW2FsZ0jC",
        "colab_type": "code",
        "colab": {}
      },
      "source": [
        ""
      ],
      "execution_count": 0,
      "outputs": []
    },
    {
      "cell_type": "code",
      "metadata": {
        "id": "NdxAIkopZ0jF",
        "colab_type": "code",
        "colab": {}
      },
      "source": [
        ""
      ],
      "execution_count": 0,
      "outputs": []
    },
    {
      "cell_type": "code",
      "metadata": {
        "id": "KdYJVyFdZ0jG",
        "colab_type": "code",
        "colab": {}
      },
      "source": [
        ""
      ],
      "execution_count": 0,
      "outputs": []
    },
    {
      "cell_type": "code",
      "metadata": {
        "id": "ek1GPFN3Z0jI",
        "colab_type": "code",
        "colab": {}
      },
      "source": [
        ""
      ],
      "execution_count": 0,
      "outputs": []
    },
    {
      "cell_type": "code",
      "metadata": {
        "id": "B3pgEFeFZ0jJ",
        "colab_type": "code",
        "colab": {}
      },
      "source": [
        ""
      ],
      "execution_count": 0,
      "outputs": []
    },
    {
      "cell_type": "code",
      "metadata": {
        "id": "MrKPcQxvZ0jL",
        "colab_type": "code",
        "colab": {}
      },
      "source": [
        ""
      ],
      "execution_count": 0,
      "outputs": []
    },
    {
      "cell_type": "code",
      "metadata": {
        "id": "odmnv_FoZ0jP",
        "colab_type": "code",
        "colab": {}
      },
      "source": [
        ""
      ],
      "execution_count": 0,
      "outputs": []
    },
    {
      "cell_type": "code",
      "metadata": {
        "id": "lJe3iUVzZ0jT",
        "colab_type": "code",
        "colab": {}
      },
      "source": [
        ""
      ],
      "execution_count": 0,
      "outputs": []
    },
    {
      "cell_type": "code",
      "metadata": {
        "id": "D60vzCeYZ0jY",
        "colab_type": "code",
        "colab": {}
      },
      "source": [
        ""
      ],
      "execution_count": 0,
      "outputs": []
    },
    {
      "cell_type": "code",
      "metadata": {
        "id": "ua3xTzilZ0ja",
        "colab_type": "code",
        "colab": {}
      },
      "source": [
        ""
      ],
      "execution_count": 0,
      "outputs": []
    },
    {
      "cell_type": "code",
      "metadata": {
        "id": "0VEv810AZ0je",
        "colab_type": "code",
        "colab": {}
      },
      "source": [
        ""
      ],
      "execution_count": 0,
      "outputs": []
    },
    {
      "cell_type": "code",
      "metadata": {
        "id": "PxlmoZCWZ0jh",
        "colab_type": "code",
        "colab": {}
      },
      "source": [
        ""
      ],
      "execution_count": 0,
      "outputs": []
    },
    {
      "cell_type": "code",
      "metadata": {
        "id": "I7v_VC8fZ0jl",
        "colab_type": "code",
        "colab": {}
      },
      "source": [
        ""
      ],
      "execution_count": 0,
      "outputs": []
    },
    {
      "cell_type": "code",
      "metadata": {
        "id": "co141nL8Z0jo",
        "colab_type": "code",
        "colab": {}
      },
      "source": [
        ""
      ],
      "execution_count": 0,
      "outputs": []
    },
    {
      "cell_type": "code",
      "metadata": {
        "id": "h9ggDHXdZ0jr",
        "colab_type": "code",
        "colab": {}
      },
      "source": [
        ""
      ],
      "execution_count": 0,
      "outputs": []
    },
    {
      "cell_type": "code",
      "metadata": {
        "id": "LorPVla7Z0jt",
        "colab_type": "code",
        "colab": {}
      },
      "source": [
        ""
      ],
      "execution_count": 0,
      "outputs": []
    },
    {
      "cell_type": "code",
      "metadata": {
        "id": "FUlQQqa3Z0ju",
        "colab_type": "code",
        "colab": {}
      },
      "source": [
        ""
      ],
      "execution_count": 0,
      "outputs": []
    },
    {
      "cell_type": "code",
      "metadata": {
        "id": "wCswD6nyZ0jw",
        "colab_type": "code",
        "colab": {}
      },
      "source": [
        ""
      ],
      "execution_count": 0,
      "outputs": []
    },
    {
      "cell_type": "code",
      "metadata": {
        "id": "DVsKjsr1Z0jy",
        "colab_type": "code",
        "colab": {}
      },
      "source": [
        ""
      ],
      "execution_count": 0,
      "outputs": []
    },
    {
      "cell_type": "code",
      "metadata": {
        "id": "N676JZvtZ0jz",
        "colab_type": "code",
        "colab": {}
      },
      "source": [
        ""
      ],
      "execution_count": 0,
      "outputs": []
    },
    {
      "cell_type": "code",
      "metadata": {
        "id": "3GtRHH9lZ0j0",
        "colab_type": "code",
        "colab": {}
      },
      "source": [
        ""
      ],
      "execution_count": 0,
      "outputs": []
    },
    {
      "cell_type": "code",
      "metadata": {
        "id": "5eFZEXsNZ0j2",
        "colab_type": "code",
        "colab": {}
      },
      "source": [
        ""
      ],
      "execution_count": 0,
      "outputs": []
    },
    {
      "cell_type": "code",
      "metadata": {
        "id": "vrTCuDUqZ0j3",
        "colab_type": "code",
        "colab": {}
      },
      "source": [
        ""
      ],
      "execution_count": 0,
      "outputs": []
    },
    {
      "cell_type": "code",
      "metadata": {
        "id": "bDwXMjSvZ0j5",
        "colab_type": "code",
        "colab": {}
      },
      "source": [
        ""
      ],
      "execution_count": 0,
      "outputs": []
    },
    {
      "cell_type": "code",
      "metadata": {
        "id": "12Dy1brzZ0j8",
        "colab_type": "code",
        "colab": {}
      },
      "source": [
        ""
      ],
      "execution_count": 0,
      "outputs": []
    },
    {
      "cell_type": "code",
      "metadata": {
        "id": "U8Gl7m24Z0j-",
        "colab_type": "code",
        "colab": {}
      },
      "source": [
        ""
      ],
      "execution_count": 0,
      "outputs": []
    },
    {
      "cell_type": "code",
      "metadata": {
        "id": "O3e9uvYMZ0j_",
        "colab_type": "code",
        "colab": {}
      },
      "source": [
        ""
      ],
      "execution_count": 0,
      "outputs": []
    },
    {
      "cell_type": "code",
      "metadata": {
        "id": "8pH3aRYwZ0kA",
        "colab_type": "code",
        "colab": {}
      },
      "source": [
        ""
      ],
      "execution_count": 0,
      "outputs": []
    },
    {
      "cell_type": "code",
      "metadata": {
        "id": "974oOfo1Z0kC",
        "colab_type": "code",
        "colab": {}
      },
      "source": [
        ""
      ],
      "execution_count": 0,
      "outputs": []
    },
    {
      "cell_type": "code",
      "metadata": {
        "id": "dThz8ixqZ0kD",
        "colab_type": "code",
        "colab": {}
      },
      "source": [
        ""
      ],
      "execution_count": 0,
      "outputs": []
    },
    {
      "cell_type": "code",
      "metadata": {
        "id": "VVVSKh0PZ0kF",
        "colab_type": "code",
        "colab": {}
      },
      "source": [
        ""
      ],
      "execution_count": 0,
      "outputs": []
    },
    {
      "cell_type": "code",
      "metadata": {
        "id": "vZAdM_vKZ0kG",
        "colab_type": "code",
        "colab": {}
      },
      "source": [
        ""
      ],
      "execution_count": 0,
      "outputs": []
    },
    {
      "cell_type": "code",
      "metadata": {
        "id": "Rs1sL29rZ0kH",
        "colab_type": "code",
        "colab": {}
      },
      "source": [
        ""
      ],
      "execution_count": 0,
      "outputs": []
    },
    {
      "cell_type": "code",
      "metadata": {
        "id": "Wy3LriyGZ0kJ",
        "colab_type": "code",
        "colab": {}
      },
      "source": [
        ""
      ],
      "execution_count": 0,
      "outputs": []
    },
    {
      "cell_type": "code",
      "metadata": {
        "id": "aP-yP1OHZ0kK",
        "colab_type": "code",
        "colab": {}
      },
      "source": [
        ""
      ],
      "execution_count": 0,
      "outputs": []
    },
    {
      "cell_type": "code",
      "metadata": {
        "id": "-45eBb7cZ0kM",
        "colab_type": "code",
        "colab": {}
      },
      "source": [
        ""
      ],
      "execution_count": 0,
      "outputs": []
    },
    {
      "cell_type": "code",
      "metadata": {
        "id": "-lLS2jXbZ0kO",
        "colab_type": "code",
        "colab": {}
      },
      "source": [
        ""
      ],
      "execution_count": 0,
      "outputs": []
    },
    {
      "cell_type": "code",
      "metadata": {
        "id": "t7gTAoiAZ0kR",
        "colab_type": "code",
        "colab": {}
      },
      "source": [
        ""
      ],
      "execution_count": 0,
      "outputs": []
    },
    {
      "cell_type": "code",
      "metadata": {
        "id": "Mg6S0bA3Z0kS",
        "colab_type": "code",
        "colab": {}
      },
      "source": [
        ""
      ],
      "execution_count": 0,
      "outputs": []
    },
    {
      "cell_type": "code",
      "metadata": {
        "id": "FfJG2x1mZ0kU",
        "colab_type": "code",
        "colab": {}
      },
      "source": [
        ""
      ],
      "execution_count": 0,
      "outputs": []
    },
    {
      "cell_type": "code",
      "metadata": {
        "id": "UKApu5CcZ0kW",
        "colab_type": "code",
        "colab": {}
      },
      "source": [
        ""
      ],
      "execution_count": 0,
      "outputs": []
    },
    {
      "cell_type": "code",
      "metadata": {
        "id": "B5KG9d7kZ0kY",
        "colab_type": "code",
        "colab": {}
      },
      "source": [
        ""
      ],
      "execution_count": 0,
      "outputs": []
    },
    {
      "cell_type": "code",
      "metadata": {
        "id": "BolDP-OhZ0ka",
        "colab_type": "code",
        "colab": {}
      },
      "source": [
        ""
      ],
      "execution_count": 0,
      "outputs": []
    },
    {
      "cell_type": "code",
      "metadata": {
        "id": "a3lu2SRBZ0kc",
        "colab_type": "code",
        "colab": {}
      },
      "source": [
        ""
      ],
      "execution_count": 0,
      "outputs": []
    },
    {
      "cell_type": "code",
      "metadata": {
        "id": "FO5GcGWkZ0ke",
        "colab_type": "code",
        "colab": {}
      },
      "source": [
        ""
      ],
      "execution_count": 0,
      "outputs": []
    },
    {
      "cell_type": "code",
      "metadata": {
        "id": "VYEWehIrZ0kh",
        "colab_type": "code",
        "colab": {}
      },
      "source": [
        ""
      ],
      "execution_count": 0,
      "outputs": []
    },
    {
      "cell_type": "code",
      "metadata": {
        "id": "MI8W98OpZ0kj",
        "colab_type": "code",
        "colab": {}
      },
      "source": [
        ""
      ],
      "execution_count": 0,
      "outputs": []
    },
    {
      "cell_type": "code",
      "metadata": {
        "id": "A7NABWnjZ0kl",
        "colab_type": "code",
        "colab": {}
      },
      "source": [
        ""
      ],
      "execution_count": 0,
      "outputs": []
    },
    {
      "cell_type": "code",
      "metadata": {
        "id": "7RqXK4qKZ0kn",
        "colab_type": "code",
        "colab": {}
      },
      "source": [
        ""
      ],
      "execution_count": 0,
      "outputs": []
    },
    {
      "cell_type": "code",
      "metadata": {
        "id": "yn7JDir_Z0kp",
        "colab_type": "code",
        "colab": {}
      },
      "source": [
        ""
      ],
      "execution_count": 0,
      "outputs": []
    },
    {
      "cell_type": "code",
      "metadata": {
        "id": "MsvhMxfTZ0kr",
        "colab_type": "code",
        "colab": {}
      },
      "source": [
        ""
      ],
      "execution_count": 0,
      "outputs": []
    },
    {
      "cell_type": "code",
      "metadata": {
        "id": "LeWCIOIlZ0ks",
        "colab_type": "code",
        "colab": {}
      },
      "source": [
        ""
      ],
      "execution_count": 0,
      "outputs": []
    },
    {
      "cell_type": "code",
      "metadata": {
        "id": "9yD_b4WjZ0kw",
        "colab_type": "code",
        "colab": {}
      },
      "source": [
        ""
      ],
      "execution_count": 0,
      "outputs": []
    }
  ]
}