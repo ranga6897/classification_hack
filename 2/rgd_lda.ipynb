{
 "cells": [
  {
   "cell_type": "code",
   "execution_count": 6,
   "metadata": {},
   "outputs": [],
   "source": [
    "import pandas as pd\n",
    "import numpy as np\n",
    "\n",
    "import warnings\n",
    "warnings.filterwarnings('ignore')"
   ]
  },
  {
   "cell_type": "code",
   "execution_count": 23,
   "metadata": {},
   "outputs": [],
   "source": [
    "from sklearn.preprocessing import MinMaxScaler,StandardScaler\n",
    "from sklearn.model_selection import train_test_split\n",
    "from sklearn.discriminant_analysis import LinearDiscriminantAnalysis\n",
    "from sklearn.model_selection import train_test_split\n",
    "from sklearn.tree import DecisionTreeClassifier\n",
    "from sklearn.ensemble import RandomForestClassifier,AdaBoostClassifier,ExtraTreesClassifier\n",
    "from xgboost import XGBRFClassifier,XGBClassifier\n",
    "from sklearn.neighbors import KNeighborsClassifier\n",
    "from sklearn.metrics import classification_report,confusion_matrix,accuracy_score,roc_curve,auc  "
   ]
  },
  {
   "cell_type": "code",
   "execution_count": 35,
   "metadata": {},
   "outputs": [],
   "source": [
    "data_train = pd.read_csv('train.csv')\n",
    "data_test = pd.read_csv('test.csv')"
   ]
  },
  {
   "cell_type": "code",
   "execution_count": 37,
   "metadata": {},
   "outputs": [],
   "source": [
    "def drop(dataset):\n",
    "    data = dataset.drop(columns=['loan_id','financial_institution','origination_date','first_payment_date','number_of_borrowers','m1','m2','m3','m4','m5','m6','m7','m8','m9','m10','m11','m12'])\n",
    "    \n",
    "    return data"
   ]
  },
  {
   "cell_type": "code",
   "execution_count": 38,
   "metadata": {},
   "outputs": [],
   "source": [
    "def eda(dataset):\n",
    "    data = dataset.copy(deep = True)\n",
    "    \n",
    "    for i in ['m1','m2','m3','m4','m5','m6','m7','m8','m9','m10','m11','m12']:\n",
    "        data[i] = data[i] > 0\n",
    "        data[i] = data[i].astype('int')\n",
    "    \n",
    "    data['last5_sum'] = (data.m9 +data.m10 +data.m11 +data.m12) \n",
    "    data['last5'] = (data.m9 +data.m10 +data.m11 +data.m12) > 0\n",
    "    data['last5'] = data['last5'].astype('int')\n",
    "\n",
    "    data = drop(data)\n",
    "    \n",
    "    data_dummies = pd.get_dummies(data)\n",
    "    \n",
    "    return data_dummies"
   ]
  },
  {
   "cell_type": "code",
   "execution_count": 46,
   "metadata": {},
   "outputs": [],
   "source": [
    "data_train_dummies = eda(data_train)"
   ]
  },
  {
   "cell_type": "code",
   "execution_count": 40,
   "metadata": {},
   "outputs": [],
   "source": [
    "X_nothing = data_train_dummies.drop('m13',axis= 1)\n",
    "y = data_train_dummies['m13']\n",
    "\n",
    "X_train,X_val, y_train,y_val = train_test_split(X_nothing,y, random_state = 0, train_size = 0.9)"
   ]
  },
  {
   "cell_type": "code",
   "execution_count": 41,
   "metadata": {},
   "outputs": [],
   "source": [
    "sc = StandardScaler()\n",
    "\n",
    "X_train = sc.fit_transform(X_train)\n",
    "X_val = sc.transform(X_val)"
   ]
  },
  {
   "cell_type": "code",
   "execution_count": 42,
   "metadata": {},
   "outputs": [
    {
     "name": "stdout",
     "output_type": "stream",
     "text": [
      "0.9958642081681889\n",
      "auc : 0.7567029151754305\n"
     ]
    }
   ],
   "source": [
    "\n",
    "model = LinearDiscriminantAnalysis(n_components=None, priors=None, shrinkage=0.0001,\n",
    "                           solver='eigen', store_covariance=False, tol=0.0001)\n",
    "\n",
    "model.fit(X_train, y_train)\n",
    "\n",
    "y_predict = model.predict(X_val)\n",
    "# print(confusion_matrix(y_val,y_predict)) \n",
    "print(accuracy_score(y_val,y_predict))\n",
    "    \n",
    "fpr, tpr, thresholds = roc_curve(y_val, y_predict, pos_label=None)\n",
    "print('auc :',auc(fpr, tpr))\n",
    "    \n",
    "# print(classification_report(y_val, y_predict))"
   ]
  },
  {
   "cell_type": "code",
   "execution_count": 43,
   "metadata": {},
   "outputs": [],
   "source": [
    "data_test_dummies = eda(data_test)\n",
    "data_test_sc = sc.transform(data_test_dummies)"
   ]
  },
  {
   "cell_type": "code",
   "execution_count": 44,
   "metadata": {},
   "outputs": [],
   "source": [
    "predict_test = model.predict(data_test_sc)"
   ]
  },
  {
   "cell_type": "code",
   "execution_count": 57,
   "metadata": {},
   "outputs": [],
   "source": [
    "output = pd.DataFrame(data = data_test.loan_id)"
   ]
  },
  {
   "cell_type": "code",
   "execution_count": 59,
   "metadata": {},
   "outputs": [],
   "source": [
    "output['m13'] = predict_test"
   ]
  },
  {
   "cell_type": "code",
   "execution_count": 61,
   "metadata": {},
   "outputs": [],
   "source": [
    "output.to_csv('rgd_ldr.csv')"
   ]
  },
  {
   "cell_type": "code",
   "execution_count": null,
   "metadata": {},
   "outputs": [],
   "source": []
  }
 ],
 "metadata": {
  "kernelspec": {
   "display_name": "Python 3",
   "language": "python",
   "name": "python3"
  },
  "language_info": {
   "codemirror_mode": {
    "name": "ipython",
    "version": 3
   },
   "file_extension": ".py",
   "mimetype": "text/x-python",
   "name": "python",
   "nbconvert_exporter": "python",
   "pygments_lexer": "ipython3",
   "version": "3.7.7"
  }
 },
 "nbformat": 4,
 "nbformat_minor": 2
}
