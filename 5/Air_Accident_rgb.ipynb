{
 "cells": [
  {
   "cell_type": "code",
   "execution_count": 18,
   "metadata": {},
   "outputs": [],
   "source": [
    "import pandas as pd\n",
    "import numpy as np\n",
    "import matplotlib.pyplot as plt\n",
    "plt.style.use('ggplot')\n",
    "import seaborn as sns\n",
    "\n",
    "import warnings\n",
    "warnings.filterwarnings('ignore')\n",
    "\n",
    "pd.set_option('display.max_columns',None)\n",
    "# pd.set_option('display.max_rows',None)"
   ]
  },
  {
   "cell_type": "code",
   "execution_count": 2,
   "metadata": {},
   "outputs": [],
   "source": [
    "data_train = pd.read_csv('train.csv')\n",
    "data_test = pd.read_csv('test.csv')"
   ]
  },
  {
   "cell_type": "code",
   "execution_count": 3,
   "metadata": {},
   "outputs": [],
   "source": [
    "data_train_copy = data_train.copy(deep = True)\n",
    "data_test_copy = data_test.copy(deep = True)"
   ]
  },
  {
   "cell_type": "code",
   "execution_count": 4,
   "metadata": {},
   "outputs": [],
   "source": [
    "data_train.Severity.replace({'Minor_Damage_And_Injuries' : 1,\n",
    "                             'Significant_Damage_And_Serious_Injuries' :2,\n",
    "                             'Significant_Damage_And_Fatalities' :3,\n",
    "                             'Highly_Fatal_And_Damaging' : 4 }, inplace=True) # add main"
   ]
  },
  {
   "cell_type": "code",
   "execution_count": 5,
   "metadata": {},
   "outputs": [],
   "source": [
    "def clean(dataset):\n",
    "    data = dataset.copy(deep = True)\n",
    "    data = data.drop(columns= ['Accident_ID'])   #add main\n",
    "\n",
    "    data['Accident_Type_Code'] = data['Accident_Type_Code'].astype('object')\n",
    "    data['Violations'] = data['Violations'].astype('object')\n",
    "    data = pd.get_dummies(data )   ## add main\n",
    "    \n",
    "    return data"
   ]
  },
  {
   "cell_type": "code",
   "execution_count": 6,
   "metadata": {},
   "outputs": [],
   "source": [
    "from sklearn.model_selection import train_test_split,GridSearchCV,RandomizedSearchCV\n",
    "from sklearn.tree import DecisionTreeClassifier, ExtraTreeClassifier\n",
    "from sklearn.ensemble import RandomForestClassifier,ExtraTreesClassifier,AdaBoostClassifier\n",
    "from xgboost import XGBRFClassifier,XGBClassifier\n",
    "from sklearn.metrics import classification_report,confusion_matrix,accuracy_score,roc_curve,auc,recall_score,classification_report"
   ]
  },
  {
   "cell_type": "code",
   "execution_count": 7,
   "metadata": {},
   "outputs": [],
   "source": [
    "train_data = clean(data_train)"
   ]
  },
  {
   "cell_type": "code",
   "execution_count": 8,
   "metadata": {},
   "outputs": [],
   "source": [
    "X = train_data.drop(columns=['Severity'])\n",
    "y = train_data.Severity"
   ]
  },
  {
   "cell_type": "code",
   "execution_count": 9,
   "metadata": {},
   "outputs": [],
   "source": [
    "X_train, X_val, y_train, y_val = train_test_split(X,y, random_state = 6, train_size = .8, stratify = y)"
   ]
  },
  {
   "cell_type": "code",
   "execution_count": 10,
   "metadata": {},
   "outputs": [
    {
     "name": "stdout",
     "output_type": "stream",
     "text": [
      "[[478  11   6  10]\n",
      " [ 24 505   3  14]\n",
      " [  4   5 324   6]\n",
      " [ 15  11  18 566]]\n",
      "0.9365\n",
      "              precision    recall  f1-score   support\n",
      "\n",
      "           1       0.92      0.95      0.93       505\n",
      "           2       0.95      0.92      0.94       546\n",
      "           3       0.92      0.96      0.94       339\n",
      "           4       0.95      0.93      0.94       610\n",
      "\n",
      "    accuracy                           0.94      2000\n",
      "   macro avg       0.93      0.94      0.94      2000\n",
      "weighted avg       0.94      0.94      0.94      2000\n",
      "\n"
     ]
    }
   ],
   "source": [
    "model = DecisionTreeClassifier(ccp_alpha=0.0, class_weight=None, criterion='entropy',           ## add main\n",
    "                       max_depth=11, max_features=19, max_leaf_nodes=None,\n",
    "                       min_impurity_decrease=0.0, min_impurity_split=0.05,\n",
    "                       min_samples_leaf=5, min_samples_split=15,\n",
    "                       min_weight_fraction_leaf=0.0, presort='deprecated',\n",
    "                       random_state=5935, splitter='best')\n",
    "\n",
    "\n",
    "model.fit(X_train, y_train)\n",
    "\n",
    "y_predict = model.predict(X_val)\n",
    "print(confusion_matrix(y_val,y_predict)) \n",
    "print(accuracy_score(y_val,y_predict))\n",
    "print(classification_report(y_val,y_predict))"
   ]
  },
  {
   "cell_type": "code",
   "execution_count": 11,
   "metadata": {},
   "outputs": [
    {
     "name": "stdout",
     "output_type": "stream",
     "text": [
      "[[480   9   3  13]\n",
      " [ 19 513   1  13]\n",
      " [  5   4 328   2]\n",
      " [  3   5  19 583]]\n",
      "0.952\n",
      "              precision    recall  f1-score   support\n",
      "\n",
      "           1       0.95      0.95      0.95       505\n",
      "           2       0.97      0.94      0.95       546\n",
      "           3       0.93      0.97      0.95       339\n",
      "           4       0.95      0.96      0.95       610\n",
      "\n",
      "    accuracy                           0.95      2000\n",
      "   macro avg       0.95      0.95      0.95      2000\n",
      "weighted avg       0.95      0.95      0.95      2000\n",
      "\n"
     ]
    }
   ],
   "source": [
    "model =RandomForestClassifier(bootstrap=True, ccp_alpha=0.0, class_weight=None,       ##add main\n",
    "                       criterion='entropy', max_depth=12, max_features=16,\n",
    "                       max_leaf_nodes=None, max_samples=None,\n",
    "                       min_impurity_decrease=0.0, min_impurity_split=None,\n",
    "                       min_samples_leaf=3, min_samples_split=10,\n",
    "                       min_weight_fraction_leaf=0.0, n_estimators=100,\n",
    "                       n_jobs=-1, oob_score=False, random_state=61,\n",
    "                       verbose=0, warm_start=False)\n",
    "\n",
    "model.fit(X_train, y_train)\n",
    "\n",
    "y_predict = model.predict(X_val)\n",
    "print(confusion_matrix(y_val,y_predict)) \n",
    "print(accuracy_score(y_val,y_predict))\n",
    "print(classification_report(y_val,y_predict))\n"
   ]
  },
  {
   "cell_type": "code",
   "execution_count": 12,
   "metadata": {},
   "outputs": [
    {
     "name": "stdout",
     "output_type": "stream",
     "text": [
      "[[488  10   1   6]\n",
      " [ 18 518   4   6]\n",
      " [  4   2 329   4]\n",
      " [  6   3  16 585]]\n",
      "0.96\n",
      "              precision    recall  f1-score   support\n",
      "\n",
      "           1       0.95      0.97      0.96       505\n",
      "           2       0.97      0.95      0.96       546\n",
      "           3       0.94      0.97      0.96       339\n",
      "           4       0.97      0.96      0.97       610\n",
      "\n",
      "    accuracy                           0.96      2000\n",
      "   macro avg       0.96      0.96      0.96      2000\n",
      "weighted avg       0.96      0.96      0.96      2000\n",
      "\n"
     ]
    }
   ],
   "source": [
    "model =XGBClassifier(base_score=0.5, booster='gbtree', colsample_bylevel=1,            ## add main\n",
    "              colsample_bynode=1, colsample_bytree=0.9, gamma=0.1,\n",
    "              learning_rate=0.5, max_delta_step=0, max_depth=10,\n",
    "              min_child_weight=2, missing=None, n_estimators=50, n_jobs=-1,\n",
    "              nthread=None, objective='binary:logistic', random_state=6,\n",
    "              reg_alpha=0, reg_lambda=1, scale_pos_weight=1, seed=None,\n",
    "              silent=None, subsample=0.7, verbosity=0)\n",
    "\n",
    "model.fit(X_train, y_train)\n",
    "\n",
    "y_predict = model.predict(X_val)\n",
    "print(confusion_matrix(y_val,y_predict)) \n",
    "print(accuracy_score(y_val,y_predict))\n",
    "print(classification_report(y_val,y_predict))\n",
    "\n"
   ]
  },
  {
   "cell_type": "code",
   "execution_count": null,
   "metadata": {},
   "outputs": [],
   "source": []
  },
  {
   "cell_type": "code",
   "execution_count": 13,
   "metadata": {},
   "outputs": [],
   "source": [
    "X_test = clean(data_test)"
   ]
  },
  {
   "cell_type": "code",
   "execution_count": 14,
   "metadata": {},
   "outputs": [],
   "source": [
    "y_test = model.predict(X_test)"
   ]
  },
  {
   "cell_type": "code",
   "execution_count": 15,
   "metadata": {},
   "outputs": [],
   "source": [
    "data_test_copy['Severity'] = y_test"
   ]
  },
  {
   "cell_type": "code",
   "execution_count": 16,
   "metadata": {},
   "outputs": [],
   "source": [
    "data_test_copy.Severity.replace({1:'Minor_Damage_And_Injuries' ,\n",
    "                             2:'Significant_Damage_And_Serious_Injuries',\n",
    "                             3:'Significant_Damage_And_Fatalities',\n",
    "                             4:'Highly_Fatal_And_Damaging' },inplace = True)"
   ]
  },
  {
   "cell_type": "code",
   "execution_count": 17,
   "metadata": {},
   "outputs": [],
   "source": [
    "data_test_copy[['Accident_ID','Severity']].to_csv('rgd_xgb_air_accident.csv')"
   ]
  },
  {
   "cell_type": "code",
   "execution_count": null,
   "metadata": {},
   "outputs": [],
   "source": []
  },
  {
   "cell_type": "code",
   "execution_count": null,
   "metadata": {},
   "outputs": [],
   "source": []
  },
  {
   "cell_type": "code",
   "execution_count": null,
   "metadata": {},
   "outputs": [],
   "source": []
  },
  {
   "cell_type": "code",
   "execution_count": null,
   "metadata": {},
   "outputs": [],
   "source": []
  }
 ],
 "metadata": {
  "kernelspec": {
   "display_name": "Python 3",
   "language": "python",
   "name": "python3"
  },
  "language_info": {
   "codemirror_mode": {
    "name": "ipython",
    "version": 3
   },
   "file_extension": ".py",
   "mimetype": "text/x-python",
   "name": "python",
   "nbconvert_exporter": "python",
   "pygments_lexer": "ipython3",
   "version": "3.7.7"
  }
 },
 "nbformat": 4,
 "nbformat_minor": 2
}
